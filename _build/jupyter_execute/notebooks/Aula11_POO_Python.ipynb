{
 "cells": [
  {
   "cell_type": "markdown",
   "metadata": {},
   "source": [
    "```{thebe-init}\n",
    "---\n",
    "thebe: true\n",
    "---"
   ]
  },
  {
   "attachments": {},
   "cell_type": "markdown",
   "metadata": {},
   "source": [
    "# Programação orientada a objetos - Parte 1 \n",
    "\n",
    "Na evolução das linguagens de programação, a necessidade de se representar e manipular informações complexas resultou no conceito de classes e objetos, onde classes servem como abstrações (representação) e objetos seriam instâncias de classes que mantém e permitem a manipulação da informação.\n",
    "\n"
   ]
  },
  {
   "cell_type": "markdown",
   "metadata": {},
   "source": [
    "![image.png](Figuras/aula11/img1.png)"
   ]
  },
  {
   "cell_type": "markdown",
   "metadata": {},
   "source": [
    "Em Python, toda informação que usamos é representada na forma de um objeto. Assim, o número 6 é um objeto da classe int, o número 3.14 é um objeto da classe float, e assim por diante."
   ]
  },
  {
   "cell_type": "code",
   "execution_count": null,
   "metadata": {},
   "outputs": [],
   "source": [
    "print(type(6))  # type mostra o tipo do objeto passado como argumento\n",
    "print(id(6))    # mostra o local na memória (endereço) onde o objeto está armazenado\n",
    "i = 6\n",
    "j = 6\n",
    "print(id(i))    # note que i e j correspondem ao mesmo objeto 6\n",
    "print(id(j))\n"
   ]
  },
  {
   "attachments": {},
   "cell_type": "markdown",
   "metadata": {},
   "source": [
    "Em computação, criar um objeto significa criar uma instância de uma classe. \n",
    "\n",
    "Linguagens orientadas a objetos permitem a definição de novas classes.\n",
    "\n",
    "Uma classe é uma abstração de alguma “coisa”, que possui um estado e comportamento. \n",
    "\n",
    "Um estado é definido por um conjunto de variáveis chamadas de atributos. \n",
    "\n",
    "Esses estados podem ser alterados por meio de “ações” sobre o objeto, que definem seu comportamento. \n",
    "\n",
    "Essas ações são funções chamadas de “métodos”.\n",
    "\n"
   ]
  },
  {
   "cell_type": "markdown",
   "metadata": {},
   "source": [
    "![image.png](Figuras/aula11/img2.png)"
   ]
  },
  {
   "attachments": {},
   "cell_type": "markdown",
   "metadata": {},
   "source": [
    "![Alt text](Figuras/image-1.png)"
   ]
  },
  {
   "cell_type": "markdown",
   "metadata": {},
   "source": [
    "![image.png](Figuras/aula11/img4.png)"
   ]
  },
  {
   "attachments": {},
   "cell_type": "markdown",
   "metadata": {},
   "source": [
    "![Alt text](Figuras/image-4.png)"
   ]
  },
  {
   "cell_type": "markdown",
   "metadata": {},
   "source": [
    "![image.png](Figuras/aula11/img6.png)"
   ]
  },
  {
   "cell_type": "markdown",
   "metadata": {},
   "source": [
    "Por exemplo, para representar um carro podemos definir:\n",
    "\n",
    "- uma classe Carro:\n",
    "- com os atributos: ano, modelo, cor, e vel\n",
    "- e os métodos:\n",
    "    - acelera(vel): acelera até vel\n",
    "    - pare(): vel = 0"
   ]
  },
  {
   "attachments": {},
   "cell_type": "markdown",
   "metadata": {},
   "source": [
    "![Alt text](Figuras/image-5.png)"
   ]
  },
  {
   "cell_type": "code",
   "execution_count": null,
   "metadata": {},
   "outputs": [],
   "source": [
    "class Carro:\n",
    "    pass\n",
    "\n",
    "# teste da classe Carro\n",
    "fusca    = Carro()   # cria um objeto referenciado pela variavel fusca\n",
    "brasilia = Carro()\n",
    "\n",
    "fusca.ano = 1968\n",
    "fusca.modelo = 'Fusca'\n",
    "fusca.cor = 'preto'\n",
    "\n",
    "brasilia.ano = 1981\n",
    "brasilia.modelo = 'Brasilia'\n",
    "brasilia.cor = 'amarela'\n",
    "\n"
   ]
  },
  {
   "cell_type": "code",
   "execution_count": null,
   "metadata": {},
   "outputs": [],
   "source": [
    "novo_fusca = fusca\n",
    "\n",
    "print(\"Fusca igual a brasilia? > \", fusca == brasilia)\n",
    "print(\"Fusca igual a novo_fusca? > \", fusca == novo_fusca)\n",
    "\n",
    "fusca.ano += 10\n",
    "\n",
    "print(\"fusca.ano = \", fusca.ano)\n",
    "print(\"novo_fusca.ano = \", novo_fusca.ano)"
   ]
  },
  {
   "attachments": {},
   "cell_type": "markdown",
   "metadata": {},
   "source": [
    "## O método especial __init__ (construtor)\n",
    "\n",
    "Como sabemos que todos os carros que queremos representar possuem as propriedades “cor”, “ano”, e “modelo”, podemos deixar essas propriedades como atributos da classe e inicializá-las quando um objeto é instanciado (criado). \n",
    "\n",
    "Para isso, vamos utilizar o método especial __init__, conhecido como construtor da classe.\n",
    "\n"
   ]
  },
  {
   "cell_type": "code",
   "execution_count": 6,
   "metadata": {},
   "outputs": [
    {
     "name": "stdout",
     "output_type": "stream",
     "text": [
      "1981\n",
      "1991\n"
     ]
    }
   ],
   "source": [
    "class Carro:\n",
    "    def __init__(self, m, a, c):\n",
    "        self.modelo = m\n",
    "        self.ano    = a\n",
    "        self.cor    = c\n",
    "\n",
    "brasilia = Carro('Brasilia', 1968, 'amarela')\n",
    "\n",
    "class Fusca(Carro):\n",
    "    pass\n",
    "   \n",
    "fusca_padrao = Fusca('Fusca', 1981, 'preto')\n",
    "\n",
    "novo_fusca = Fusca('Novo_fusca',1981,'azul')\n",
    "\n",
    "novo_fusca.ano += 10   # observe que podemos acessar atributos de fusca\n",
    "\n",
    "print(fusca_padrao.ano)\n",
    "\n",
    "print(novo_fusca.ano)"
   ]
  },
  {
   "attachments": {},
   "cell_type": "markdown",
   "metadata": {},
   "source": [
    "## Mas o que é esse self?\n",
    "\n",
    "Todo método de uma classe recebe como primeiro parâmetro uma referência à instância que chama o método, permitindo assim que o objeto acesse os seus próprios atributos e métodos. \n",
    "\n",
    "Por convenção, chamamos esse primeiro parâmetro de self, mas qualquer outro nome poderia ser utilizado.\n",
    "\n",
    "O método especial __init__ é chamado automaticamente após a criação de um objeto, e no caso de um Carro, na nova instância são criados os atributos ‘modelo’, ‘ano’ e ‘cor’ com os valores dados como argumentos do construtor (no caso Carro(“Brasilia”, 1968, “amarela”)).\n",
    "\n",
    "Assim, no corpo de qualquer método, um atributo pode ser criado, acessado ou modificado usando self.nome_do_atributo.\n"
   ]
  },
  {
   "attachments": {},
   "cell_type": "markdown",
   "metadata": {},
   "source": [
    "Para exemplificar a criação de outros métodos e entender melhor o papel do self vamos criar os métodos imprima, acelere e pare. Por ser um exemplo mais elaborado, vamos também colocar os testes dentro da função main."
   ]
  },
  {
   "cell_type": "code",
   "execution_count": 7,
   "metadata": {},
   "outputs": [
    {
     "name": "stdout",
     "output_type": "stream",
     "text": [
      "fuscao preto indo muito raaaaaapiiiiiiiidoooooo!\n"
     ]
    }
   ],
   "source": [
    "def main():\n",
    "    brasilia = Carro('brasilia', 1968, 'amarela', 80)\n",
    "    fuscao = Carro('fuscao', 1981, 'preto', 95)\n",
    "\n",
    "#Na função main, brasilia e fuscao são instâncias de Carro. Para chamar o método acelere de Carro, usamos a notação:\n",
    " #   Carro.acelere(brasilia, 40)    \n",
    " #    Carro.acelere(fuscao, 50)\n",
    " #   Carro.acelere(brasilia, 80)\n",
    "    \n",
    " #   Carro.pare(brasilia)\n",
    "    Carro.acelere(fuscao, 100)\n",
    "\n",
    "    \n",
    "class Carro:\n",
    "    def __init__(self, m, a, c, vm):\n",
    "        self.modelo = m\n",
    "        self.ano    = a\n",
    "        self.cor    = c\n",
    "        self.vel    = 0\n",
    "        self.maxV   = vm  # velocidade maxima\n",
    "\n",
    "    def imprima(self):\n",
    "        if self.vel == 0: # parado da para ver o ano\n",
    "            print( \"%s %s %d\"%(self.modelo, self.cor, self.ano)     )\n",
    "        elif self.vel < self.maxV:\n",
    "            print( \"%s %s indo a %d Km/h\"%(self.modelo, self.cor, self.vel) )\n",
    "        else:\n",
    "            print( \"%s %s indo muito raaaaaapiiiiiiiidoooooo!\"%(self.modelo, self.cor))\n",
    "\n",
    "    def acelere(self, v):\n",
    "        self.vel = v\n",
    "        if self.vel > self.maxV:\n",
    "            self.vel = self.maxV\n",
    "        Carro.imprima(self)\n",
    "\n",
    "    def pare(self):\n",
    "        self.vel = 0\n",
    "        Carro.imprima(self)\n",
    "\n",
    "main()\n",
    "\n"
   ]
  },
  {
   "attachments": {},
   "cell_type": "markdown",
   "metadata": {},
   "source": [
    "Essa notação explicita a passagem dos objetos como primeiro parâmetro em cada método, mas é redundante visto que todo objeto sabe a que classe ele pertence. Uma notação mais comum e enxuta é chamar os métodos usando a notação com . de forma semelhante aos atributos e, como o primeiro argumento é sempre ele mesmo, ele pode ser evitado. Assim a chamada:\n",
    "\n",
    "`Carro.acelere.(brasilia, 40)`\n",
    "\n",
    "pode ser escrita como:\n",
    "\n",
    "`brasilia.acelere(40)`\n",
    "\n"
   ]
  },
  {
   "cell_type": "code",
   "execution_count": 8,
   "metadata": {},
   "outputs": [
    {
     "name": "stdout",
     "output_type": "stream",
     "text": [
      "brasilia amarela indo a 40 Km/h\n",
      "fuscao preto indo a 50 Km/h\n",
      "brasilia amarela indo muito raaaaaapiiiiiiiidoooooo!\n",
      "brasilia amarela 1968\n",
      "fuscao preto indo muito raaaaaapiiiiiiiidoooooo!\n"
     ]
    }
   ],
   "source": [
    "def main():\n",
    "    brasilia = Carro('brasilia', 1968, 'amarela', 80)\n",
    "    fuscao = Carro('fuscao', 1981, 'preto', 95)\n",
    "\n",
    "    brasilia.acelere(40)\n",
    "    fuscao.acelere(50)\n",
    "    brasilia.acelere(80)\n",
    "    brasilia.pare()\n",
    "    fuscao.acelere(100)\n",
    "\n",
    "class Carro:\n",
    "    def __init__(self, m, a, c, vm):\n",
    "        self.modelo = m\n",
    "        self.ano    = a\n",
    "        self.cor    = c\n",
    "        self.vel    = 0\n",
    "        self.maxV   = vm  # velocidade maxima\n",
    "\n",
    "    def imprima(self):\n",
    "        if self.vel == 0: # parado da para ver o ano\n",
    "            print( \"%s %s %d\"%(self.modelo, self.cor, self.ano)     )\n",
    "        elif self.vel < self.maxV:\n",
    "            print( \"%s %s indo a %d Km/h\"%(self.modelo, self.cor, self.vel) )\n",
    "        else:\n",
    "            print( \"%s %s indo muito raaaaaapiiiiiiiidoooooo!\"%(self.modelo, self.cor))\n",
    "\n",
    "    def acelere(self, v):\n",
    "        self.vel = v\n",
    "        if self.vel > self.maxV:\n",
    "            self.vel = self.maxV\n",
    "        self.imprima()\n",
    "\n",
    "    def pare(self):\n",
    "        self.vel = 0\n",
    "        self.imprima()\n",
    "\n",
    "main()\n",
    "\n"
   ]
  },
  {
   "attachments": {},
   "cell_type": "markdown",
   "metadata": {},
   "source": [
    "## O método especial __str__\n",
    "\n",
    "O método imprima é muito útil para qualquer tipo de objeto mas não é a forma mais comum utilizando objetos. Em muitos casos, é desejável simplesmente utilizar a função print para imprimir uma “representação textual” do objeto.\n",
    "\n",
    "Na verdade, quando executamos o comando print(6), como o 6 é um objeto da classe int, a função print converte o inteiro 6 no string 6 antes de ser impresso, algo como print( str(6) ). Lembre-se que, dentre as funções para conversão de tipos (lembra do int em int(input(“Digite um número: ”))?), a função str converte o inteiro 6 para o string 6.\n",
    "\n",
    "Para exibir então o conteúdo de um objeto usando print, devemos definir o método especial __str__, e devolver um string com a representação textual do objeto. A função str também chama e retorna o valor desse método (se existir).\n",
    "\n",
    "O código abaixo é basicamente o mesmo que o anterior, mas substituimos o método imprima pelo método especial __str__. No corpo desse método, ao invés de chamar a função print, carrega-se um string apropriado em s, que é retornado pelo método para a função print ou str. Veja que nos métodos acelere e pare, basta chamar print(self)."
   ]
  },
  {
   "cell_type": "code",
   "execution_count": 9,
   "metadata": {},
   "outputs": [
    {
     "name": "stdout",
     "output_type": "stream",
     "text": [
      "brasilia amarela 1968\n",
      "fuscao preto 1981\n",
      "brasilia amarela indo a 40 Km/h\n",
      "fuscao preto indo a 50 Km/h\n",
      "brasilia amarela indo muito raaaaaapiiiiiiiidoooooo!\n",
      "brasilia amarela 1968\n",
      "fuscao preto indo muito raaaaaapiiiiiiiidoooooo!\n"
     ]
    }
   ],
   "source": [
    "def main():\n",
    "    brasilia = Carro('brasilia', 1968, 'amarela', 80)\n",
    "    fuscao = Carro('fuscao', 1981, 'preto', 95)\n",
    "\n",
    "    print(brasilia)\n",
    "    print(fuscao)\n",
    "\n",
    "    brasilia.acelere(40)\n",
    "    fuscao.acelere(50)\n",
    "    brasilia.acelere(80)\n",
    "    brasilia.pare()\n",
    "    fuscao.acelere(100)\n",
    "\n",
    "class Carro:\n",
    "    def __init__(self, m, a, c, vm):\n",
    "        self.modelo = m\n",
    "        self.ano    = a\n",
    "        self.cor    = c\n",
    "        self.vel    = 0\n",
    "        self.maxV   = vm  # velocidade maxima\n",
    "\n",
    "    def __str__(self):\n",
    "        if self.vel == 0: # parado da para ver o ano\n",
    "            s = \"%s %s %d\"%(self.modelo, self.cor, self.ano)\n",
    "        elif self.vel < self.maxV:\n",
    "            s = \"%s %s indo a %d Km/h\"%(self.modelo, self.cor, self.vel)\n",
    "        else:\n",
    "            s = \"%s %s indo muito raaaaaapiiiiiiiidoooooo!\"%(self.modelo, self.cor)\n",
    "        return s\n",
    "\n",
    "    def acelere(self, v):\n",
    "        self.vel = v\n",
    "        if self.vel > self.maxV:\n",
    "            self.vel = self.maxV\n",
    "        print(self)\n",
    "\n",
    "    def pare(self):\n",
    "        self.vel = 0\n",
    "        print(self)\n",
    "\n",
    "main()\n",
    "\n"
   ]
  },
  {
   "cell_type": "code",
   "execution_count": 10,
   "metadata": {},
   "outputs": [
    {
     "name": "stdout",
     "output_type": "stream",
     "text": [
      "Prata\n",
      "True\n"
     ]
    }
   ],
   "source": [
    "class Carro:\n",
    "    def __init__(self):\n",
    "        self.cor = \"Preto\"\n",
    "        self.quatidade_de_lugares = 7\n",
    "        self.velocidade_maxima = 200\n",
    "        self.ligado = False\n",
    "        self.marcha = 1\n",
    "        self.velocidade = 0\n",
    "\n",
    "    def Ligar(self):\n",
    "        self.ligado = True\n",
    "\n",
    "    def Acelerar(self):\n",
    "        self.velocidade += 10\n",
    "\n",
    "    def Freiar(self):\n",
    "        self.velocidade -= 10\n",
    "\n",
    "    def Trocar_Marcha(self, nova_marcha):\n",
    "        self.marcha = nova_marcha\n",
    "\n",
    "    def Desligar(self):\n",
    "        self.ligado = False\n",
    "\n",
    "\n",
    "class Celta(Carro):\n",
    "    def __init__(self):\n",
    "        Carro.__init__(self)\n",
    "        self.cor = \"Prata\"\n",
    "        self.quantidade_de_lugares = 5\n",
    "        self.ar_condicionado_ligado = False\n",
    "\n",
    "    def Ligar_ar_condicionado(self):\n",
    "        self.ar_condicionado_ligado = True\n",
    "\n",
    "    def Ligar(self):\n",
    "        self.ligado = True\n",
    "        self.marcha = 6\n",
    "\n",
    "\n",
    "celta_1=Celta()\n",
    "print(celta_1.cor)\n",
    "\n",
    "celta_1.Ligar_ar_condicionado()\n",
    "print(celta_1.ar_condicionado_ligado)"
   ]
  },
  {
   "cell_type": "code",
   "execution_count": 11,
   "metadata": {},
   "outputs": [
    {
     "name": "stdout",
     "output_type": "stream",
     "text": [
      "Prata\n",
      "True\n"
     ]
    }
   ],
   "source": [
    "celta_1=Celta()\n",
    "print(celta_1.cor)\n",
    "\n",
    "celta_1.Ligar_ar_condicionado()\n",
    "print(celta_1.ar_condicionado_ligado)"
   ]
  },
  {
   "cell_type": "markdown",
   "metadata": {},
   "source": [
    "## Importação de classes\n",
    "\n",
    "Salvar classes em arquivos separados e importá-las em outros programas é uma prática comum em programação. Essa abordagem é usada para organizar o código, facilitar a reutilização e melhorar a manutenção. A seguir, explica-se como isso funciona, por que é vantajoso e como implementá-lo, usando Python como exemplo.\n",
    "\n",
    "---\n",
    "\n",
    "### **O que significa salvar classes em arquivos separados?**\n",
    "Em vez de definir todas as classes e funcionalidades de um programa em um único arquivo, você pode dividir seu código em vários arquivos, cada um contendo classes ou funções relacionadas. Esses arquivos são chamados de **módulos** e podem ser importados em outros programas.\n",
    "\n",
    "---\n",
    "\n",
    "### **Por que usar essa abordagem?**\n",
    "1. **Organização**: O código fica mais limpo e fácil de entender quando funções e classes relacionadas são separadas em arquivos diferentes.\n",
    "2. **Reutilização**: Classes e funções podem ser reaproveitadas em outros projetos ou partes do mesmo programa, sem a necessidade de reescrever o código.\n",
    "3. **Manutenção**: É mais fácil encontrar e corrigir bugs ou adicionar funcionalidades quando o código está dividido em partes lógicas.\n",
    "4. **Colaboração**: Em projetos maiores, diferentes membros da equipe podem trabalhar em arquivos diferentes sem conflitos.\n",
    "5. **Modularidade**: Facilita a substituição ou atualização de partes específicas do código sem impactar o restante.\n",
    "\n",
    "---\n",
    "\n",
    "### **Como salvar e importar classes?**\n",
    "1. **Criar um arquivo com a classe**  \n",
    "   Salve sua classe em um arquivo separado. Por exemplo, em um diretório chamado módulos, vamos salvar:\n",
    "\n",
    "   **`Carro.py`**:\n",
    "   ```python\n",
    "   class Carro:\n",
    "    def __init__(self):\n",
    "        self.cor = \"Preto\"\n",
    "        self.quatidade_de_lugares = 7\n",
    "        self.velocidade_maxima = 200\n",
    "        self.ligado = False\n",
    "        self.marcha = 1\n",
    "        self.velocidade = 0\n",
    "\n",
    "    def Ligar(self):\n",
    "        self.ligado = True\n",
    "\n",
    "    def Acelerar(self):\n",
    "        self.velocidade += 10\n",
    "\n",
    "    def Freiar(self):\n",
    "        self.velocidade -= 10\n",
    "\n",
    "    def Trocar_Marcha(self, nova_marcha):\n",
    "        self.marcha = nova_marcha\n",
    "\n",
    "    def Desligar(self):\n",
    "        self.ligado = False\n",
    "        \n",
    "   class Celta(Carro):\n",
    "    def __init__(self):\n",
    "        Carro.__init__(self)\n",
    "        self.cor = \"Prata\"\n",
    "        self.quantidade_de_lugares = 5\n",
    "        self.ar_condicionado_ligado = False\n",
    "\n",
    "    def Ligar_ar_condicionado(self):\n",
    "        self.ar_condicionado_ligado = True\n",
    "\n",
    "    def Ligar(self):\n",
    "        self.ligado = True\n",
    "        self.marcha = 6\n",
    "   ```\n",
    "\n",
    "2. **Importar a classe em outro arquivo**  \n",
    "   Em outro arquivo, importe a classe e use-a:\n",
    "\n",
    "   **`main.py`**:\n",
    "   ```python\n",
    "   from modulos.Carro import Celta\n",
    "  \n",
    "   celta_1=Celta()\n",
    "  \n",
    "   print(celta_1.cor)\n",
    "  \n",
    "   celta_1.Ligar_ar_condicionado()\n",
    "  \n",
    "   print(celta_1.ar_condicionado_ligado))\n",
    "   ```\n",
    "\n",
    "3. **Executar o programa principal**  \n",
    "   Execute o arquivo `main.py`. Ele usará a classe definida em `Carro.py`.\n",
    "\n",
    "---\n",
    "\n",
    "### **Outras formas de importação**\n",
    "- Importar várias classes de um arquivo:\n",
    "  ```python\n",
    "  from meu_modulo import Classe1, Classe2\n",
    "  ```\n",
    "\n",
    "- Importar o módulo inteiro:\n",
    "  ```python\n",
    "  import meu_modulo\n",
    "\n",
    "  obj = meu_modulo.Classe1()\n",
    "  ```\n",
    "\n",
    "- Usar apelidos para simplificar:\n",
    "  ```python\n",
    "  import meu_modulo as mm\n",
    "\n",
    "  obj = mm.Classe1()\n",
    "  ```\n",
    "\n",
    "---\n",
    "\n",
    "### **Por que é uma boa prática?**\n",
    "- **Evita duplicação de código**: Você não precisa recriar a mesma classe em diferentes partes do projeto.\n",
    "- **Melhora a legibilidade**: Programas grandes tornam-se mais fáceis de entender.\n",
    "- **Facilita a manutenção**: Alterações em uma classe não exigem edições em múltiplos arquivos.\n",
    "- **Promove testes unitários**: Cada classe ou módulo pode ser testado separadamente.\n",
    "\n",
    "---\n",
    "\n",
    "Essa abordagem modular é um dos princípios fundamentais da programação orientada a objetos e do desenvolvimento de software escalável."
   ]
  },
  {
   "cell_type": "markdown",
   "metadata": {},
   "source": [
    "No exemplo do bloco a seguir a sub-classe `Celta` é importada da classe `Carro.py` salva no diretório `modulos`."
   ]
  },
  {
   "cell_type": "code",
   "execution_count": 14,
   "metadata": {},
   "outputs": [
    {
     "name": "stdout",
     "output_type": "stream",
     "text": [
      "Prata\n",
      "True\n"
     ]
    }
   ],
   "source": [
    "from modulos.Carro import Celta\n",
    "\n",
    "celta_1=Celta()\n",
    "print(celta_1.cor)\n",
    "\n",
    "celta_1.Ligar_ar_condicionado()\n",
    "print(celta_1.ar_condicionado_ligado)"
   ]
  }
 ],
 "metadata": {
  "kernelspec": {
   "display_name": "base",
   "language": "python",
   "name": "python3"
  },
  "language_info": {
   "codemirror_mode": {
    "name": "ipython",
    "version": 3
   },
   "file_extension": ".py",
   "mimetype": "text/x-python",
   "name": "python",
   "nbconvert_exporter": "python",
   "pygments_lexer": "ipython3",
   "version": "3.12.7"
  }
 },
 "nbformat": 4,
 "nbformat_minor": 2
}