{
 "cells": [
  {
   "cell_type": "markdown",
   "metadata": {},
   "source": [
    "```{thebe-init}\n",
    "---\n",
    "thebe: true\n",
    "---"
   ]
  },
  {
   "attachments": {},
   "cell_type": "markdown",
   "metadata": {},
   "source": [
    "# Programação orientada a objetos - Parte 1 \n",
    "\n",
    "Na evolução das linguagens de programação, a necessidade de se representar e manipular informações complexas resultou no conceito de classes e objetos, onde classes servem como abstrações (representação) e objetos seriam instâncias de classes que mantém e permitem a manipulação da informação.\n",
    "\n"
   ]
  },
  {
   "cell_type": "markdown",
   "metadata": {},
   "source": [
    "![image.png](Figuras/aula11/img1.png)"
   ]
  },
  {
   "cell_type": "markdown",
   "metadata": {},
   "source": [
    "Em Python, toda informação que usamos é representada na forma de um objeto. Assim, o número 6 é um objeto da classe int, o número 3.14 é um objeto da classe float, e assim por diante."
   ]
  },
  {
   "cell_type": "code",
   "execution_count": null,
   "metadata": {},
   "outputs": [],
   "source": [
    "print(type(6))  # type mostra o tipo do objeto passado como argumento\n",
    "print(id(6))    # mostra o local na memória (endereço) onde o objeto está armazenado\n",
    "i = 6\n",
    "j = 6\n",
    "print(id(i))    # note que i e j correspondem ao mesmo objeto 6\n",
    "print(id(j))\n"
   ]
  },
  {
   "attachments": {},
   "cell_type": "markdown",
   "metadata": {},
   "source": [
    "Em computação, criar um objeto significa criar uma instância de uma classe. \n",
    "\n",
    "Linguagens orientadas a objetos permitem a definição de novas classes.\n",
    "\n",
    "Uma classe é uma abstração de alguma “coisa”, que possui um estado e comportamento. \n",
    "\n",
    "Um estado é definido por um conjunto de variáveis chamadas de atributos. \n",
    "\n",
    "Esses estados podem ser alterados por meio de “ações” sobre o objeto, que definem seu comportamento. \n",
    "\n",
    "Essas ações são funções chamadas de “métodos”.\n",
    "\n"
   ]
  },
  {
   "cell_type": "markdown",
   "metadata": {},
   "source": [
    "![image.png](Figuras/aula11/img2.png)"
   ]
  },
  {
   "attachments": {},
   "cell_type": "markdown",
   "metadata": {},
   "source": [
    "![Alt text](Figuras/image-1.png)"
   ]
  },
  {
   "cell_type": "markdown",
   "metadata": {},
   "source": [
    "![image.png](Figuras/aula11/img4.png)"
   ]
  },
  {
   "attachments": {},
   "cell_type": "markdown",
   "metadata": {},
   "source": [
    "![Alt text](Figuras/image-4.png)"
   ]
  },
  {
   "cell_type": "markdown",
   "metadata": {},
   "source": [
    "![image.png](Figuras/aula11/img6.png)"
   ]
  },
  {
   "cell_type": "markdown",
   "metadata": {},
   "source": [
    "Por exemplo, para representar um carro podemos definir:\n",
    "\n",
    "- uma classe Carro:\n",
    "- com os atributos: ano, modelo, cor, e vel\n",
    "- e os métodos:\n",
    "    - acelera(vel): acelera até vel\n",
    "    - pare(): vel = 0"
   ]
  },
  {
   "attachments": {},
   "cell_type": "markdown",
   "metadata": {},
   "source": [
    "![Alt text](Figuras/image-5.png)"
   ]
  },
  {
   "cell_type": "code",
   "execution_count": null,
   "metadata": {},
   "outputs": [],
   "source": [
    "class Carro:\n",
    "    pass\n",
    "\n",
    "fusca = Carro()\n",
    "brasilia = Carro()\n",
    "\n",
    "# teste da classe Carro\n",
    "fusca    = Carro()   # cria um objeto referenciado pela variavel fusca\n",
    "brasilia = Carro()\n",
    "\n",
    "fusca.ano = 1968\n",
    "fusca.modelo = 'Fusca'\n",
    "fusca.cor = 'preto'\n",
    "\n",
    "brasilia.ano = 1981\n",
    "brasilia.modelo = 'Brasilia'\n",
    "brasilia.cor = 'amarela'\n",
    "\n"
   ]
  },
  {
   "cell_type": "code",
   "execution_count": null,
   "metadata": {},
   "outputs": [],
   "source": [
    "novo_fusca = fusca\n",
    "\n",
    "print(\"Fusca igual a brasilia? > \", fusca == brasilia)\n",
    "print(\"Fusca igual a novo_fusca? > \", fusca == novo_fusca)\n",
    "\n",
    "fusca.ano += 10\n",
    "\n",
    "print(\"fusca.ano = \", fusca.ano)\n",
    "print(\"novo_fusca.ano = \", novo_fusca.ano)"
   ]
  },
  {
   "attachments": {},
   "cell_type": "markdown",
   "metadata": {},
   "source": [
    "## O método especial __init__ (construtor)\n",
    "\n",
    "Como sabemos que todos os carros que queremos representar possuem as propriedades “cor”, “ano”, e “modelo”, podemos deixar essas propriedades como atributos da classe e inicializá-las quando um objeto é instanciado (criado). \n",
    "\n",
    "Para isso, vamos utilizar o método especial __init__, conhecido como construtor da classe.\n",
    "\n"
   ]
  },
  {
   "cell_type": "code",
   "execution_count": null,
   "metadata": {},
   "outputs": [],
   "source": [
    "class Carro:\n",
    "    def __init__(self, m, a, c):\n",
    "        self.modelo = m\n",
    "        self.ano    = a\n",
    "        self.cor    = c\n",
    "\n",
    "brasilia = Carro('Brasilia', 1968, 'amarela')\n",
    "fusca = Carro('Fusca', 1981, 'preto')\n",
    "\n",
    "fusca.ano += 10   # observe que podemos acessar atributos de fusca\n",
    "\n",
    "print(fusca.ano)\n"
   ]
  },
  {
   "attachments": {},
   "cell_type": "markdown",
   "metadata": {},
   "source": [
    "## Mas o que é esse self?\n",
    "\n",
    "Todo método de uma classe recebe como primeiro parâmetro uma referência à instância que chama o método, permitindo assim que o objeto acesse os seus próprios atributos e métodos. \n",
    "\n",
    "Por convenção, chamamos esse primeiro parâmetro de self, mas qualquer outro nome poderia ser utilizado.\n",
    "\n",
    "O método especial __init__ é chamado automaticamente após a criação de um objeto, e no caso de um Carro, na nova instância são criados os atributos ‘modelo’, ‘ano’ e ‘cor’ com os valores dados como argumentos do construtor (no caso Carro(“Brasilia”, 1968, “amarela”)).\n",
    "\n",
    "Assim, no corpo de qualquer método, um atributo pode ser criado, acessado ou modificado usando self.nome_do_atributo.\n"
   ]
  },
  {
   "attachments": {},
   "cell_type": "markdown",
   "metadata": {},
   "source": [
    "Para exemplificar a criação de outros métodos e entender melhor o papel do self vamos criar os métodos imprima, acelere e pare. Por ser um exemplo mais elaborado, vamos também colocar os testes dentro da função main."
   ]
  },
  {
   "cell_type": "code",
   "execution_count": null,
   "metadata": {},
   "outputs": [],
   "source": [
    "def main():\n",
    "    pri = Carro('brasilia', 1968, 'amarela', 80)\n",
    "    seg = Carro('fuscao', 1981, 'preto', 95)\n",
    "\n",
    "#Na função main, pri e seg são instâncias de Carro. Para chamar o método acelere de Carro, usamos a notação:\n",
    " #   Carro.acelere(pri, 40)    \n",
    " #    Carro.acelere(seg, 50)\n",
    " #   Carro.acelere(pri, 80)\n",
    "    \n",
    " #   Carro.pare(pri)\n",
    "    Carro.acelere(seg, 100)\n",
    "\n",
    "    \n",
    "class Carro:\n",
    "    def __init__(self, m, a, c, vm):\n",
    "        self.modelo = m\n",
    "        self.ano    = a\n",
    "        self.cor    = c\n",
    "        self.vel    = 0\n",
    "        self.maxV   = vm  # velocidade maxima\n",
    "\n",
    "    def imprima(self):\n",
    "        if self.vel == 0: # parado da para ver o ano\n",
    "            print( \"%s %s %d\"%(self.modelo, self.cor, self.ano)     )\n",
    "        elif self.vel < self.maxV:\n",
    "            print( \"%s %s indo a %d Km/h\"%(self.modelo, self.cor, self.vel) )\n",
    "        else:\n",
    "            print( \"%s %s indo muito raaaaaapiiiiiiiidoooooo!\"%(self.modelo, self.cor))\n",
    "\n",
    "    def acelere(self, v):\n",
    "        self.vel = v\n",
    "        if self.vel > self.maxV:\n",
    "            self.vel = self.maxV\n",
    "        Carro.imprima(self)\n",
    "\n",
    "    def pare(self):\n",
    "        self.vel = 0\n",
    "        Carro.imprima(self)\n",
    "\n",
    "main()\n",
    "\n"
   ]
  },
  {
   "attachments": {},
   "cell_type": "markdown",
   "metadata": {},
   "source": [
    "Essa notação explicita a passagem dos objetos como primeiro parâmetro em cada método, mas é redundante visto que todo objeto sabe a que classe ele pertence. Uma notação mais comum e enxuta é chamar os métodos usando a notação com . de forma semelhante aos atributos e, como o primeiro argumento é sempre ele mesmo, ele pode ser evitado. Assim a chamada:\n",
    "\n",
    "`Carro.acelere.(pri, 40)`\n",
    "\n",
    "pode ser escrita como:\n",
    "\n",
    "`pri.acelere(40)`\n",
    "\n"
   ]
  },
  {
   "cell_type": "code",
   "execution_count": null,
   "metadata": {},
   "outputs": [],
   "source": [
    "def main():\n",
    "    pri = Carro('brasilia', 1968, 'amarela', 80)\n",
    "    seg = Carro('fuscao', 1981, 'preto', 95)\n",
    "\n",
    "    pri.acelere(40)\n",
    "    seg.acelere(50)\n",
    "    pri.acelere(80)\n",
    "    pri.pare()\n",
    "    seg.acelere(100)\n",
    "\n",
    "class Carro:\n",
    "    def __init__(self, m, a, c, vm):\n",
    "        self.modelo = m\n",
    "        self.ano    = a\n",
    "        self.cor    = c\n",
    "        self.vel    = 0\n",
    "        self.maxV   = vm  # velocidade maxima\n",
    "\n",
    "    def imprima(self):\n",
    "        if self.vel == 0: # parado da para ver o ano\n",
    "            print( \"%s %s %d\"%(self.modelo, self.cor, self.ano)     )\n",
    "        elif self.vel < self.maxV:\n",
    "            print( \"%s %s indo a %d Km/h\"%(self.modelo, self.cor, self.vel) )\n",
    "        else:\n",
    "            print( \"%s %s indo muito raaaaaapiiiiiiiidoooooo!\"%(self.modelo, self.cor))\n",
    "\n",
    "    def acelere(self, v):\n",
    "        self.vel = v\n",
    "        if self.vel > self.maxV:\n",
    "            self.vel = self.maxV\n",
    "        self.imprima()\n",
    "\n",
    "    def pare(self):\n",
    "        self.vel = 0\n",
    "        self.imprima()\n",
    "\n",
    "main()\n",
    "\n"
   ]
  },
  {
   "attachments": {},
   "cell_type": "markdown",
   "metadata": {},
   "source": [
    "## O método especial __str__\n",
    "\n",
    "O método imprima é muito útil para qualquer tipo de objeto mas não é a forma mais comum utilizando objetos. Em muitos casos, é desejável simplesmente utilizar a função print para imprimir uma “representação textual” do objeto.\n",
    "\n",
    "Na verdade, quando executamos o comando print(6), como o 6 é um objeto da classe int, a função print converte o inteiro 6 no string 6 antes de ser impresso, algo como print( str(6) ). Lembre-se que, dentre as funções para conversão de tipos (lembra do int em int(input(“Digite um número: ”))?), a função str converte o inteiro 6 para o string 6.\n",
    "\n",
    "Para exibir então o conteúdo de um objeto usando print, devemos definir o método especial __str__, e devolver um string com a representação textual do objeto. A função str também chama e retorna o valor desse método (se existir).\n",
    "\n",
    "O código abaixo é basicamente o mesmo que o anterior, mas substituimos o método imprima pelo método especial __str__. No corpo desse método, ao invés de chamar a função print, carrega-se um string apropriado em s, que é retornado pelo método para a função print ou str. Veja que nos métodos acelere e pare, basta chamar print(self)."
   ]
  },
  {
   "cell_type": "code",
   "execution_count": null,
   "metadata": {},
   "outputs": [],
   "source": [
    "def main():\n",
    "    pri = Carro('brasilia', 1968, 'amarela', 80)\n",
    "    seg = Carro('fuscao', 1981, 'preto', 95)\n",
    "\n",
    "    print(pri)\n",
    "    print(seg)\n",
    "\n",
    "    pri.acelere(40)\n",
    "    seg.acelere(50)\n",
    "    pri.acelere(80)\n",
    "    pri.pare()\n",
    "    seg.acelere(100)\n",
    "\n",
    "class Carro:\n",
    "    def __init__(self, m, a, c, vm):\n",
    "        self.modelo = m\n",
    "        self.ano    = a\n",
    "        self.cor    = c\n",
    "        self.vel    = 0\n",
    "        self.maxV   = vm  # velocidade maxima\n",
    "\n",
    "    def __str__(self):\n",
    "        if self.vel == 0: # parado da para ver o ano\n",
    "            s = \"%s %s %d\"%(self.modelo, self.cor, self.ano)\n",
    "        elif self.vel < self.maxV:\n",
    "            s = \"%s %s indo a %d Km/h\"%(self.modelo, self.cor, self.vel)\n",
    "        else:\n",
    "            s = \"%s %s indo muito raaaaaapiiiiiiiidoooooo!\"%(self.modelo, self.cor)\n",
    "        return s\n",
    "\n",
    "    def acelere(self, v):\n",
    "        self.vel = v\n",
    "        if self.vel > self.maxV:\n",
    "            self.vel = self.maxV\n",
    "        print(self)\n",
    "\n",
    "    def pare(self):\n",
    "        self.vel = 0\n",
    "        print(self)\n",
    "\n",
    "main()\n",
    "\n"
   ]
  },
  {
   "cell_type": "code",
   "execution_count": null,
   "metadata": {},
   "outputs": [],
   "source": [
    "class Carro:\n",
    "    def __init__(self):\n",
    "        self.cor = \"Preto\"\n",
    "        self.quatidade_de_lugares = 7\n",
    "        self.velocidade_maxima = 200\n",
    "        self.ligado = False\n",
    "        self.marcha = 1\n",
    "        self.velocidade = 0\n",
    "\n",
    "    def Ligar(self):\n",
    "        self.ligado = True\n",
    "\n",
    "    def Acelerar(self):\n",
    "        self.velocidade += 10\n",
    "\n",
    "    def Freiar(self):\n",
    "        self.velocidade -= 10\n",
    "\n",
    "    def Trocar_Marcha(self, nova_marcha):\n",
    "        self.marcha = nova_marcha\n",
    "\n",
    "    def Desligar(self):\n",
    "        self.ligado = False\n",
    "\n",
    "\n",
    "class Celta(Carro):\n",
    "    def __init__(self):\n",
    "        Carro.__init__(self)\n",
    "        self.cor = \"Prata\"\n",
    "        self.quantidade_de_lugares = 5\n",
    "        self.ar_condicionado_ligado = False\n",
    "\n",
    "    def Ligar_ar_condicionado(self):\n",
    "        self.ar_condicionado_ligado = True\n",
    "\n",
    "    def Ligar(self):\n",
    "        self.ligado = True\n",
    "        self.marcha = 6\n",
    "\n",
    "\n",
    "celta_1=Celta()\n",
    "print(celta_1.cor)\n",
    "\n",
    "celta_1.Ligar_ar_condicionado()\n",
    "print(celta_1.ar_condicionado_ligado)"
   ]
  },
  {
   "cell_type": "code",
   "execution_count": null,
   "metadata": {},
   "outputs": [],
   "source": [
    "celta_1=Celta()\n",
    "print(celta_1.cor)\n",
    "\n",
    "celta_1.Ligar_ar_condicionado()\n",
    "print(celta_1.ar_condicionado_ligado)"
   ]
  },
  {
   "cell_type": "code",
   "execution_count": null,
   "metadata": {},
   "outputs": [],
   "source": [
    "from modulos.carro import Celta\n",
    "\n",
    "celta_1=Celta()\n",
    "print(celta_1.cor)\n",
    "\n",
    "celta_1.Ligar_ar_condicionado()\n",
    "print(celta_1.ar_condicionado_ligado)"
   ]
  }
 ],
 "metadata": {
  "kernelspec": {
   "display_name": "Python 3",
   "language": "python",
   "name": "python3"
  },
  "language_info": {
   "codemirror_mode": {
    "name": "ipython",
    "version": 3
   },
   "file_extension": ".py",
   "mimetype": "text/x-python",
   "name": "python",
   "nbconvert_exporter": "python",
   "pygments_lexer": "ipython3",
   "version": "3.11.9"
  }
 },
 "nbformat": 4,
 "nbformat_minor": 2
}