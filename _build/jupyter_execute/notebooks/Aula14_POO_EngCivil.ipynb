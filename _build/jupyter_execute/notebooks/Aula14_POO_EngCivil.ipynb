{
 "cells": [
  {
   "cell_type": "code",
   "execution_count": null,
   "id": "bbf94bf6",
   "metadata": {
    "vscode": {
     "languageId": "plaintext"
    }
   },
   "outputs": [],
   "source": [
    "```{thebe-init}\n",
    "---\n",
    "thebe: true\n",
    "---"
   ]
  },
  {
   "cell_type": "markdown",
   "id": "53e1f04a",
   "metadata": {},
   "source": [
    "# Programação Orientada a Objetos (POO) - exemplo em Engenharia Civil\n",
    "\n",
    "## Introdução à POO\n",
    "\n",
    "A Programação Orientada a Objetos (POO) é um paradigma de programação que organiza o software em \"objetos\", em vez de procedimentos ou funções. Cada objeto pode ser visto como uma representação de um conceito do mundo real, com suas propriedades (atributos) e comportamentos (métodos). A POO ajuda a modelar sistemas de forma mais modular e reutilizável.\n",
    "\n",
    "### Conceitos principais da POO:\n",
    "- **Classe**: Um molde ou planta de um objeto.\n",
    "- **Objeto**: Uma instância de uma classe.\n",
    "- **Atributos**: As características ou propriedades de um objeto.\n",
    "- **Métodos**: As ações ou comportamentos que um objeto pode realizar.\n",
    "- **Encapsulamento**: O conceito de ocultar detalhes internos e mostrar apenas a interface necessária.\n",
    "- **Herança**: Permite que uma classe herde atributos e métodos de outra.\n",
    "- **Polimorfismo**: A habilidade de usar o mesmo nome de método para diferentes comportamentos.\n",
    "\n",
    "### Exemplo Prático: Modelo de Estruturas para Engenharia Civil\n",
    "\n",
    "Vamos começar com um exemplo simples de modelagem de estruturas de concreto usando POO.\n",
    "\n",
    "### Passo 1: Definir a classe `Estrutura`\n",
    "A primeira coisa que fazemos é criar uma classe que representa a estrutura. Vamos definir alguns atributos básicos como altura, largura e tipo de material da estrutura."
   ]
  },
  {
   "cell_type": "markdown",
   "id": "1333b290",
   "metadata": {},
   "source": [
    "![bloco.png](Figuras/aula14/bloco.png)"
   ]
  },
  {
   "cell_type": "code",
   "execution_count": null,
   "id": "d9af2e6b",
   "metadata": {},
   "outputs": [],
   "source": [
    "class Estrutura:\n",
    "    def __init__(self, altura, largura, material):\n",
    "        # Atributos da classe (propriedades)\n",
    "        self.altura = altura\n",
    "        self.largura = largura\n",
    "        self.material = material\n",
    "\n",
    "    def calcular_area(self):\n",
    "        # Método para calcular a área da base da estrutura\n",
    "        return self.altura * self.largura\n",
    "\n",
    "    def descricao(self):\n",
    "        # Método para fornecer uma descrição da estrutura\n",
    "        return f\"Esta estrutura tem {self.altura} metros de altura e {self.largura} metros de largura, construída com {self.material}.\"\n"
   ]
  },
  {
   "cell_type": "markdown",
   "id": "2a1d078d",
   "metadata": {},
   "source": [
    "### Passo 2: Criar Objetos da Classe `Estrutura`\n",
    "Agora que temos a classe `Estrutura`, podemos criar objetos que representem diferentes tipos de estruturas.\n"
   ]
  },
  {
   "cell_type": "code",
   "execution_count": null,
   "id": "e3bf7867",
   "metadata": {},
   "outputs": [],
   "source": [
    "# Criando objetos (instâncias) da classe Estrutura\n",
    "estrutura1 = Estrutura(10, 5, \"concreto\")\n",
    "estrutura2 = Estrutura(15, 8, \"aço\")\n"
   ]
  },
  {
   "cell_type": "code",
   "execution_count": null,
   "id": "0a374005",
   "metadata": {},
   "outputs": [],
   "source": [
    "# Usando os métodos da classe\n",
    "print(estrutura1.descricao())\n",
    "print(f\"Área da estrutura 1: {estrutura1.calcular_area()} m²\")\n",
    "\n",
    "print(estrutura2.descricao())\n",
    "print(f\"Área da estrutura 2: {estrutura2.calcular_area()} m²\")\n"
   ]
  },
  {
   "cell_type": "markdown",
   "id": "786b7088",
   "metadata": {},
   "source": [
    "### Passo 3: Herança - Classe `Ponte`\n",
    "Agora, vamos mostrar como a herança pode ser usada. Suponha que precisamos de uma classe `Ponte` que herda da classe `Estrutura`, mas com atributos adicionais, como o tipo de fundação.\n"
   ]
  },
  {
   "cell_type": "markdown",
   "id": "de5a178e",
   "metadata": {},
   "source": [
    "![ssa-itaparica.jpg](Figuras/aula14/ssa-itaparica.jpg)"
   ]
  },
  {
   "cell_type": "code",
   "execution_count": null,
   "id": "5f394d56",
   "metadata": {},
   "outputs": [],
   "source": [
    "class Ponte(Estrutura):\n",
    "    def __init__(self, altura, largura, material, tipo_fundacao):\n",
    "        # Chamando o construtor da classe pai (Estrutura)\n",
    "        super().__init__(altura, largura, material)\n",
    "        self.tipo_fundacao = tipo_fundacao\n",
    "\n",
    "    def descricao(self):\n",
    "        # Método para fornecer uma descrição detalhada da ponte\n",
    "        descricao_base = super().descricao()\n",
    "        return f\"{descricao_base} Tipo de fundação: {self.tipo_fundacao}.\"\n"
   ]
  },
  {
   "cell_type": "markdown",
   "id": "c0550e0b",
   "metadata": {},
   "source": [
    "### Passo 4: Criando Objetos da Classe `Ponte`\n",
    "Agora, criamos uma ponte e vemos como a herança funciona."
   ]
  },
  {
   "cell_type": "code",
   "execution_count": null,
   "id": "b3882956",
   "metadata": {},
   "outputs": [],
   "source": [
    "# Criando objetos da classe Ponte\n",
    "ponte1 = Ponte(20, 10, \"concreto\", \"fundação profunda\")\n",
    "ponte2 = Ponte(30, 12, \"aço\", \"fundação rasa\")\n",
    "\n",
    "# Usando os métodos da classe Ponte\n",
    "print(ponte1.descricao())\n",
    "print(f\"Área da ponte 1: {ponte1.calcular_area()} m²\")\n",
    "\n",
    "print(ponte2.descricao())\n",
    "print(f\"Área da ponte 2: {ponte2.calcular_area()} m²\")\n"
   ]
  },
  {
   "cell_type": "markdown",
   "id": "53a759df",
   "metadata": {},
   "source": [
    "### Passo 5: Polimorfismo - Métodos com o mesmo nome\n",
    "Podemos ter métodos com o mesmo nome, mas que se comportam de maneira diferente em diferentes classes. No exemplo abaixo, vamos modificar o método `calcular_area` para que ele funcione de maneira diferente para `Estrutura` e `Ponte`."
   ]
  },
  {
   "cell_type": "code",
   "execution_count": null,
   "id": "de61ed68",
   "metadata": {},
   "outputs": [],
   "source": [
    "class Estrutura:\n",
    "    def __init__(self, altura, largura, material):\n",
    "        self.altura = altura\n",
    "        self.largura = largura\n",
    "        self.material = material\n",
    "\n",
    "    def calcular_area(self):\n",
    "        return self.altura * self.largura\n",
    "\n",
    "class Ponte(Estrutura):\n",
    "    def __init__(self, altura, largura, material, tipo_fundacao):\n",
    "        super().__init__(altura, largura, material)\n",
    "        self.tipo_fundacao = tipo_fundacao\n",
    "\n",
    "    def calcular_area(self):\n",
    "        # Suponha que a área da ponte é calculada de maneira diferente\n",
    "        return self.altura * self.largura * 1.2  # Ajuste para ponte com fundação\n",
    "\n",
    "# Criando objetos\n",
    "estrutura1 = Estrutura(10, 5, \"concreto\")\n",
    "ponte1 = Ponte(20, 10, \"concreto\", \"fundação profunda\")\n",
    "\n",
    "# Chamando o método 'calcular_area' para ambos os tipos\n",
    "print(f\"Área da estrutura: {estrutura1.calcular_area()} m²\")\n",
    "print(f\"Área da ponte: {ponte1.calcular_area()} m²\")\n"
   ]
  },
  {
   "cell_type": "markdown",
   "id": "fe48b581",
   "metadata": {},
   "source": [
    "### Resumo dos Conceitos\n",
    "\n",
    "- **Classes e Objetos**: A classe é um modelo, e o objeto é uma instância dessa classe.\n",
    "- **Herança**: Uma classe pode herdar atributos e métodos de outra classe.\n",
    "- **Polimorfismo**: Métodos com o mesmo nome podem se comportar de maneira diferente, dependendo da classe.\n",
    "\n",
    "### Aplicações na Engenharia Civil\n",
    "\n",
    "A POO pode ser usada para modelar sistemas de construção, como:\n",
    "- Projetos de estruturas (prédios, pontes, etc.)\n",
    "- Cálculos de resistência de materiais\n",
    "- Análise de estruturas (vigas, pilares, etc.)\n",
    "- Sistemas de controle de obras\n",
    "\n",
    "Com o tempo, você pode criar bibliotecas mais complexas, com classes para diferentes tipos de materiais, fundações, e métodos de cálculo específicos, tudo modelado de maneira modular e reutilizável."
   ]
  }
 ],
 "metadata": {
  "kernelspec": {
   "display_name": "Python 3",
   "language": "python",
   "name": "python3"
  },
  "language_info": {
   "codemirror_mode": {
    "name": "ipython",
    "version": "3"
   },
   "file_extension": ".py",
   "mimetype": "text/x-python",
   "name": "python",
   "nbconvert_exporter": "python",
   "version": "3.10.8"
  }
 },
 "nbformat": 4,
 "nbformat_minor": 5
}