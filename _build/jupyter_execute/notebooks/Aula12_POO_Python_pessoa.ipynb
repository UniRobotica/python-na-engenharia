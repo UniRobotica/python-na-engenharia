{
 "cells": [
  {
   "cell_type": "markdown",
   "metadata": {},
   "source": [
    "```{thebe-init}\n",
    "---\n",
    "thebe: true\n",
    "---"
   ]
  },
  {
   "cell_type": "markdown",
   "metadata": {},
   "source": [
    "# Introdução\n",
    "\n",
    "As classes são uma forma poderosa de organizar e estruturar nosso código, permitindo a criação de objetos personalizados com propriedades e comportamentos próprios.\n",
    "\n",
    "As classes podem ser definidas como modelos para a criação de objetos.\n",
    "\n",
    "Elas contêm atributos (variáveis) e métodos (funções) que definem o comportamento do objeto criado a partir da classe.\n",
    "\n",
    "Ao criar uma classe, estamos criando um tipo de dado personalizado e reutilizável em nosso código.\n",
    "\n",
    "A utilização de classes é extremamente importante na programação orientada a objetos, pois permite a abstração de problemas complexos em entidades menores, além de facilitar a manutenção e reutilização do código.\n",
    "\n",
    "# Definindo uma Classe\n",
    "No Python, podemos definir uma classe utilizando a palavra-chave class, seguida pelo nome da classe.\n",
    "\n",
    "O nome da classe deve seguir algumas convenções, como começar com uma letra maiúscula e utilizar a notação CamelCase (iniciais das palavras compostas são maiúsculas e não há espaços ou underscores).\n",
    "\n",
    "Aqui está um exemplo simples de uma classe chamada Pessoa:"
   ]
  },
  {
   "cell_type": "code",
   "execution_count": null,
   "metadata": {},
   "outputs": [],
   "source": [
    "class Pessoa:\n",
    "    pass"
   ]
  },
  {
   "cell_type": "markdown",
   "metadata": {},
   "source": [
    "Neste exemplo, utilizamos a palavra-chave pass para indicar que a definição da classe está vazia.\n",
    "\n",
    "Isso permite que possamos criar a classe sem implementar nenhum atributo ou método por enquanto.\n",
    "\n",
    "# Criando um Objeto\n",
    "Uma vez definida a classe, podemos criar objetos a partir dela.\n",
    "\n",
    "Esses objetos são chamados de instâncias da classe.\n",
    "\n",
    "Para criar uma instância, utilizamos o nome da classe seguido de parênteses:\n"
   ]
  },
  {
   "cell_type": "code",
   "execution_count": null,
   "metadata": {},
   "outputs": [],
   "source": [
    "pessoa1 = Pessoa()"
   ]
  },
  {
   "cell_type": "markdown",
   "metadata": {},
   "source": [
    "No exemplo acima, criamos uma instância da classe Pessoa e a atribuímos à variável pessoa1.\n",
    "\n",
    "Agora, podemos acessar essa instância e manipulá-la.\n",
    "\n",
    "# Atributos da Classe\n",
    "\n",
    "A classes podem ter atributos, que são variáveis que pertencem à classe e são compartilhadas por todas as instâncias criadas a partir dessa classe.\n",
    "\n",
    "Os atributos representam as características que o objeto da classe possui.\n",
    "\n",
    "Podemos adicionar um atributo à classe Pessoa da seguinte forma:"
   ]
  },
  {
   "cell_type": "code",
   "execution_count": null,
   "metadata": {},
   "outputs": [],
   "source": [
    "class Pessoa:\n",
    "    nome = \"João\"\n",
    "    idade = 30"
   ]
  },
  {
   "cell_type": "markdown",
   "metadata": {},
   "source": [
    "No exemplo acima, adicionamos os atributos nome e idade à classe Pessoa.\n",
    "\n",
    "Agora, todas as instâncias dessa classe terão esses atributos definidos.\n",
    "\n",
    "Podemos acessar e modificar os atributos de uma instância da seguinte forma:\n"
   ]
  },
  {
   "cell_type": "code",
   "execution_count": null,
   "metadata": {},
   "outputs": [],
   "source": [
    "pessoa1 = Pessoa()\n",
    "print(pessoa1.nome)  \n",
    "\n",
    "pessoa1.nome = \"Maria\"\n",
    "print(pessoa1.nome)  "
   ]
  },
  {
   "cell_type": "markdown",
   "metadata": {},
   "source": [
    "No exemplo acima, acessamos o atributo nome da instância pessoa1 e o modificamos para “Maria”.\n",
    "\n",
    "Podemos fazer o mesmo com o atributo idade.\n",
    "\n",
    "# Métodos da Classe\n",
    "Além de atributos, as classes também podem ter métodos, que são funções que pertencem à classe e podem ser chamadas pelas instâncias dessa classe.\n",
    "\n",
    "Os métodos representam os comportamentos que o objeto da classe pode realizar.\n",
    "\n",
    "Podemos adicionar um método à classe Pessoa da seguinte forma:\n"
   ]
  },
  {
   "cell_type": "code",
   "execution_count": null,
   "metadata": {},
   "outputs": [],
   "source": [
    "class Pessoa:\n",
    "    def falar(self, mensagem):\n",
    "        print(f\"{self.nome} diz: {mensagem}\")"
   ]
  },
  {
   "cell_type": "markdown",
   "metadata": {},
   "source": [
    "No exemplo acima, adicionamos o método falar à classe Pessoa.\n",
    "\n",
    "O método recebe dois parâmetros: self e mensagem.\n",
    "\n",
    "O parâmetro self é uma referência à própria instância da classe, permitindo o acesso aos atributos e métodos dessa instância.\n",
    "\n",
    "Podemos chamar o método falar da seguinte forma:"
   ]
  },
  {
   "cell_type": "code",
   "execution_count": null,
   "metadata": {},
   "outputs": [],
   "source": [
    "pessoa1 = Pessoa()\n",
    "pessoa1.nome = \"João\"\n",
    "pessoa1.falar(\"Olá!\")  "
   ]
  },
  {
   "cell_type": "markdown",
   "metadata": {},
   "source": [
    "No exemplo acima, chamamos o método falar da instância pessoa1, passando a mensagem “Olá!” como parâmetro.\n",
    "\n",
    "# Construtor da Classe\n",
    "O construtor é um método especial que é executado automaticamente quando uma instância da classe é criada.\n",
    "\n",
    "No Python, o construtor é chamado de __init__.\n",
    "\n",
    "Podemos utilizar o construtor para definir valores iniciais para os atributos da classe.\n",
    "\n",
    "Aqui está um exemplo de como definir um construtor na classe Pessoa:"
   ]
  },
  {
   "cell_type": "code",
   "execution_count": null,
   "metadata": {},
   "outputs": [],
   "source": [
    "class Pessoa:\n",
    "    def __init__(self, nome, idade):\n",
    "        self.nome = nome\n",
    "        self.idade = idade\n",
    "    def falar(self, mensagem):\n",
    "        print(f\"{self.nome} diz: {mensagem}\")"
   ]
  },
  {
   "cell_type": "markdown",
   "metadata": {},
   "source": [
    "No exemplo acima, definimos o construtor __init__ com os parâmetros nome e idade.\n",
    "\n",
    "Dentro do construtor, atribuímos os valores desses parâmetros aos atributos da classe Pessoa.\n",
    "\n",
    "Podemos criar uma instância da classe Pessoa e passar os valores para o construtor da seguinte forma:"
   ]
  },
  {
   "cell_type": "code",
   "execution_count": 10,
   "metadata": {},
   "outputs": [
    {
     "name": "stdout",
     "output_type": "stream",
     "text": [
      "João\n",
      "30\n"
     ]
    }
   ],
   "source": [
    "pessoa1 = Pessoa(\"João\", 30)\n",
    "print(pessoa1.nome)\n",
    "print(pessoa1.idade)"
   ]
  },
  {
   "cell_type": "markdown",
   "metadata": {},
   "source": [
    "\n",
    "\n",
    "No exemplo acima, criamos uma instância da classe Pessoa com o nome “João” e idade 30.\n",
    "\n",
    "Ao imprimir os valores dos atributos nome e idade, obtemos os valores passados no construtor.\n",
    "\n",
    "Herança de Classes\n",
    "Uma vantagem das classes é a possibilidade de criar novas classes a partir de classes existentes. Isso é chamado de Herança.\n",
    "\n",
    "A classe derivada herda todos os atributos e métodos da classe base.\n",
    "\n",
    "Aqui está um exemplo de como criar uma classe derivada (também chamada de subclasse) a partir da classe Pessoa:\n"
   ]
  },
  {
   "cell_type": "code",
   "execution_count": 11,
   "metadata": {},
   "outputs": [],
   "source": [
    "class Estudante(Pessoa):\n",
    "    def __init__(self, nome, idade, matricula):\n",
    "        super().__init__(nome, idade)\n",
    "        self.matricula = matricula"
   ]
  },
  {
   "cell_type": "markdown",
   "metadata": {},
   "source": [
    "No exemplo acima, criamos a classe Estudante que herda da classe Pessoa.\n",
    "\n",
    "Utilizamos o método super().__init__() para chamar o construtor da classe Pessoa e passar os valores para os atributos nome e idade.\n",
    "\n",
    "Podemos criar uma instância da classe Estudante e acessar os atributos e métodos da classe base da seguinte forma:"
   ]
  },
  {
   "cell_type": "code",
   "execution_count": 12,
   "metadata": {},
   "outputs": [
    {
     "name": "stdout",
     "output_type": "stream",
     "text": [
      "Maria\n",
      "18\n",
      "12345\n",
      "Maria diz: Olá!\n"
     ]
    }
   ],
   "source": [
    "estudante1 = Estudante(\"Maria\", 18, \"12345\")\n",
    "print(estudante1.nome)  \n",
    "print(estudante1.idade)  \n",
    "print(estudante1.matricula)  \n",
    "estudante1.falar(\"Olá!\")  "
   ]
  },
  {
   "cell_type": "markdown",
   "metadata": {},
   "source": [
    "No exemplo acima, criamos uma instância da classe Estudante com o nome “Maria”, idade 18 e matrícula “12345”.\n",
    "\n",
    "Ao imprimir os valores dos atributos e ao chamar o método falar, temos acesso aos atributos e métodos da classe base Pessoa."
   ]
  }
 ],
 "metadata": {
  "kernelspec": {
   "display_name": "Python 3",
   "language": "python",
   "name": "python3"
  },
  "language_info": {
   "codemirror_mode": {
    "name": "ipython",
    "version": 3
   },
   "file_extension": ".py",
   "mimetype": "text/x-python",
   "name": "python",
   "nbconvert_exporter": "python",
   "pygments_lexer": "ipython3",
   "version": "3.11.9"
  }
 },
 "nbformat": 4,
 "nbformat_minor": 2
}