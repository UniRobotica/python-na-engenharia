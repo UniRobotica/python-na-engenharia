{
 "cells": [
  {
   "cell_type": "markdown",
   "metadata": {},
   "source": [
    "```{thebe-init}\n",
    "---\n",
    "thebe: true\n",
    "---"
   ]
  },
  {
   "cell_type": "markdown",
   "metadata": {},
   "source": [
    "# Contole de escopo de execução"
   ]
  },
  {
   "cell_type": "markdown",
   "metadata": {},
   "source": [
    "## if \\_\\_name\\_\\_ == \"\\_\\_main\\_\\_\"\n",
    "Quando um interpretador de Python lê um arquivo em Python, ele primeiro define algumas variáveis especiais. Depois, ele executa o código do arquivo.\n",
    "\n",
    "Uma dessas variáveis é chamada de \\_\\_name\\_\\_."
   ]
  },
  {
   "cell_type": "code",
   "execution_count": 1,
   "metadata": {},
   "outputs": [
    {
     "ename": "StdinNotImplementedError",
     "evalue": "raw_input was called, but this frontend does not support input requests.",
     "output_type": "error",
     "traceback": [
      "\u001b[1;31m---------------------------------------------------------------------------\u001b[0m",
      "\u001b[1;31mStdinNotImplementedError\u001b[0m                  Traceback (most recent call last)",
      "Cell \u001b[1;32mIn[1], line 6\u001b[0m\n\u001b[0;32m      2\u001b[0m     \u001b[38;5;28mprint\u001b[39m(\u001b[38;5;124mf\u001b[39m\u001b[38;5;124m\"\u001b[39m\u001b[38;5;124mAlô, \u001b[39m\u001b[38;5;132;01m{\u001b[39;00mname\u001b[38;5;132;01m}\u001b[39;00m\u001b[38;5;124m!\u001b[39m\u001b[38;5;124m\"\u001b[39m)\n\u001b[0;32m      4\u001b[0m \u001b[38;5;28;01mif\u001b[39;00m \u001b[38;5;18m__name__\u001b[39m \u001b[38;5;241m==\u001b[39m \u001b[38;5;124m\"\u001b[39m\u001b[38;5;124m__main__\u001b[39m\u001b[38;5;124m\"\u001b[39m:\n\u001b[0;32m      5\u001b[0m     \u001b[38;5;66;03m# Somente será executado se o script é executado como programa main\u001b[39;00m\n\u001b[1;32m----> 6\u001b[0m     aloFulano(\u001b[38;5;28;43minput\u001b[39;49m\u001b[43m(\u001b[49m\u001b[38;5;124;43m\"\u001b[39;49m\u001b[38;5;124;43mdigite seu nome\u001b[39;49m\u001b[38;5;124;43m\"\u001b[39;49m\u001b[43m)\u001b[49m)\n",
      "File \u001b[1;32m~\\anaconda3\\envs\\jupyterbook\\Lib\\site-packages\\ipykernel\\kernelbase.py:1281\u001b[0m, in \u001b[0;36mKernel.raw_input\u001b[1;34m(self, prompt)\u001b[0m\n\u001b[0;32m   1279\u001b[0m \u001b[38;5;28;01mif\u001b[39;00m \u001b[38;5;129;01mnot\u001b[39;00m \u001b[38;5;28mself\u001b[39m\u001b[38;5;241m.\u001b[39m_allow_stdin:\n\u001b[0;32m   1280\u001b[0m     msg \u001b[38;5;241m=\u001b[39m \u001b[38;5;124m\"\u001b[39m\u001b[38;5;124mraw_input was called, but this frontend does not support input requests.\u001b[39m\u001b[38;5;124m\"\u001b[39m\n\u001b[1;32m-> 1281\u001b[0m     \u001b[38;5;28;01mraise\u001b[39;00m StdinNotImplementedError(msg)\n\u001b[0;32m   1282\u001b[0m \u001b[38;5;28;01mreturn\u001b[39;00m \u001b[38;5;28mself\u001b[39m\u001b[38;5;241m.\u001b[39m_input_request(\n\u001b[0;32m   1283\u001b[0m     \u001b[38;5;28mstr\u001b[39m(prompt),\n\u001b[0;32m   1284\u001b[0m     \u001b[38;5;28mself\u001b[39m\u001b[38;5;241m.\u001b[39m_parent_ident[\u001b[38;5;124m\"\u001b[39m\u001b[38;5;124mshell\u001b[39m\u001b[38;5;124m\"\u001b[39m],\n\u001b[0;32m   1285\u001b[0m     \u001b[38;5;28mself\u001b[39m\u001b[38;5;241m.\u001b[39mget_parent(\u001b[38;5;124m\"\u001b[39m\u001b[38;5;124mshell\u001b[39m\u001b[38;5;124m\"\u001b[39m),\n\u001b[0;32m   1286\u001b[0m     password\u001b[38;5;241m=\u001b[39m\u001b[38;5;28;01mFalse\u001b[39;00m,\n\u001b[0;32m   1287\u001b[0m )\n",
      "\u001b[1;31mStdinNotImplementedError\u001b[0m: raw_input was called, but this frontend does not support input requests."
     ]
    }
   ],
   "source": [
    "def aloFulano(name):\n",
    "    print(f\"Alô, {name}!\")\n",
    "\n",
    "if __name__ == \"__main__\":\n",
    "    # Somente será executado se o script é executado como programa main\n",
    "    aloFulano(input(\"digite seu nome\"))\n"
   ]
  },
  {
   "cell_type": "markdown",
   "metadata": {},
   "source": [
    "Os arquivos em Python são chamados de módulos e são identificados pela extensão .py. Um módulo pode definir funções, classes e variáveis.\n",
    "\n",
    "Assim, quando o interpretador executa um módulo, a variável \\_\\_name\\_\\_ será definida como \\_\\_main\\_\\_ se o módulo que estiver sendo executado for o programa principal (main).\n",
    "\n",
    "No entanto, se o código estiver importando o módulo de outro módulo, a variável \\_\\_name\\_\\_  será definida como o nome daquele módulo.\n",
    "\n",
    "Vejamos um exemplo. Crie um módulo em Python chamado excessaoUm.py e cole esse código de nível superior nele:"
   ]
  },
  {
   "cell_type": "code",
   "execution_count": 1,
   "metadata": {},
   "outputs": [
    {
     "name": "stdout",
     "output_type": "stream",
     "text": [
      "__name__ no arquivo um está definido como: __main__\n"
     ]
    }
   ],
   "source": [
    "# módulo excecaoUm\n",
    "\n",
    "print(\"__name__ no arquivo um está definido como: {}\" .format(__name__))"
   ]
  },
  {
   "cell_type": "markdown",
   "metadata": {},
   "source": [
    "Agora vamos adicionar outro módulo, excessaoDois.py, e colar nele este código:"
   ]
  },
  {
   "cell_type": "code",
   "execution_count": null,
   "metadata": {},
   "outputs": [],
   "source": [
    "# módulo excessaoDois.py \n",
    "\n",
    "if __name__ == \"__main__\":\n",
    "   print(\"Arquivo dois executado quando rodou diretamente\")\n",
    "else:\n",
    "   print(\"Arquivo dois executado ao ser importado\")\n",
    "\n",
    "print(\"__name__ no arquivo dois está definido como: {}\" .format(__name__))\n"
   ]
  },
  {
   "cell_type": "markdown",
   "metadata": {},
   "source": [
    "Agora, vamos modificar o código em excessaoUm.py para que possamos importar o módulo excessaoDois.py dessa maneira:"
   ]
  },
  {
   "cell_type": "code",
   "execution_count": 2,
   "metadata": {},
   "outputs": [
    {
     "name": "stdout",
     "output_type": "stream",
     "text": [
      "Arquivo dois executado ao ser importado\n",
      "__name__ no arquivo dois está definido como: modulos.excecaoDois\n",
      "__name__ no arquivo um está definido como: __main__\n",
      "Arquivo um executado quando rodou diretamente\n"
     ]
    }
   ],
   "source": [
    "from modulos import excecaoDois\n",
    "\n",
    "print(\"__name__ no arquivo um está definido como: {}\" .format(__name__))\n",
    "\n",
    "if __name__ == \"__main__\":\n",
    "   print(\"Arquivo um executado quando rodou diretamente\")\n",
    "else:\n",
    "   print(\"Arquivo um executado ao ser importado\")"
   ]
  },
  {
   "cell_type": "markdown",
   "metadata": {},
   "source": [
    "A variável \\_\\_name\\_\\_ para o arquivo/módulo que é executado será sempre \\_\\_main\\_\\_. Mas a variável \\_\\_name\\_\\_ para todos os outros módulos que são importados será definida com o próprio nome do módulo."
   ]
  },
  {
   "cell_type": "markdown",
   "metadata": {},
   "source": [
    "Use a variável \\_\\_name\\_\\_, caso você queira que um arquivo seja executado como o programa principal (main) ou importado por outros módulos. Podemos usar um bloco if \\_\\_name\\_\\_ == \"\\_\\_main\\_\\_\" para permitir ou evitar que partes do código sejam executadas ao importar os módulos.\n",
    "\n",
    "Quando o interpretador do Python lê um arquivo, a variável \\_\\_name\\_\\_ é definida como \\_\\_main\\_\\_ se o módulo que está sendo executado, ou como o nome do módulo se ele for importado. Ler o arquivo executará todo o código de nível superior, mas não as funções e classes (já que elas serão apenas importadas)."
   ]
  }
 ],
 "metadata": {
  "kernelspec": {
   "display_name": "Python 3",
   "language": "python",
   "name": "python3"
  },
  "language_info": {
   "codemirror_mode": {
    "name": "ipython",
    "version": 3
   },
   "file_extension": ".py",
   "mimetype": "text/x-python",
   "name": "python",
   "nbconvert_exporter": "python",
   "pygments_lexer": "ipython3",
   "version": "3.13.0"
  }
 },
 "nbformat": 4,
 "nbformat_minor": 2
}