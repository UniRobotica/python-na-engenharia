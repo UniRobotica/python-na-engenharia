{
 "cells": [
  {
   "cell_type": "markdown",
   "metadata": {},
   "source": [
    "```{thebe-init}\n",
    "---\n",
    "thebe: true\n",
    "---"
   ]
  },
  {
   "cell_type": "markdown",
   "metadata": {},
   "source": [
    "# Criando módulos\n",
    "\n",
    "criaremos um módulo que representa um círculo. Para isso, criamos um arquivo chamado circulo.py com o seguinte conteúdo:"
   ]
  },
  {
   "cell_type": "code",
   "execution_count": 1,
   "metadata": {},
   "outputs": [],
   "source": [
    "Pi = 3.14159\n",
    "\n",
    "def area(raio):\n",
    "  return Pi * (raio ** 2)\n",
    "\n",
    "def comprimento_circunferencia(raio):\n",
    "  return 2 * Pi * raio"
   ]
  },
  {
   "cell_type": "code",
   "execution_count": 2,
   "metadata": {},
   "outputs": [
    {
     "data": {
      "text/plain": [
       "28.27431"
      ]
     },
     "execution_count": 2,
     "metadata": {},
     "output_type": "execute_result"
    }
   ],
   "source": [
    "area(3)"
   ]
  },
  {
   "cell_type": "code",
   "execution_count": 3,
   "metadata": {},
   "outputs": [
    {
     "data": {
      "text/plain": [
       "18.849539999999998"
      ]
     },
     "execution_count": 3,
     "metadata": {},
     "output_type": "execute_result"
    }
   ],
   "source": [
    "comprimento_circunferencia(3)"
   ]
  },
  {
   "cell_type": "code",
   "execution_count": 4,
   "metadata": {},
   "outputs": [
    {
     "ename": "ImportError",
     "evalue": "cannot import name 'circulo' from 'modulos' (unknown location)",
     "output_type": "error",
     "traceback": [
      "\u001b[1;31m---------------------------------------------------------------------------\u001b[0m",
      "\u001b[1;31mImportError\u001b[0m                               Traceback (most recent call last)",
      "Cell \u001b[1;32mIn[4], line 1\u001b[0m\n\u001b[1;32m----> 1\u001b[0m \u001b[38;5;28;01mfrom\u001b[39;00m \u001b[38;5;21;01mmodulos\u001b[39;00m \u001b[38;5;28;01mimport\u001b[39;00m circulo\n\u001b[0;32m      2\u001b[0m r\u001b[38;5;241m=\u001b[39m\u001b[38;5;28mfloat\u001b[39m(\u001b[38;5;28minput\u001b[39m(\u001b[38;5;124m\"\u001b[39m\u001b[38;5;124mdigite o raio\u001b[39m\u001b[38;5;124m\"\u001b[39m))\n\u001b[0;32m      3\u001b[0m \u001b[38;5;28mprint\u001b[39m(circulo\u001b[38;5;241m.\u001b[39mPi)\n",
      "\u001b[1;31mImportError\u001b[0m: cannot import name 'circulo' from 'modulos' (unknown location)"
     ]
    }
   ],
   "source": [
    "from modulos import circulo\n",
    "r=float(input(\"digite o raio\"))\n",
    "print(circulo.Pi)\n",
    "print(circulo.area(r))\n",
    "print(circulo.comprimento_circunferencia(r))"
   ]
  },
  {
   "cell_type": "markdown",
   "metadata": {},
   "source": [
    "## Exemplo de modulo usando calculadora\n",
    "\n",
    " Uso de menu e módulos\n"
   ]
  },
  {
   "cell_type": "code",
   "execution_count": null,
   "metadata": {},
   "outputs": [
    {
     "name": "stdout",
     "output_type": "stream",
     "text": [
      "05/04/2024\n",
      "\n",
      "Calculadora\n",
      "-------------------------\n",
      "Escolha dos numeros\n",
      "\n"
     ]
    },
    {
     "name": "stdout",
     "output_type": "stream",
     "text": [
      "1. Soma\n",
      "2. Subtração\n",
      "3. Multiplicação\n",
      "4. Divisão\n",
      "O valor da subtração e: -40.0\n",
      "-----------------\n"
     ]
    }
   ],
   "source": [
    "from modulos import calculadora as calc\n",
    "\n",
    "import textwrap\n",
    "\n",
    "continua=\"9\"\n",
    "while continua==\"9\":\n",
    "  print(\"Escolha dos numeros\")\n",
    "  print(\"\")\n",
    "  x=float(input(\"Digite o primeiro numero: \"))\n",
    "  y=float(input(\"Digite o segundo numero: \"))\n",
    "  print(\"1. Soma\")\n",
    "  print(\"2. Subtração\")\n",
    "  print(\"3. Multiplicação\")\n",
    "  print(\"4. Divisão\")  \n",
    "  opcao = menu()\n",
    "  if opcao == \"1\":\n",
    "    print(\"O valor da Soma:\", calc.soma(x,y))\n",
    "  elif opcao ==\"2\":\n",
    "    print(\"O valor da subtração e:\", calc.subtracao(x,y))\n",
    "    print (\"-----------------\")\n",
    "  elif opcao ==\"3\":\n",
    "    print(\"O valor da Multiplicação:\", calc.multiplicacao(x,y))\n",
    "  elif opcao ==\"4\":\n",
    "    print(\"O valor da Divisão:\", calc.divisao(x,y))\n",
    "    print (\"-----------------\")\n",
    "  else:\n",
    "    print(\"Opção inválida,tente novamente\")\n",
    "  continua=input(\"Digite 9 para continuar: ou qualquer outro valor para sair: \").upper()"
   ]
  }
 ],
 "metadata": {
  "kernelspec": {
   "display_name": "Python 3",
   "language": "python",
   "name": "python3"
  },
  "language_info": {
   "codemirror_mode": {
    "name": "ipython",
    "version": 3
   },
   "file_extension": ".py",
   "mimetype": "text/x-python",
   "name": "python",
   "nbconvert_exporter": "python",
   "pygments_lexer": "ipython3",
   "version": "3.13.0"
  }
 },
 "nbformat": 4,
 "nbformat_minor": 2
}