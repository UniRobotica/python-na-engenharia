{
 "cells": [
  {
   "cell_type": "markdown",
   "metadata": {},
   "source": [
    "```{thebe-init}\n",
    "---\n",
    "thebe: true\n",
    "---"
   ]
  },
  {
   "cell_type": "markdown",
   "metadata": {},
   "source": [
    "# Programação orientada a objetos - Parte 3"
   ]
  },
  {
   "cell_type": "markdown",
   "metadata": {},
   "source": [
    "## Self\n",
    "\n",
    "Com a palavra-chave self conseguimos acessar os atributos e métodos de uma classe em Python. Ela é responsável por vincular os atributos com os argumentos enviados para uma função ou método.\n",
    "\n",
    "O python utiliza essa palavra pois não há a sintaxe @ ou this para referenciar os atributos de instância. O self é sempre o primeiro parâmetro de todos os métodos chamados por uma instância de uma classe (ou seja, um objeto).\n",
    "\n",
    "    Self está sempre apontando para o objeto atual.\n",
    "\n",
    "Vejamos nosso primeiro exemplo abaixo. A classe teste tem dentro do seu construtor uma mensagem para imprimir o endereço da variável self:"
   ]
  },
  {
   "cell_type": "code",
   "execution_count": 3,
   "metadata": {},
   "outputs": [],
   "source": [
    "class teste:\n",
    "    def __init__(self):\n",
    "        print(\"Referência do self= \",id(self))"
   ]
  },
  {
   "cell_type": "code",
   "execution_count": 4,
   "metadata": {},
   "outputs": [
    {
     "name": "stdout",
     "output_type": "stream",
     "text": [
      "Referência do self=  2461971144080\n",
      "Referência do objeto classe teste= 2461971144080\n"
     ]
    }
   ],
   "source": [
    "obj = teste()\n",
    "print(\"Referência do objeto classe teste=\", id(obj))"
   ]
  },
  {
   "cell_type": "markdown",
   "metadata": {},
   "source": [
    "O __init__ é o construtor da classe teste, significa que sempre que um novo objeto for instanciado a mensagem \"Endereço do self: \" será executado.\n",
    "Nesse exemplo conseguimos comprovar que a variável self e o objeto obj possuem o mesmo endereço de memória, ou seja, representam a mesma coisa.\n",
    "\n",
    "Agora vamos estudar um exemplo com atributos na classe."
   ]
  },
  {
   "cell_type": "code",
   "execution_count": 5,
   "metadata": {},
   "outputs": [],
   "source": [
    "class carro():\n",
    "    def __init__(self, modelo, cor):\n",
    "        self.modelo = modelo\n",
    "        self.cor = cor\n",
    "\n",
    "    def mostrar(self):\n",
    "        print(\"O modelo é\", self.modelo)\n",
    "        print(\"A cor é\", self.cor)"
   ]
  },
  {
   "cell_type": "code",
   "execution_count": 6,
   "metadata": {},
   "outputs": [],
   "source": [
    "audi = carro(\"audi A4\", \"azul\")\n"
   ]
  },
  {
   "cell_type": "code",
   "execution_count": 7,
   "metadata": {},
   "outputs": [],
   "source": [
    "ferrari = carro (\"ferrari 488\", \"verde\")\n",
    "\n"
   ]
  },
  {
   "cell_type": "code",
   "execution_count": 8,
   "metadata": {},
   "outputs": [
    {
     "name": "stdout",
     "output_type": "stream",
     "text": [
      "O modelo é audi A4\n",
      "A cor é azul\n"
     ]
    }
   ],
   "source": [
    "audi.mostrar()\n",
    "\n"
   ]
  },
  {
   "cell_type": "code",
   "execution_count": 9,
   "metadata": {},
   "outputs": [
    {
     "name": "stdout",
     "output_type": "stream",
     "text": [
      "O modelo é ferrari 488\n",
      "A cor é verde\n"
     ]
    }
   ],
   "source": [
    "ferrari.mostrar()"
   ]
  },
  {
   "cell_type": "markdown",
   "metadata": {},
   "source": [
    "Definimos a classe carro com dois parâmetros, modelo e cor. Podemos observar que a palavra self é sempre utilizada como primeiro argumento, tanto do construtor quanto do método mostrar. Nem quando instanciamos os objetos, nem quando chamamos o método mostrar utilizamos esse primeiro argumento self, o python passa essa chamada do método como se estivesse chamando carro.mostrar(audi) ou carro.mostrar(ferrari), vejam os exemplos abaixo:"
   ]
  },
  {
   "cell_type": "markdown",
   "metadata": {},
   "source": [
    "Portanto, apesar de utilizarmos o self como primeiro argumento na definição de classes e métodos, não precisamos utilizá-lo na chamada. Mas o que acontece se não declararmos o self como primeiro parâmetro na definição? Será que essa palavra é opcional, servindo apenas para melhorar a legibilidade?\n",
    "\n",
    "Vamos testar:"
   ]
  },
  {
   "cell_type": "code",
   "execution_count": 10,
   "metadata": {},
   "outputs": [
    {
     "ename": "TypeError",
     "evalue": "teste_2.__init__() takes 0 positional arguments but 1 was given",
     "output_type": "error",
     "traceback": [
      "\u001b[1;31m---------------------------------------------------------------------------\u001b[0m",
      "\u001b[1;31mTypeError\u001b[0m                                 Traceback (most recent call last)",
      "Cell \u001b[1;32mIn[10], line 5\u001b[0m\n\u001b[0;32m      2\u001b[0m     \u001b[38;5;28;01mdef\u001b[39;00m \u001b[38;5;21m__init__\u001b[39m():\n\u001b[0;32m      3\u001b[0m         \u001b[38;5;28mprint\u001b[39m(\u001b[38;5;124m\"\u001b[39m\u001b[38;5;124mEsse é o construtor\u001b[39m\u001b[38;5;124m\"\u001b[39m)\n\u001b[1;32m----> 5\u001b[0m objeto_2 \u001b[38;5;241m=\u001b[39m \u001b[43mteste_2\u001b[49m\u001b[43m(\u001b[49m\u001b[43m)\u001b[49m\n\u001b[0;32m      6\u001b[0m \u001b[38;5;28mprint\u001b[39m(\u001b[38;5;124m\"\u001b[39m\u001b[38;5;124mdeu certo\u001b[39m\u001b[38;5;124m\"\u001b[39m)\n",
      "\u001b[1;31mTypeError\u001b[0m: teste_2.__init__() takes 0 positional arguments but 1 was given"
     ]
    }
   ],
   "source": [
    "class teste_2:\n",
    "    def __init__():\n",
    "        print(\"Esse é o construtor\")\n",
    "\n",
    "objeto_2 = teste_2()\n",
    "print(\"deu certo\")\n"
   ]
  },
  {
   "cell_type": "markdown",
   "metadata": {},
   "source": [
    "Vejam que o python não aceitou o construtor sem o self. Assim chegamos a uma conclusão:\n",
    "\n",
    "    O self é sempre o primeiro argumento a ser passado em um construtor e nos métodos de instâncias.\n",
    "\n",
    "O último teste que faremos é a utilização de outro parâmetro no lugar do self, será que self é uma palavra reservada e teremos erro?"
   ]
  },
  {
   "cell_type": "code",
   "execution_count": 12,
   "metadata": {},
   "outputs": [
    {
     "name": "stdout",
     "output_type": "stream",
     "text": [
      "Usando outro parâmetro no lugar de self\n",
      "deu certo\n"
     ]
    }
   ],
   "source": [
    "class teste_3:\n",
    "    def __init__(outro_self):\n",
    "        print(\"Usando outro parâmetro no lugar de self\")\n",
    "\n",
    "objeto_3 = teste_3()\n",
    "print(\"deu certo\")"
   ]
  },
  {
   "cell_type": "markdown",
   "metadata": {},
   "source": [
    "Não teremos nenhum erro, pois a realidade é que o self não é uma palavra reservada, é apenas uma convenção de boa prática. Melhora a legibilidade.\n",
    "\n",
    "    O self é uma convenção e não uma palavra reservada\n",
    "\n",
    "É possível utilizar outras palavras no lugar do self, mas preste atenção de utilizá-la em todos os lugares daquele método onde o self iria aparecer. Vejam os dois casos abaixo:\n"
   ]
  },
  {
   "cell_type": "code",
   "execution_count": 13,
   "metadata": {},
   "outputs": [
    {
     "ename": "NameError",
     "evalue": "name 'self' is not defined",
     "output_type": "error",
     "traceback": [
      "\u001b[1;31m---------------------------------------------------------------------------\u001b[0m",
      "\u001b[1;31mNameError\u001b[0m                                 Traceback (most recent call last)",
      "Cell \u001b[1;32mIn[13], line 10\u001b[0m\n\u001b[0;32m      7\u001b[0m         \u001b[38;5;28mprint\u001b[39m(\u001b[38;5;124m\"\u001b[39m\u001b[38;5;124mO modelo é\u001b[39m\u001b[38;5;124m\"\u001b[39m, \u001b[38;5;28mself\u001b[39m\u001b[38;5;241m.\u001b[39mmodelo)\n\u001b[0;32m      8\u001b[0m         \u001b[38;5;28mprint\u001b[39m(\u001b[38;5;124m\"\u001b[39m\u001b[38;5;124mA cor é\u001b[39m\u001b[38;5;124m\"\u001b[39m, \u001b[38;5;28mself\u001b[39m\u001b[38;5;241m.\u001b[39mcor)\n\u001b[1;32m---> 10\u001b[0m fusca \u001b[38;5;241m=\u001b[39m \u001b[43mcarro\u001b[49m\u001b[43m(\u001b[49m\u001b[38;5;124;43m'\u001b[39;49m\u001b[38;5;124;43mfusca\u001b[39;49m\u001b[38;5;124;43m'\u001b[39;49m\u001b[43m,\u001b[49m\u001b[38;5;124;43m'\u001b[39;49m\u001b[38;5;124;43mamarelo\u001b[39;49m\u001b[38;5;124;43m'\u001b[39;49m\u001b[43m)\u001b[49m\n",
      "Cell \u001b[1;32mIn[13], line 3\u001b[0m, in \u001b[0;36mcarro.__init__\u001b[1;34m(outro, modelo, cor)\u001b[0m\n\u001b[0;32m      2\u001b[0m \u001b[38;5;28;01mdef\u001b[39;00m \u001b[38;5;21m__init__\u001b[39m(outro, modelo, cor):\n\u001b[1;32m----> 3\u001b[0m     \u001b[38;5;28;43mself\u001b[39;49m\u001b[38;5;241m.\u001b[39mmodelo \u001b[38;5;241m=\u001b[39m modelo\n\u001b[0;32m      4\u001b[0m     \u001b[38;5;28mself\u001b[39m\u001b[38;5;241m.\u001b[39mcor \u001b[38;5;241m=\u001b[39m cor\n",
      "\u001b[1;31mNameError\u001b[0m: name 'self' is not defined"
     ]
    }
   ],
   "source": [
    "class carro():\n",
    "    def __init__(outro, modelo, cor):\n",
    "        self.modelo = modelo\n",
    "        self.cor = cor\n",
    "\n",
    "    def mostrar(self):\n",
    "        print(\"O modelo é\", self.modelo)\n",
    "        print(\"A cor é\", self.cor)\n",
    "\n",
    "fusca = carro('fusca','amarelo')"
   ]
  },
  {
   "cell_type": "markdown",
   "metadata": {},
   "source": [
    "E aqui a execução funcionaria sem problemas:"
   ]
  },
  {
   "cell_type": "code",
   "execution_count": 14,
   "metadata": {},
   "outputs": [
    {
     "name": "stdout",
     "output_type": "stream",
     "text": [
      "O modelo é fusca\n",
      "A cor é amarelo\n"
     ]
    }
   ],
   "source": [
    "class carro():\n",
    "    def __init__(outro, modelo, cor):\n",
    "        outro.modelo = modelo\n",
    "        outro.cor = cor\n",
    "\n",
    "    def mostrar(self):\n",
    "        print(\"O modelo é\", self.modelo)\n",
    "        print(\"A cor é\", self.cor)\n",
    "\n",
    "fusca = carro('fusca','amarelo')\n",
    "\n",
    "fusca.mostrar()"
   ]
  }
 ],
 "metadata": {
  "kernelspec": {
   "display_name": "Python 3",
   "language": "python",
   "name": "python3"
  },
  "language_info": {
   "codemirror_mode": {
    "name": "ipython",
    "version": 3
   },
   "file_extension": ".py",
   "mimetype": "text/x-python",
   "name": "python",
   "nbconvert_exporter": "python",
   "pygments_lexer": "ipython3",
   "version": "3.11.9"
  },
  "orig_nbformat": 4
 },
 "nbformat": 4,
 "nbformat_minor": 2
}
