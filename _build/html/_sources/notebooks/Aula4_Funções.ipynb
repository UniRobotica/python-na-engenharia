{
 "cells": [
  {
   "cell_type": "markdown",
   "metadata": {},
   "source": [
    "```{thebe-init}\n",
    "---\n",
    "thebe: true\n",
    "---"
   ]
  },
  {
   "cell_type": "markdown",
   "metadata": {},
   "source": [
    "# Funções\n",
    "Python fornece diversas funções integradas, mas você também pode escrever suas próprias funções. Uma função é como um miniprograma dentro de um programa."
   ]
  },
  {
   "cell_type": "code",
   "execution_count": null,
   "metadata": {},
   "outputs": [],
   "source": [
    "def hello(): #def nome_da_função(arg)\n",
    "   print('Howdy!')\n",
    "   print('Howdy!!!')\n",
    "   print('Hello there.')"
   ]
  },
  {
   "cell_type": "code",
   "execution_count": null,
   "metadata": {},
   "outputs": [],
   "source": [
    "hello() #chamando"
   ]
  },
  {
   "cell_type": "code",
   "execution_count": null,
   "metadata": {},
   "outputs": [],
   "source": [
    "hello()\n",
    "hello()\n",
    "hello()"
   ]
  },
  {
   "cell_type": "markdown",
   "metadata": {},
   "source": [
    "https://autbor.com/hellofunc/"
   ]
  },
  {
   "cell_type": "markdown",
   "metadata": {},
   "source": [
    " No código, uma chamada de função é apenas o nome da função seguido de parênteses, possivelmente com algum número de argumentos entre os parênteses.\n",
    " \n",
    " Quando a execução do programa atingir essas chamadas, ele irá para a linha superior da função e começará a executar o código ali. \n",
    " \n",
    " Ao chegar ao final da função, a execução retorna para a linha que chamou a função e continua percorrendo o código como antes."
   ]
  },
  {
   "cell_type": "markdown",
   "metadata": {},
   "source": [
    "Um dos principais objetivos das funções é agrupar o código que é executado várias vezes."
   ]
  },
  {
   "cell_type": "markdown",
   "metadata": {},
   "source": [
    "## Instruções def com parâmetros\n",
    "Ao chamar a função print() ou len() , você passa valores para eles, chamados argumentos , digitando-os entre parênteses. Você também pode definir suas próprias funções que aceitam argumentos. "
   ]
  },
  {
   "cell_type": "code",
   "execution_count": 4,
   "metadata": {},
   "outputs": [],
   "source": [
    "def hello(name):\n",
    "    print('Hello, ' + name)"
   ]
  },
  {
   "cell_type": "code",
   "execution_count": null,
   "metadata": {},
   "outputs": [],
   "source": [
    "hello()"
   ]
  },
  {
   "cell_type": "code",
   "execution_count": null,
   "metadata": {},
   "outputs": [],
   "source": [
    "hello('Alice')\n",
    "hello('Bob')"
   ]
  },
  {
   "cell_type": "code",
   "execution_count": 9,
   "metadata": {},
   "outputs": [],
   "source": [
    "name = \"informatica\""
   ]
  },
  {
   "cell_type": "code",
   "execution_count": null,
   "metadata": {},
   "outputs": [],
   "source": [
    "print(name)"
   ]
  },
  {
   "cell_type": "markdown",
   "metadata": {},
   "source": [
    "A definição da função hello() neste programa possui um parâmetro chamado name. \n",
    "Parâmetros são variáveis ​​que contêm argumentos. Quando uma função é chamada com argumentos, os argumentos são armazenados nos parâmetros. \n",
    "Na primeira vez que a função hello() é chamada, é passado o argumento 'Alice'. \n",
    "A execução do programa entra na função e o nome do parâmetro é automaticamente definido como 'Alice' , que é impresso pela instrução print().\n",
    "\n",
    "Uma coisa especial a ser observada sobre os parâmetros é que o valor armazenado em um parâmetro é esquecido quando a função retorna. Por exemplo, se você adicionou print(name) depois de hello('Bob') no programa anterior, o programa forneceria um NameError porque não há nenhuma variável chamada name. Esta variável é destruída após o retorno da chamada de função hello('Bob') , então print(name) se referiria a uma variável de nome que não existe. Isto é semelhante a como as variáveis ​​de um programa são esquecidas quando o programa termina."
   ]
  },
  {
   "cell_type": "code",
   "execution_count": null,
   "metadata": {},
   "outputs": [],
   "source": [
    "print(name)"
   ]
  },
  {
   "cell_type": "markdown",
   "metadata": {},
   "source": [
    "## Definir, Chamar, Passar, Argumento, Parâmetro\n",
    "\n",
    "Definir uma função é criá-la, assim como uma instrução de atribuição como spam = 42 cria a variável spam."
   ]
  },
  {
   "cell_type": "code",
   "execution_count": 11,
   "metadata": {},
   "outputs": [],
   "source": [
    "def sayHello(name):\n",
    "       print('Hello, ' + name)"
   ]
  },
  {
   "cell_type": "code",
   "execution_count": null,
   "metadata": {},
   "outputs": [],
   "source": [
    "sayHello('Al')"
   ]
  },
  {
   "cell_type": "markdown",
   "metadata": {},
   "source": [
    "A instrução def define a função sayHello(), que chama a função agora criada, enviando a execução para o topo do código da função. \n",
    "Esta chamada de função também é conhecida como passagem do valor da string 'Al' para a função. Um valor sendopassado para uma função em uma chamada de função é um argumento.\n",
    "O argumento 'Al' é atribuído a uma variável local chamada name. \n",
    "Variáveis ​​que possuem argumentos atribuídos a elas são parâmetros."
   ]
  },
  {
   "cell_type": "markdown",
   "metadata": {},
   "source": [
    "## Valores de retorno e instruções de retorno\n",
    "Quando você chama a função len() e passa um argumento como 'Hello' , a chamada da função é avaliada como o valor inteiro 5 , que é o comprimento da string que você passou. Em geral, o valor avaliado por uma chamada de função é chamado de valor de retorno da função.\n",
    "\n",
    "Ao criar uma função usando a instrução def , você pode especificar qual deve ser o valor de retorno com uma instrução return . Uma instrução de retorno consiste no seguinte:\n",
    "\n",
    "* A palavra-chave de retorno\n",
    "* O valor ou expressão que a função deve retornar\n",
    "\n",
    "Quando uma expressão é usada com uma instrução return , o valor de retorno é o valor avaliado pela expressão. \n",
    "\n",
    "Por exemplo, o programa a seguir define uma função que retorna uma string diferente dependendo do número que ela é passada como argumento. "
   ]
  },
  {
   "cell_type": "code",
   "execution_count": null,
   "metadata": {},
   "outputs": [],
   "source": [
    "len(\"informatica\")"
   ]
  },
  {
   "cell_type": "code",
   "execution_count": null,
   "metadata": {},
   "outputs": [],
   "source": [
    "import random\n",
    "\n",
    "def getAnswer(answerNumber): #define função getAnswer (argumento=asnwerNumber)\n",
    "    if answerNumber == 1:\n",
    "           return 'It is certain' #return da função para aa condição deste if\n",
    "    elif answerNumber == 2:\n",
    "           return 'It is decidedly so'\n",
    "    elif answerNumber == 3:\n",
    "           return 'Yes'\n",
    "    elif answerNumber == 4:\n",
    "           return 'Reply hazy try again'\n",
    "    elif answerNumber == 5:\n",
    "           return 'Ask again later'\n",
    "    elif answerNumber == 6:\n",
    "           return 'Concentrate and ask again'\n",
    "    elif answerNumber == 7:\n",
    "           return 'My reply is no'\n",
    "    elif answerNumber == 8:\n",
    "           return 'Outlook not so good'\n",
    "    elif answerNumber == 9:\n",
    "           return 'Very doubtful'\n",
    "\n",
    "r = random.randint(1, 9) #a função random.randint() é chamada com dois argumentos: 1 e 9. Ele é avaliado como um número inteiro aleatório entre 1 e 9 (incluindo os próprios 1 e 9 ), e esse valor é armazenado em uma variável chamada r .\n",
    "\n",
    "fortune = getAnswer(r) #chama a função e passa como argumento\n",
    "\n",
    "print(r)\n",
    "\n",
    "print(fortune)"
   ]
  },
  {
   "cell_type": "markdown",
   "metadata": {},
   "source": [
    "Como você pode passar valores de retorno como argumento para outra chamada de função, você pode encurtar estas últimas três linhas:"
   ]
  },
  {
   "cell_type": "code",
   "execution_count": null,
   "metadata": {},
   "outputs": [],
   "source": [
    "print(getAnswer(random.randint(1, 9)))"
   ]
  },
  {
   "cell_type": "markdown",
   "metadata": {},
   "source": [
    "## O valor None\n",
    "Em Python, existe um valor chamado None , que representa a ausência de um valor. O valor None é o único valor do tipo de dados NoneType . (Outras linguagens de programação podem chamar esse valor de null , nil ou undefined .) Assim como os valores booleanos True e False , None deve ser digitado com N maiúsculo .\n",
    "\n",
    "Esse valor sem valor pode ser útil quando você precisa armazenar algo que não será confundido com um valor real em uma variável. Um lugar onde None é usado é como valor de retorno de print() . A função print() exibe texto na tela, mas não precisa retornar nada da mesma forma que len() ou input() . Mas como todas as chamadas de função precisam ser avaliadas como um valor de retorno, print() retorna None. \n",
    "\n",
    "Python adiciona return None ao final de qualquer definição de função sem instrução de retorno . Isso é semelhante a como um loop while ou for termina implicitamente com uma instrução continue . Além disso, se você usar uma instrução return sem um valor (ou seja, apenas a palavra-chave return por si só), None será retornado"
   ]
  },
  {
   "cell_type": "code",
   "execution_count": null,
   "metadata": {},
   "outputs": [],
   "source": [
    "vazio = print('Hello!')"
   ]
  },
  {
   "cell_type": "code",
   "execution_count": 20,
   "metadata": {},
   "outputs": [],
   "source": [
    "vazio"
   ]
  },
  {
   "cell_type": "code",
   "execution_count": null,
   "metadata": {},
   "outputs": [],
   "source": [
    "None == vazio"
   ]
  },
  {
   "cell_type": "markdown",
   "metadata": {},
   "source": [
    "Argumentos de palavras-chave são frequentemente usados ​​para parâmetros opcionais . Por exemplo, a função print() possui os parâmetros opcionais end e sep para especificar o que deve ser impresso no final de seus argumentos e entre seus argumentos"
   ]
  },
  {
   "cell_type": "code",
   "execution_count": null,
   "metadata": {},
   "outputs": [],
   "source": [
    "print('Hello')\n",
    "print('World')"
   ]
  },
  {
   "cell_type": "code",
   "execution_count": null,
   "metadata": {},
   "outputs": [],
   "source": [
    "print('Hello', end=' ')\n",
    "print('World')"
   ]
  },
  {
   "cell_type": "code",
   "execution_count": null,
   "metadata": {},
   "outputs": [],
   "source": [
    "print('cats','dogs','mice')"
   ]
  },
  {
   "cell_type": "code",
   "execution_count": null,
   "metadata": {},
   "outputs": [],
   "source": [
    "print('cats', 'dogs', 'mice', sep=',    ')"
   ]
  },
  {
   "cell_type": "markdown",
   "metadata": {},
   "source": [
    "## CALL Stack\n",
    "\n",
    "Imagine que você tem uma conversa sinuosa com alguém. \n",
    "\n",
    "Você fala sobre sua amiga Alice, o que então te lembra uma história sobre seu colega de trabalho Bob, mas primeiro você tem que explicar algo sobre sua prima Carol. \n",
    "\n",
    "Você termina sua história sobre Carol e volta a falar sobre Bob, e quando termina sua história sobre Bob, volta a falar sobre Alice. \n",
    "\n",
    "Mas então você se lembra de seu irmão David, então conta uma história sobre ele e depois volta a terminar sua história original sobre Alice. \n",
    "\n",
    "Sua conversa seguiu uma estrutura semelhante a uma pilha , como na Figura seguinte. \n",
    "\n",
    "A conversa é semelhante a uma pilha porque o tópico atual está sempre no topo da pilha."
   ]
  },
  {
   "cell_type": "markdown",
   "metadata": {},
   "source": [
    "![image.png 1](./Figuras/aula04/img01.jpg)"
   ]
  },
  {
   "cell_type": "markdown",
   "metadata": {},
   "source": [
    "Semelhante ao exemplo, chamar uma função não envia a execução em uma viagem só de ida ao topo de uma função. \n",
    "\n",
    "Python lembrará qual linha de código chamou a função para que a execução possa retornar para lá quando encontrar uma instrução de retorno . \n",
    "\n",
    "Se essa função original chamasse outras funções, a execução retornaria primeiro a essas chamadas de função, antes de retornar da chamada de função original."
   ]
  },
  {
   "cell_type": "code",
   "execution_count": null,
   "metadata": {},
   "outputs": [],
   "source": [
    "def a():\n",
    "    print('a() inicia')\n",
    "    b()\n",
    "    d()\n",
    "    print('a() retorna')\n",
    "\n",
    "def b():\n",
    "    print('b() inicia')\n",
    "    c()\n",
    "    print ('b() retorna')\n",
    "\n",
    "def c():\n",
    "    print('c() inicia')\n",
    "    print('c() retorna')\n",
    "\n",
    "def d():\n",
    "       print('d() inicia')\n",
    "       print('d() retorna')\n",
    "\n",
    "a()"
   ]
  },
  {
   "cell_type": "markdown",
   "metadata": {},
   "source": [
    "![image.png 2](./Figuras/aula04/img02.jpg)"
   ]
  },
  {
   "cell_type": "markdown",
   "metadata": {},
   "source": [
    "## Escopo Local e Global\n",
    "Diz-se que os parâmetros e variáveis ​​atribuídos em uma função chamada existem no escopo local dessa função . Diz-se que variáveis ​​atribuídas fora de todas as funções existem no escopo global . Uma variável que existe em um escopo local é chamada de variável local , enquanto uma variável que existe no escopo global é chamada de variável global. Uma variável deve ser uma ou outra; não pode ser local e global.\n",
    "\n",
    "* O código no escopo global, fora de todas as funções, não pode usar variáveis ​​locais.\n",
    "* No entanto, o código em escopo local pode acessar variáveis ​​globais.\n",
    "* O código no escopo local de uma função não pode usar variáveis ​​em nenhum outro escopo local.\n",
    "* Você pode usar o mesmo nome para variáveis ​​diferentes se elas estiverem em escopos diferentes. Ou seja, pode haver uma variável local chamada spam e uma variável global também chamada spam ."
   ]
  },
  {
   "cell_type": "code",
   "execution_count": null,
   "metadata": {},
   "outputs": [],
   "source": [
    "def funcao():\n",
    "    num1 = 31337\n",
    "    \n",
    "funcao()\n",
    "print(num1)"
   ]
  },
  {
   "cell_type": "code",
   "execution_count": null,
   "metadata": {},
   "outputs": [],
   "source": [
    "def funcao():\n",
    "    num1 = 31337\n",
    "    print (num1)\n",
    "\n",
    "funcao()"
   ]
  },
  {
   "cell_type": "code",
   "execution_count": null,
   "metadata": {},
   "outputs": [],
   "source": [
    "num1"
   ]
  },
  {
   "cell_type": "markdown",
   "metadata": {},
   "source": [
    "## Os escopos locais não podem usar variáveis ​​em outros escopos locais\n",
    "Um novo escopo local é criado sempre que uma função é chamada, inclusive quando uma função é chamada de outra função. Considere este programa:  "
   ]
  },
  {
   "cell_type": "code",
   "execution_count": null,
   "metadata": {},
   "outputs": [],
   "source": [
    "def funcao_principal():\n",
    "    num1 = 99\n",
    "    funcao_secundaria()\n",
    "    print(num1)\n",
    "\n",
    "def funcao_secundaria():\n",
    "    num1 = 0\n",
    "    num2 = 101\n",
    "    \n",
    "funcao_principal()"
   ]
  },
  {
   "cell_type": "code",
   "execution_count": null,
   "metadata": {},
   "outputs": [],
   "source": [
    "def funcao():\n",
    "    num1 = 99\n",
    "    funcao_secundaria()\n",
    "    print(num1)\n",
    "\n",
    "def funcao_secundaria():\n",
    "        num2 = 101\n",
    "        num1 = 0\n",
    "        print(num1)\n",
    "\n",
    "funcao_secundaria()"
   ]
  },
  {
   "cell_type": "markdown",
   "metadata": {},
   "source": [
    "## Variáveis ​​globais podem ser lidas em um escopo local\n",
    "\n",
    "No seguinte programa: Como não existe nenhum parâmetro chamado num1 ou qualquer código que atribua um valor ao num1 na função funcao1() , quando num1 é usado em funcao1() , o Python considera isso uma referência à variável global num1 . É por isso que 42 é impresso quando o programa anterior é executado."
   ]
  },
  {
   "cell_type": "code",
   "execution_count": null,
   "metadata": {},
   "outputs": [],
   "source": [
    "def funcao1():\n",
    "    print(num1)\n",
    "    \n",
    "\n",
    "num1 = 42\n",
    "\n",
    "funcao1()\n",
    "\n",
    "print(num1)"
   ]
  },
  {
   "cell_type": "markdown",
   "metadata": {},
   "source": [
    "## Variáveis ​​locais e globais com o mesmo nome\n",
    "Tecnicamente, é perfeitamente aceitável usar o mesmo nome de variável para uma variável global e variáveis ​​locais em escopos diferentes em Python. Mas, para simplificar a sua vida, evite fazer isso. "
   ]
  },
  {
   "cell_type": "code",
   "execution_count": null,
   "metadata": {},
   "outputs": [],
   "source": [
    "def funcao():\n",
    "    escopo = 'funcao local'\n",
    "    print(escopo)    # prints 'funcao local'\n",
    "\n",
    "def funcao_secundaria():\n",
    "    escopo = 'funcao_secundaria local'\n",
    "    print(escopo)    # prints 'funcao_secundaria local'\n",
    "    funcao()\n",
    "    print(escopo)    # prints 'funcao_secundaria local'\n",
    "\n",
    "escopo = 'global'\n",
    "funcao_secundaria()\n",
    "\n",
    "print(escopo)        # prints 'global'"
   ]
  },
  {
   "cell_type": "code",
   "execution_count": null,
   "metadata": {},
   "outputs": [],
   "source": [
    "print(escopo)"
   ]
  },
  {
   "cell_type": "markdown",
   "metadata": {},
   "source": [
    "## A declaração global\n",
    "Se você precisar modificar uma variável global dentro de uma função, use a instrução global . Se você tiver uma linha como variáveis globais no topo de uma função, ela diz ao Python: “Nesta função, nome_da_variável se referem à variável global, então não crie uma variável local com este nome”. "
   ]
  },
  {
   "cell_type": "code",
   "execution_count": null,
   "metadata": {},
   "outputs": [],
   "source": [
    "def funcao():\n",
    "  global escopo\n",
    "  escopo = 'funcao'\n",
    "\n",
    "escopo = 'global'\n",
    "funcao()\n",
    "print(escopo)"
   ]
  },
  {
   "cell_type": "markdown",
   "metadata": {},
   "source": [
    "Existem quatro regras para saber se uma variável está em um escopo local ou global:\n",
    "\n",
    "* Se uma variável estiver sendo usada no escopo global (ou seja, fora de todas as funções), então ela será sempre uma variável global.\n",
    "* Se houver uma instrução global para essa variável em uma função, ela será uma variável global.\n",
    "* Caso contrário, se a variável for usada em uma instrução de atribuição na função, ela será uma variável local.\n",
    "* Mas se a variável não for usada em uma instrução de atribuição, ela será uma variável global.\n"
   ]
  },
  {
   "cell_type": "code",
   "execution_count": null,
   "metadata": {},
   "outputs": [],
   "source": [
    "def funcao1():\n",
    "  global escopo\n",
    "  escopo = 'funcao1' # this is the global\n",
    "\n",
    "def funcao2():\n",
    "  escopo = 'funcao2' # this is a local\n",
    "  print(escopo)\n",
    "\n",
    "def funcao3():\n",
    "  print(escopo) # this is the global\n",
    "\n",
    "escopo = 42 # this is the global\n",
    "funcao1()\n",
    "print(escopo)"
   ]
  },
  {
   "cell_type": "code",
   "execution_count": null,
   "metadata": {},
   "outputs": [],
   "source": [
    "funcao2()\n",
    "funcao3()"
   ]
  },
  {
   "cell_type": "markdown",
   "metadata": {},
   "source": [
    "Se você tentar usar uma variável local em uma função antes de atribuir um valor a ela, como no programa a seguir, o Python apresentará um erro. "
   ]
  },
  {
   "cell_type": "code",
   "execution_count": null,
   "metadata": {},
   "outputs": [],
   "source": [
    "def funcao():\n",
    "    var_local = 'funcao local'\n",
    "    print(var_local) # ERROR!\n",
    "    \n",
    "    \n",
    "\n",
    "#escopo = 'global'\n",
    "funcao()\n",
    "#print(var_local)\n",
    "\n",
    "print(var_local)\n"
   ]
  },
  {
   "cell_type": "markdown",
   "metadata": {},
   "source": [
    "FUNÇÕES COMO “CAIXAS PRETAS”\n",
    "\n",
    "Freqüentemente, tudo que você precisa saber sobre uma função são suas entradas (os parâmetros) e seu valor de saída; você nem sempre precisa se preocupar com o funcionamento real do código da função. \n",
    "\n",
    "Quando você pensa sobre funções dessa forma de alto nível, é comum dizer que você está tratando uma função como uma “caixa preta”."
   ]
  },
  {
   "cell_type": "markdown",
   "metadata": {},
   "source": [
    "## Manipulação de exceção\n",
    "\n",
    "Por exemplo, considere o programa a seguir, que apresenta um erro de divisão por zero."
   ]
  },
  {
   "cell_type": "code",
   "execution_count": null,
   "metadata": {},
   "outputs": [],
   "source": [
    "def divisao(divideBy):\n",
    "    return 42 / divideBy\n",
    "\n",
    "print(divisao(2))\n",
    "print(divisao(12))\n",
    "print(divisao(0))\n",
    "print(divisao(1))"
   ]
  },
  {
   "cell_type": "markdown",
   "metadata": {},
   "source": [
    "Erros podem ser tratados com instruções try e except . O código que pode conter um erro é colocado em uma cláusula try . A execução do programa passa para o início de uma cláusula except seguinte se ocorrer um erro.\n",
    "\n",
    "Você pode colocar o código anterior de divisão por zero em uma cláusula try e fazer com que uma cláusula except contenha código para lidar com o que acontece quando esse erro ocorre."
   ]
  },
  {
   "cell_type": "code",
   "execution_count": null,
   "metadata": {},
   "outputs": [],
   "source": [
    "def divisao(divideBy):\n",
    "    try:\n",
    "        return 42 / divideBy\n",
    "    except ZeroDivisionError:\n",
    "        print('Error: Invalid argument.')\n",
    "\n",
    "print(divisao(2))\n",
    "print(divisao(12))\n",
    "print(divisao(0))\n",
    "print(divisao(1))"
   ]
  },
  {
   "cell_type": "markdown",
   "metadata": {},
   "source": [
    "https://autbor.com/tryexceptzerodivide/"
   ]
  },
  {
   "cell_type": "code",
   "execution_count": null,
   "metadata": {},
   "outputs": [],
   "source": [
    "def divisao(divideBy):\n",
    "    return 42 / divideBy\n",
    "\n",
    "try:\n",
    "    print(divisao(2))\n",
    "    print(divisao(12))\n",
    "    print(divisao(0))\n",
    "    print(divisao(1))\n",
    "except ZeroDivisionError:\n",
    "    print('Error: Invalid argument.')"
   ]
  },
  {
   "cell_type": "markdown",
   "metadata": {},
   "source": [
    "Um programa curto: Ziguezague\n",
    "\n",
    "Este programa criará um padrão em zigue-zague para frente e para trás até que o usuário o interrompa pressionando o botão Parar do editor ou pressionando CTRL-C "
   ]
  },
  {
   "cell_type": "code",
   "execution_count": null,
   "metadata": {},
   "outputs": [],
   "source": [
    "import time, sys\n",
    "indent = 0 # How many spaces to indent.\n",
    "indentIncreasing = True # Whether the indentation is increasing or not.\n",
    "\n",
    "try:\n",
    "    while True: # The main program loop.\n",
    "        print(' ' * indent, end='')\n",
    "        print('********')\n",
    "        time.sleep(0.1) # Pause for 1/10 of a second.\n",
    "\n",
    "        if indentIncreasing:\n",
    "            # Increase the number of spaces:\n",
    "            indent = indent + 1\n",
    "            if indent == 20:\n",
    "                # Change direction:\n",
    "                indentIncreasing = False\n",
    "\n",
    "        else:\n",
    "            # Decrease the number of spaces:\n",
    "            indent = indent - 1\n",
    "            if indent == 0:\n",
    "                # Change direction:\n",
    "                indentIncreasing = True\n",
    "except KeyboardInterrupt:\n",
    "    sys.exit()"
   ]
  },
  {
   "cell_type": "markdown",
   "metadata": {},
   "source": [
    "Escreva uma função chamada collatz() que tenha um parâmetro chamado number . \n",
    "\n",
    "Se o número for par, então collatz() deverá imprimir o número // 2 e retornar este valor. \n",
    "\n",
    "Se o número for ímpar, então collatz() deverá imprimir e retornar 3 * number + 1 .\n",
    "\n",
    "Em seguida, escreva um programa que permita ao usuário digitar um número inteiro e continue chamando collatz() nesse número até que a função retorne o valor 1 .\n",
    "\n",
    "(Surpreendentemente, esta sequência realmente funciona para qualquer número inteiro – mais cedo ou mais tarde, usando esta sequência, você chegará a 1! Mesmo os matemáticos não sabem ao certo por quê. Seu programa está explorando o que é chamado de sequência de Collatz, às vezes chamada de “o mais simples problema de matemática impossível.”)\n",
    "\n",
    "Lembre-se de converter o valor de retorno de input() em um número inteiro com a função int() ; caso contrário, será um valor de string.\n",
    "\n",
    "Dica: um número inteiro é par se o número % 2 == 0 e é ímpar se o número % 2 == 1 ."
   ]
  },
  {
   "cell_type": "code",
   "execution_count": null,
   "metadata": {},
   "outputs": [],
   "source": [
    "def collatz(number):\n",
    "  lst=[]\n",
    "  lst.append(number)\n",
    "  \n",
    "  while(number!=1):\n",
    "      if(number%2==0):\n",
    "          number=number//2\n",
    "          lst.append(number)\n",
    "          \n",
    "      else:\n",
    "          number=number*3+1\n",
    "          lst.append(number)\n",
    "  \n",
    "  i=0\n",
    "\n",
    "  while i < len(lst):\n",
    "    print(lst[i], sep=\"\\n\")\n",
    "    i += 1 #i = i + 1\n",
    "\n",
    "  \n",
    "number = int(input(\"Digite um número\"))\n",
    "\n",
    "collatz(number)"
   ]
  },
  {
   "cell_type": "markdown",
   "metadata": {},
   "source": [
    "## Série Fibonacci\n",
    "\n",
    "### Definindo funções\n",
    "\n",
    "A sequência de Fibonacci é um padrão numérico em que o primeiro e o segundo termo são iguais a 1 e cada termo a partir do terceiro é a soma dos dois termos anteriores."
   ]
  },
  {
   "cell_type": "markdown",
   "metadata": {},
   "source": [
    "![fibonacci-pathernon.jpg 3](./Figuras/aula04/img03.png)"
   ]
  },
  {
   "cell_type": "markdown",
   "metadata": {},
   "source": [
    "### O que é Proporção Áurea?\n",
    "Proporção áurea é uma constante real algébrica irracional utilizada na arquitetura, nas artes e no design gráfico. Ela é representada pela divisão de uma reta em dois segmentos (a e b), sendo que quando a soma desses segmentos é dividida pela parte mais longa, o resultado obtido é de aproximadamente 1,61803398875. Este valor é chamado de “número de Ouro”."
   ]
  },
  {
   "cell_type": "markdown",
   "metadata": {},
   "source": [
    "![image.png 4](./Figuras/aula04/img04.png)"
   ]
  },
  {
   "cell_type": "markdown",
   "metadata": {},
   "source": [
    "![image.png 5](./Figuras/aula04/img05.png)"
   ]
  },
  {
   "cell_type": "markdown",
   "metadata": {},
   "source": [
    "![image.png 6](./Figuras/aula04/img06.png)"
   ]
  },
  {
   "cell_type": "markdown",
   "metadata": {},
   "source": [
    "![image.png 7](./Figuras/aula04/img07.png)"
   ]
  },
  {
   "cell_type": "markdown",
   "metadata": {},
   "source": [
    "![image 8](./Figuras/aula04/img08.png)"
   ]
  },
  {
   "cell_type": "markdown",
   "metadata": {},
   "source": [
    "![image.png 9](./Figuras/aula04/img09.png)"
   ]
  },
  {
   "cell_type": "markdown",
   "metadata": {},
   "source": [
    "![image.png 10](./Figuras/aula04/img10.png)"
   ]
  },
  {
   "cell_type": "markdown",
   "metadata": {},
   "source": [
    "A distância entre o queixo e a base do nariz deve ser a mesma distância da base do nariz até a parte inferior da testa.\n",
    "\n",
    "Essa mesma medida deve ser também o tamanho da testa e da orelha.\n",
    "\n",
    "A proporção áurea no rosto também diz que o nariz tem a mesma largura do olho. Essa medida também é a distância entre um olho e outro."
   ]
  },
  {
   "cell_type": "markdown",
   "metadata": {},
   "source": [
    "![image.png 11](./Figuras/aula04/img11.png)"
   ]
  },
  {
   "cell_type": "markdown",
   "metadata": {},
   "source": [
    "Podemos criar uma função que escreve a série de Fibonacci até um limite arbitrário:"
   ]
  },
  {
   "cell_type": "code",
   "execution_count": null,
   "metadata": {},
   "outputs": [],
   "source": [
    "def fib(n):    # write Fibonacci series up to n\n",
    "\n",
    "    \"\"\"Print a Fibonacci series up to n.\"\"\"\n",
    "\n",
    "    a, b = 0, 1\n",
    "\n",
    "    while a < n:\n",
    "\n",
    "        print(a, end=' ')\n",
    "\n",
    "        a, b = b, a+b\n",
    "\n",
    "    print()\n",
    "\n",
    "\n",
    "# Now call the function we just defined:\n",
    "\n",
    "#fib(2000)\n",
    "#0 1 1 2 3 5 8 13 21 34 55 89 144 233 377 610 987 1597\n",
    "\n",
    "'''A palavra reservada def inicia a definição de uma função. Ela deve ser seguida do nome da função e da lista de parâmetros formais entre parênteses. Os comandos que formam o corpo da função começam na linha seguinte e devem ser indentados.'''\n",
    "\n",
    "#lembrar do docstring\n",
    "\n",
    "'''Uma definição de função associa o nome da função com o objeto função na tabela de símbolos atual. O interpretador reconhece o objeto apontado pelo nome como uma função definida pelo usuário. Outros nomes também podem apontar para o mesmo objeto função e também pode ser usados pra acessar a função:\n",
    ">>>\n",
    "\n",
    "fib\n",
    "<function fib at 10042ed0>\n",
    "\n",
    "f = fib\n",
    "\n",
    "f(100)\n",
    "0 1 1 2 3 5 8 13 21 34 55 89'''\n",
    "\n",
    "'''É fácil escrever uma função que retorna uma lista de números da série de Fibonacci, ao invés de exibi-los:\n",
    ">>>\n",
    "\n",
    "def fib2(n):  # return Fibonacci series up to n\n",
    "\n",
    "    \"\"\"Return a list containing the Fibonacci series up to n.\"\"\"\n",
    "\n",
    "    result = []\n",
    "\n",
    "    a, b = 0, 1\n",
    "\n",
    "    while a < n:\n",
    "\n",
    "        result.append(a)    # see below\n",
    "\n",
    "        a, b = b, a+b\n",
    "\n",
    "    return result\n",
    "\n",
    "\n",
    "f100 = fib2(100)    # call it\n",
    "\n",
    "f100                # write the result\n",
    "[0, 1, 1, 2, 3, 5, 8, 13, 21, 34, 55, 89]\n",
    "\n",
    "Este exemplo demonstra novos recursos de Python:\n",
    "\n",
    "    A instrução return finaliza a execução e retorna um valor da função. return sem qualquer expressão como argumento retorna None. Atingir o final da função também retorna None.\n",
    "\n",
    "    A instrução result.append(a) chama um método do objeto lista result. Um método é uma função que ‘pertence’ a um objeto, e é chamada obj.nomemetodo, onde obj é um objeto qualquer (pode ser uma expressão), e nomemetodo é o nome de um método que foi definido pelo tipo do objeto. Tipos diferentes definem métodos diferentes. Métodos de diferentes tipos podem ter o mesmo nome sem ambiguidade. (É possível definir seus próprios tipos de objetos e métodos, utilizando classes, veja em Classes) O método append(), mostrado no exemplo é definido para objetos do tipo lista; adiciona um novo elemento ao final da lista. Neste exemplo, ele equivale a result = result + [a], só que mais eficiente.\n",
    "'''"
   ]
  },
  {
   "cell_type": "code",
   "execution_count": null,
   "metadata": {},
   "outputs": [],
   "source": [
    "fib(100)"
   ]
  },
  {
   "cell_type": "code",
   "execution_count": null,
   "metadata": {},
   "outputs": [],
   "source": [
    "def fulano():\n",
    "    print('fulano() inicia')\n",
    "    sincrano()\n",
    "    sincrana()\n",
    "    print('fulano() retorna')\n",
    "\n",
    "def sincrano():\n",
    "    print('sincrano() inicia')\n",
    "    fulana()\n",
    "    print ('sincrano() retorna')\n",
    "\n",
    "def fulana():\n",
    "    print('fulana() inicia')\n",
    "    print('fulana() retorna')\n",
    "\n",
    "def sincrana():\n",
    "       print('sincrana() inicia')\n",
    "       print('sincrana() retorna')\n",
    "\n",
    "fulano()"
   ]
  },
  {
   "cell_type": "code",
   "execution_count": null,
   "metadata": {},
   "outputs": [],
   "source": [
    "def soma_matricula(matricula):  # Define a função que recebe a matrícula como argumento\n",
    "    soma_pares = 0  # Inicializa a soma dos números pares\n",
    "    soma_impares = 0  # Inicializa a soma dos números ímpares\n",
    "    \n",
    "    for numero in str(matricula):  # Itera sobre cada número da matrícula, convertendo-a para string\n",
    "        numero_int = int(numero)  # Converte o número de string para inteiro\n",
    "        if numero_int % 2 == 0:  # Verifica se o número é par\n",
    "            soma_pares += numero_int  # Adiciona o número à soma dos pares\n",
    "        else:  # Caso o número seja ímpar\n",
    "            soma_impares += numero_int  # Adiciona o número à soma dos ímpares\n",
    "    \n",
    "    return soma_pares, soma_impares  # Retorna as somas dos números pares e ímpares\n",
    "\n",
    "# Minha matrícula de exemplo\n",
    "matricula = 123456  # Substitua pelo seu número de matrícula\n",
    "\n",
    "# Chama a função e armazena os resultados\n",
    "soma_pares, soma_impares = soma_matricula(matricula)\n",
    "\n",
    "# Imprime os resultados em uma única linha\n",
    "print(f\"Soma dos números pares: {soma_pares}, Soma dos números ímpares: {soma_impares}\")\n"
   ]
  },
  {
   "cell_type": "markdown",
   "metadata": {},
   "source": [
    "## Funções recursivas\n",
    "\n",
    "Uma função recursiva é toda aquela que chama a si mesma.\n",
    "\n",
    "![Exemplo função recursiva](./Figuras/aula04/img12.png)"
   ]
  },
  {
   "cell_type": "code",
   "execution_count": null,
   "metadata": {},
   "outputs": [],
   "source": [
    "def contagemRegressiva(num):\n",
    "    if num < 1:\n",
    "        return\n",
    "    else:\n",
    "        print(num)\n",
    "        contagemRegressiva(num - 1)\n",
    "\n",
    "contagemRegressiva(10)"
   ]
  },
  {
   "cell_type": "markdown",
   "metadata": {},
   "source": [
    " Desta forma, uma função recursiva funciona como um loop e se não houver uma estruturação correta criará um loop infinito."
   ]
  },
  {
   "cell_type": "code",
   "execution_count": null,
   "metadata": {},
   "outputs": [],
   "source": [
    "def contagemRegressiva(num):\n",
    "    print(num)\n",
    "    contagemRegressiva(num - 1)\n",
    "\n",
    "contagemRegressiva(10)"
   ]
  },
  {
   "cell_type": "markdown",
   "metadata": {},
   "source": [
    "A estrutura de uma função recursiva é dividida em **caso base** e **caso recursivo**. O caso recursivo é aquele em que a função chama a si mesma, enquanto o caso base é aquele que encerra a recursão. Vejamos o exemplo a seguir."
   ]
  },
  {
   "cell_type": "code",
   "execution_count": null,
   "metadata": {},
   "outputs": [],
   "source": [
    "def fatorial(num):\n",
    "    if num == 1: # Caso base\n",
    "        return 1\n",
    "    else: # Caso recursivo\n",
    "        return num * fatorial(num-1)\n",
    "\n",
    "n1 = int(input(\"Digite um número inteiro maior que 0: \"))\n",
    "a = fatorial(n1)\n",
    "\n",
    "print(a)"
   ]
  },
  {
   "cell_type": "markdown",
   "metadata": {},
   "source": [
    "## Exemplo na engenharia civil\n",
    "\n",
    "Vamos criar uma função que recebe altura, largura e comprimento, e calcula o valor gasto para construir uma determinada área de concreto. Para isso, considere a seguinte relação: para cada 1kg de cimento que for utilizado, serão necessarios 2kg de areia e 3kg de brita. Também considere a seguinte tabela de valores (por kg):\n",
    "- Cimento -> R$ 4,50\n",
    "- Areia   -> R$ 0,20\n",
    "- Brita   -> R$ 0,55"
   ]
  },
  {
   "cell_type": "code",
   "execution_count": null,
   "metadata": {},
   "outputs": [],
   "source": [
    "def calcularCustoConcreto(altura, largura, comprimento):\n",
    "    volumeConcreto = altura * largura * comprimento # em m³\n",
    "    # Como a densidade é a massa sobre o volume (d = m / v), então\n",
    "    # podemos considerar que a massa é o volume vezes a densidade (m = v * d)\n",
    "    # a densidade do concreto é de 2400 kg/m³\n",
    "    massaConcreto = volumeConcreto * 2400 # em kg\n",
    "\n",
    "    cimento = massaConcreto/6 # segundo a relação que definimos, o cimento é uma parte de 6 do concreto\n",
    "    areia = cimento * 2 # para cada parte de cimento temos 2 de areia\n",
    "    brita = cimento * 3 # para cada parte de cimento temos 3 de brita\n",
    "\n",
    "    valorGastoCimento = cimento * 4.50\n",
    "    valorGastoAreia = areia * 0.2\n",
    "    valorGastoBrita = brita * 0.55\n",
    "    valorTotal = valorGastoCimento + valorGastoAreia + valorGastoBrita\n",
    "\n",
    "    return valorTotal\n",
    "\n",
    "altura = 2.1\n",
    "largura = 0.15\n",
    "comprimento = 5\n",
    "custo = calcularCustoConcreto(altura, largura, comprimento)\n",
    "\n",
    "print(f\"O custo total foi de R${custo:.2f}\")"
   ]
  }
 ],
 "metadata": {
  "kernelspec": {
   "display_name": "Python 3",
   "language": "python",
   "name": "python3"
  },
  "language_info": {
   "codemirror_mode": {
    "name": "ipython",
    "version": 3
   },
   "file_extension": ".py",
   "mimetype": "text/x-python",
   "name": "python",
   "nbconvert_exporter": "python",
   "pygments_lexer": "ipython3",
   "version": "3.12.6"
  },
  "orig_nbformat": 4
 },
 "nbformat": 4,
 "nbformat_minor": 2
}
