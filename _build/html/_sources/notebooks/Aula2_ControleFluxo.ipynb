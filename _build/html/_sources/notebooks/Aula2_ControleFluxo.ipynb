{
 "cells": [
  {
   "cell_type": "markdown",
   "metadata": {},
   "source": [
    "- [Aula Anterior](Aula1_ConceitosBasicos.ipynb) | [Próxima Aula](Aula3_ImportandoModulos.ipynb)\n",
    "\n",
    "* [Link da aula no Github](https://github.com/UniRobotica/cursos/blob/main/Informatica_Aplicada/Notebooks/Python%20Basico/Aula2_ControleFluxo.ipynb)\n",
    "* [Link da aula no Colab](https://colab.research.google.com/github/UniRobotica/cursos/blob/main/Informatica_Aplicada/Notebooks/Python%20Basico/Aula2_ControleFluxo.ipynb)\n",
    "\n",
    "# CONTROLE DE FLUXO\n",
    "Você conheceu o básico das instruções individuais e sabe que um programa é apenas uma série de instruções. \n",
    "Com base na forma como as expressões são avaliadas, um programa pode decidir pular instruções, repeti-las ou escolher uma das várias instruções para executar. \n",
    "As instruções de controle de fluxo podem decidir quais instruções Python serão executadas sob quais condições.\n",
    "\n",
    "Essas instruções de controle de fluxo correspondem diretamente aos símbolos em um fluxograma"
   ]
  },
  {
   "cell_type": "code",
   "execution_count": null,
   "metadata": {},
   "outputs": [],
   "source": [
    "# 1) DESCRIÇÃO NARRATIVA\n",
    "# verificar se está chovendo\n",
    "# se tiver verificar se tem guardachuva\n",
    "\n",
    "# 2) PSEUDO-CÓDIGO\n",
    "# INICIO\n",
    "# SE ESTÁ CHOVENDO \n",
    "    # ENTAO VERIFICA SE TEM GUARDA CHUVA\n",
    "        # SAIR\n",
    "    # SENÃO AGUARDA UM MOMENTO\n",
    "        # SE ESTÁ CHOVENDO"
   ]
  },
  {
   "cell_type": "markdown",
   "metadata": {},
   "source": [
    "![image 1!](../Figuras/aula02/img01.jpg)"
   ]
  },
  {
   "cell_type": "markdown",
   "metadata": {},
   "source": [
    "Em um fluxograma, geralmente há mais de um caminho a percorrer do início ao fim. O mesmo se aplica às linhas de código de um programa de computador. Os fluxogramas representam esses pontos de ramificação com losangos, enquanto as outras etapas são representadas com retângulos. As etapas inicial e final são representadas por retângulos arredondados."
   ]
  },
  {
   "cell_type": "markdown",
   "metadata": {},
   "source": [
    "# Valores booleanos\n",
    "Embora os tipos de dados inteiro, ponto flutuante e string tenham um número ilimitado de valores possíveis, o tipo de dados Booleano possui apenas dois valores: True e False . (Booleano é maiúsculo porque o tipo de dados leva o nome do matemático George Boole.) \n",
    "\n",
    "Quando inserido como código Python, os valores booleanos True e False não possuem as aspas que você coloca em torno das strings e sempre começam com T ou F maiúsculo , com o resto da palavra em letras minúsculas. "
   ]
  },
  {
   "cell_type": "code",
   "execution_count": null,
   "metadata": {},
   "outputs": [],
   "source": [
    "isTrue = True\n",
    "isTrue"
   ]
  },
  {
   "cell_type": "code",
   "execution_count": null,
   "metadata": {},
   "outputs": [],
   "source": [
    "type(isTrue)"
   ]
  },
  {
   "cell_type": "code",
   "execution_count": null,
   "metadata": {},
   "outputs": [],
   "source": [
    "isTrue"
   ]
  },
  {
   "cell_type": "code",
   "execution_count": null,
   "metadata": {},
   "outputs": [],
   "source": [
    "True = 2 + 2"
   ]
  },
  {
   "cell_type": "code",
   "execution_count": null,
   "metadata": {},
   "outputs": [],
   "source": [
    "if True:\n",
    "    isTrue = 2 + 2"
   ]
  },
  {
   "cell_type": "code",
   "execution_count": null,
   "metadata": {},
   "outputs": [],
   "source": [
    "isTrue"
   ]
  },
  {
   "cell_type": "markdown",
   "metadata": {},
   "source": [
    "# Operadores de comparação\n",
    "Operadores de comparação , também chamados de operadores relacionais , comparam dois valores e avaliam até um único valor booleano. "
   ]
  },
  {
   "cell_type": "markdown",
   "metadata": {},
   "source": [
    "| Operador | Significado          |\n",
    "| -------- | -------------------- |\n",
    "| ==       | Igual a              |\n",
    "| !=       | Diferente de         |\n",
    "| <        | Menor que            |\n",
    "| >        | Maior que            |\n",
    "| <=       | Menor que ou igual a |\n",
    "| >=       | Maior que ou igual a |"
   ]
  },
  {
   "cell_type": "markdown",
   "metadata": {},
   "source": [
    "  == (igual a) é avaliado como True quando os valores em ambos os lados são iguais e \n",
    "\n",
    "  != (diferente de) é avaliado como True quando os dois valores são diferentes. \n",
    "  \n",
    "  Os operadores == e != podem realmente trabalhar com valores de qualquer tipo de dados."
   ]
  },
  {
   "cell_type": "code",
   "execution_count": null,
   "metadata": {},
   "outputs": [],
   "source": [
    "2 != 3"
   ]
  },
  {
   "cell_type": "code",
   "execution_count": null,
   "metadata": {},
   "outputs": [],
   "source": [
    "2 != 2"
   ]
  },
  {
   "cell_type": "code",
   "execution_count": null,
   "metadata": {},
   "outputs": [],
   "source": [
    "42 == '42'"
   ]
  },
  {
   "cell_type": "code",
   "execution_count": null,
   "metadata": {},
   "outputs": [],
   "source": [
    "42 == 42.0"
   ]
  },
  {
   "cell_type": "code",
   "execution_count": null,
   "metadata": {},
   "outputs": [],
   "source": [
    "42 == 0042.000"
   ]
  },
  {
   "cell_type": "markdown",
   "metadata": {},
   "source": [
    "* Para formatar o número 1234.5678 com duas casas decimais e separador de milhares"
   ]
  },
  {
   "cell_type": "code",
   "execution_count": null,
   "metadata": {},
   "outputs": [],
   "source": [
    "1234.56789"
   ]
  },
  {
   "cell_type": "code",
   "execution_count": null,
   "metadata": {},
   "outputs": [],
   "source": [
    "numero = 1234.56789\n",
    "formato = \"{:.2f}\".format(numero)\n",
    "print(formato)"
   ]
  },
  {
   "cell_type": "code",
   "execution_count": null,
   "metadata": {},
   "outputs": [],
   "source": [
    "numero = 1234.56789\n",
    "formato = \"{:,.2f}\".format(numero)\n",
    "print(formato)"
   ]
  },
  {
   "cell_type": "markdown",
   "metadata": {},
   "source": [
    "* Outro método útil é o uso da função round(). Essa função permite arredondar um número para um determinado número de casas decimais. Por exemplo, para arredondar o número 3.14159 para duas casas decimais:"
   ]
  },
  {
   "cell_type": "code",
   "execution_count": null,
   "metadata": {},
   "outputs": [],
   "source": [
    "numero = 3.14159\n",
    "arredondado = round(numero, 2)\n",
    "print(arredondado)"
   ]
  },
  {
   "cell_type": "markdown",
   "metadata": {},
   "source": [
    "Os operadores < , > , <= e >= , por outro lado, funcionam corretamente apenas com valores inteiros e de ponto flutuante."
   ]
  },
  {
   "cell_type": "code",
   "execution_count": null,
   "metadata": {},
   "outputs": [],
   "source": [
    "42 > 100"
   ]
  },
  {
   "cell_type": "code",
   "execution_count": 18,
   "metadata": {},
   "outputs": [],
   "source": [
    "myAge = 29 # atribuição "
   ]
  },
  {
   "cell_type": "code",
   "execution_count": null,
   "metadata": {},
   "outputs": [],
   "source": [
    "myAge >= 10 # comparação"
   ]
  },
  {
   "cell_type": "code",
   "execution_count": null,
   "metadata": {},
   "outputs": [],
   "source": [
    "myAge = 9\n",
    "myAge < 10"
   ]
  },
  {
   "cell_type": "markdown",
   "metadata": {},
   "source": [
    ">[!NOTE]\n",
    ">Você deve ter notado que o operador == (igual a) possui dois sinais de igual, enquanto o operador = (atribuição) possui apenas um sinal de igual. É fácil confundir esses dois operadores. Apenas lembre-se destes pontos:\n",
    ">\n",
    ">O operador == (igual a) pergunta se dois valores são iguais.\n",
    ">O operador = (atribuição) coloca o valor à direita na variável à esquerda.\n"
   ]
  },
  {
   "cell_type": "markdown",
   "metadata": {},
   "source": [
    "# Operadores booleanos\n",
    "Os três operadores booleanos ( ``and`` , ``or`` , e ``not`` ) são usados ​​para comparar valores booleanos. Assim como os operadores de comparação, eles avaliam essas expressões até um valor booleano."
   ]
  },
  {
   "cell_type": "markdown",
   "metadata": {},
   "source": [
    "## Tabela Verdade do operador ``and``\n",
    "\n",
    "| Expressão       | Resultado |\n",
    "| --------------- | --------- |\n",
    "| True  and True  | True      |\n",
    "| True  and False | False     |\n",
    "| False and True  | False     |\n",
    "| False and False | False     |\n",
    "\n",
    "## Tabela Verdade do Operador ``or``\n",
    "\n",
    "| Expressão       | Resultado |\n",
    "| --------------  | --------- |\n",
    "| True  or True   | True      |\n",
    "| True  or False  | True      |\n",
    "| False or True   | True      |\n",
    "| False or False  | False     |\n",
    "\n",
    "## Tabela Verdade do Operador ``not``\n",
    "\n",
    "| Expressão | Resultado |\n",
    "| --------- | --------- |\n",
    "| not True  | False     |\n",
    "| not False | True      |\n"
   ]
  },
  {
   "cell_type": "markdown",
   "metadata": {},
   "source": [
    "# Misturando operadores booleanos e de comparação\n",
    "Como os operadores de comparação são avaliados como valores booleanos, você pode usá-los em expressões com os operadores booleanos.\n",
    "\n",
    "Lembre-se de que os operadores and , or e not são chamados de operadores booleanos porque sempre operam nos valores booleanos True e False . Embora expressões como 4 <5 não sejam valores booleanos, elas são expressões avaliadas até valores booleanos."
   ]
  },
  {
   "cell_type": "code",
   "execution_count": null,
   "metadata": {},
   "outputs": [],
   "source": [
    "(4 < 5) and (5 < 6)"
   ]
  },
  {
   "cell_type": "markdown",
   "metadata": {},
   "source": [
    "![image 2](../Figuras/aula02/img02.jpg)"
   ]
  },
  {
   "cell_type": "code",
   "execution_count": null,
   "metadata": {},
   "outputs": [],
   "source": [
    "(4 < 5) and (9 < 6)"
   ]
  },
  {
   "cell_type": "code",
   "execution_count": null,
   "metadata": {},
   "outputs": [],
   "source": [
    "(4 < 5) or (9 < 6)"
   ]
  },
  {
   "cell_type": "code",
   "execution_count": null,
   "metadata": {},
   "outputs": [],
   "source": [
    "2 + 2 == 4 and not 2 + 2 == 5 and 2 * 2 == 2 + 2"
   ]
  },
  {
   "cell_type": "markdown",
   "metadata": {},
   "source": [
    "# Elementos de controle de fluxo\n",
    "As instruções de controle de fluxo geralmente começam com uma parte chamada condição e são sempre seguidas por um bloco de código chamado cláusula ."
   ]
  },
  {
   "cell_type": "markdown",
   "metadata": {},
   "source": [
    "# Condições\n",
    "Condição é apenas um nome mais específico no contexto das instruções de controle de fluxo. As condições sempre são avaliadas como um valor booleano, True ou False . Uma instrução de controle de fluxo decide o que fazer com base no fato de sua condição ser True ou False , e quase todas as instruções de controle de fluxo usam uma condição"
   ]
  },
  {
   "cell_type": "markdown",
   "metadata": {},
   "source": [
    "# Blocos de código\n",
    "Linhas de código Python podem ser agrupadas em blocos . Você pode saber quando um bloco começa e termina pelo recuo das linhas de código. \n",
    "\n",
    "* Os blocos começam quando o recuo aumenta.\n",
    "* Os blocos podem conter outros blocos.\n",
    "* Os blocos terminam quando o recuo diminui para zero ou para o recuo de um bloco que o contém."
   ]
  },
  {
   "cell_type": "code",
   "execution_count": null,
   "metadata": {},
   "outputs": [],
   "source": [
    "name = input(\"Digite seu nome: \") # Atribua string Mary a variável name\n",
    "password = input(\"Digite a senha: \")\n",
    "if name == 'Mary' or 'mary': # SE variável name É IGUAL a 'Mary'\n",
    "    print('Olá, Mary') # Mostra na Tela ('Olá, Mary')\n",
    "    if password == 'swordfish':\n",
    "          print('Acesso concedido.')\n",
    "    else:\n",
    "         print('Senha errada.')\n",
    "else:\n",
    "     print(\"Você não é Mary!\")"
   ]
  },
  {
   "cell_type": "markdown",
   "metadata": {},
   "source": [
    "Você pode ver a execução deste programa em https://autbor.com/blocks/ ."
   ]
  },
  {
   "cell_type": "markdown",
   "metadata": {},
   "source": [
    "## Declarações de controle de fluxo\n",
    "\n",
    "# if\n",
    "\n",
    "O tipo mais comum de instrução de controle de fluxo é a instrução if . A cláusula de uma instrução if (ou seja, o bloco após a instrução if ) será executada se a condição da instrução for True . A cláusula será ignorada se a condição for False .\n",
    "\n",
    "Em linguagem simples, uma instrução if poderia ser lida como: \n",
    "\n",
    "“Se esta condição for verdadeira, execute o código na cláusula”. \n",
    "\n",
    "Em Python, uma instrução if consiste no seguinte:\n",
    "\n",
    "* A palavra-chave if\n",
    "* Uma condição (ou seja, uma expressão avaliada como True ou False )\n",
    "* Dois pontos\n",
    "* Começando na próxima linha, um bloco de código recuado (chamado de cláusula if )"
   ]
  },
  {
   "cell_type": "code",
   "execution_count": 31,
   "metadata": {},
   "outputs": [],
   "source": [
    "if name == 'Alice':\n",
    "    print('Hi, Alice.')"
   ]
  },
  {
   "cell_type": "code",
   "execution_count": null,
   "metadata": {},
   "outputs": [],
   "source": [
    "name"
   ]
  },
  {
   "cell_type": "markdown",
   "metadata": {},
   "source": [
    "![image 3](../Figuras/aula02/img03.jpg)"
   ]
  },
  {
   "cell_type": "code",
   "execution_count": null,
   "metadata": {},
   "outputs": [],
   "source": [
    "name = 'Alice'\n",
    "if name == 'Alice':\n",
    "    print('Hi, Alice.')"
   ]
  },
  {
   "cell_type": "markdown",
   "metadata": {},
   "source": [
    "# else\n",
    "Uma cláusula if pode opcionalmente ser seguida por uma instrução else . A cláusula else é executada somente quando a condição da instrução if é False . \n",
    "Em linguagem simples, uma instrução else poderia ser lida como: \n",
    "“Se esta condição for verdadeira, execute este código. Ou então, execute esse código.” \n",
    "Uma instrução else não tem uma condição e, no código, uma instrução else sempre consiste no seguinte:\n",
    "\n",
    "* A palavra-chave else\n",
    "* Dois pontos\n",
    "* Começando na próxima linha, um bloco de código recuado (chamado de cláusula else )"
   ]
  },
  {
   "cell_type": "markdown",
   "metadata": {},
   "source": [
    "![image 4](../Figuras/aula02/img04.jpg)"
   ]
  },
  {
   "cell_type": "code",
   "execution_count": 34,
   "metadata": {},
   "outputs": [],
   "source": [
    "name = 'John'"
   ]
  },
  {
   "cell_type": "code",
   "execution_count": null,
   "metadata": {},
   "outputs": [],
   "source": [
    "if name == 'Alice':\n",
    "    print('Hi, Alice.')\n",
    "else:\n",
    "    print('Hello, stranger.')"
   ]
  },
  {
   "cell_type": "markdown",
   "metadata": {},
   "source": [
    "# elif\n",
    "Embora apenas uma das cláusulas if ou else seja executada, você pode ter um caso em que deseja que uma das muitas cláusulas possíveis seja executada. \n",
    "A instrução elif é uma instrução “else if” que sempre segue um if ou outra instrução elif . Ele fornece outra condição que será verificada somente se todas as condições anteriores forem False . No código, uma instrução elif sempre consiste no seguinte:\n",
    "\n",
    "* A palavra-chave elif\n",
    "* Uma condição (ou seja, uma expressão avaliada como True ou False )\n",
    "* Dois pontos\n",
    "* Começando na próxima linha, um bloco de código recuado (chamado de cláusula elif )"
   ]
  },
  {
   "cell_type": "markdown",
   "metadata": {},
   "source": [
    "![image 5](../Figuras/aula02/img05.jpg)"
   ]
  },
  {
   "cell_type": "code",
   "execution_count": null,
   "metadata": {},
   "outputs": [],
   "source": [
    "name = 'John'\n",
    "age = 2001\n",
    "if name == 'Alice':\n",
    "    print('Hi, Alice.') #case 1\n",
    "elif age < 12:\n",
    "    print('You are not Alice, kiddo.') #2\n",
    "elif age > 2000:\n",
    "    print('Unlike you, Alice is not an undead, immortal vampire.') #3\n",
    "elif age > 100:\n",
    "    print('You are not Alice, grannie.') #4"
   ]
  },
  {
   "cell_type": "code",
   "execution_count": null,
   "metadata": {},
   "outputs": [],
   "source": [
    "name = 'Carol'\n",
    "age = 3000\n",
    "if name == 'Alice':\n",
    "    print('Hi, Alice.')\n",
    "elif age < 12:\n",
    "    print('You are not Alice, kiddo.')\n",
    "elif age > 100:\n",
    "    print('You are grannie.')\n",
    "elif age > 2000:\n",
    "    print('Unlike you, Alice is not an undead, immortal vampire.')\n",
    "\n",
    "if name != 'Alice':\n",
    "    print('You are not Alice, grannie.')"
   ]
  },
  {
   "cell_type": "markdown",
   "metadata": {},
   "source": [
    "https://autbor.com/vampire2/"
   ]
  },
  {
   "cell_type": "code",
   "execution_count": null,
   "metadata": {},
   "outputs": [],
   "source": [
    "name = 'Mary'\n",
    "password = 'swordfish'\n",
    "if name == 'Mary':\n",
    "    print('Hello, Mary')\n",
    "if password == 'swordfish':\n",
    "    print('Access granted.')\n",
    "else:\n",
    "    print('Wrong password.')"
   ]
  },
  {
   "cell_type": "markdown",
   "metadata": {},
   "source": [
    "## while Loop"
   ]
  },
  {
   "cell_type": "markdown",
   "metadata": {},
   "source": [
    "Você pode fazer um bloco de código ser executado repetidamente usando uma instrução while . O código em uma cláusula while será executado enquanto a condição da instrução while for True . No código, uma instrução while sempre consiste no seguinte:\n",
    "\n",
    "* A palavra-chave while\n",
    "* Uma condição (ou seja, uma expressão avaliada como True ou False )\n",
    "* Dois pontos\n",
    "* Começando na próxima linha, um bloco de código recuado (chamado de cláusula while )"
   ]
  },
  {
   "cell_type": "markdown",
   "metadata": {},
   "source": [
    "uma instrução while é semelhante a uma instrução if . A diferença está em como eles se comportam"
   ]
  },
  {
   "cell_type": "markdown",
   "metadata": {},
   "source": [
    "# Exemplo com ``if``"
   ]
  },
  {
   "cell_type": "markdown",
   "metadata": {},
   "source": [
    "![image 6](../Figuras/aula02/img06.jpg)"
   ]
  },
  {
   "cell_type": "code",
   "execution_count": null,
   "metadata": {},
   "outputs": [],
   "source": [
    "spam = 4\n",
    "if spam < 5:\n",
    "    print('Hello, world.')\n",
    "    spam = spam + 1"
   ]
  },
  {
   "cell_type": "code",
   "execution_count": null,
   "metadata": {},
   "outputs": [],
   "source": [
    "spam"
   ]
  },
  {
   "cell_type": "markdown",
   "metadata": {},
   "source": [
    "# Exemplo com ``while``"
   ]
  },
  {
   "cell_type": "markdown",
   "metadata": {},
   "source": [
    "![image 7](../Figuras/aula02/img07.jpg)"
   ]
  },
  {
   "cell_type": "code",
   "execution_count": 45,
   "metadata": {},
   "outputs": [],
   "source": [
    "spam = 5\n",
    "while spam < 5:\n",
    "    print('Hello, world.')\n",
    "    spam = spam + 1"
   ]
  },
  {
   "cell_type": "code",
   "execution_count": null,
   "metadata": {},
   "outputs": [],
   "source": [
    "name = ''\n",
    "while name != 'your name':\n",
    "    print('Please type your name.')\n",
    "    name = input()\n",
    "print('Thank you!')"
   ]
  },
  {
   "cell_type": "markdown",
   "metadata": {},
   "source": [
    "https://autbor.com/yourname/"
   ]
  },
  {
   "cell_type": "markdown",
   "metadata": {},
   "source": [
    ">[Um loop while irritante]\n",
    "Aqui está um pequeno exemplo de programa que irá pedir para você digitar, literalmente, seu nome ."
   ]
  },
  {
   "cell_type": "markdown",
   "metadata": {},
   "source": [
    "![image 8](../Figuras/aula02/img08.jpg)"
   ]
  },
  {
   "cell_type": "markdown",
   "metadata": {},
   "source": [
    "Existe um atalho para fazer com que a execução do programa saia antecipadamente de uma cláusula do loop while . Se a execução atingir uma instrução break , ela sai imediatamente da cláusula do loop while . No código, uma instrução break contém simplesmente a palavra-chave break ."
   ]
  },
  {
   "cell_type": "code",
   "execution_count": null,
   "metadata": {},
   "outputs": [],
   "source": [
    "while True:\n",
    "    print('Please type your name.')\n",
    "    name = input()\n",
    "    if name == 'your name':\n",
    "        break\n",
    "print('Thank you!')"
   ]
  },
  {
   "cell_type": "markdown",
   "metadata": {},
   "source": [
    "![image 9](../Figuras/aula02/img09.jpg)"
   ]
  },
  {
   "cell_type": "markdown",
   "metadata": {},
   "source": [
    "> Se você alguma vez executar um programa que tenha um bug que o faça travar em um loop infinito, pressione CTRL -C"
   ]
  },
  {
   "cell_type": "code",
   "execution_count": null,
   "metadata": {},
   "outputs": [],
   "source": [
    "while True:\n",
    "    print('Who are you?')\n",
    "    name = input()\n",
    "    if name != 'Joe':\n",
    "        continue\n",
    "    print('Hello, Joe. What is the password? (It is a fish.)')\n",
    "    password = input()\n",
    "    if password == 'swordfish':\n",
    "        break\n",
    "    print('Access granted.') "
   ]
  },
  {
   "cell_type": "markdown",
   "metadata": {},
   "source": [
    "Se o usuário inserir qualquer nome além de Joe, a instrução continue faz com que a execução do programa volte ao início do loop. Quando o programa reavaliar a condição, a execução sempre entrará no loop, pois a condição é simplesmente o valor True . Depois que o usuário passa dessa instrução if , é solicitada uma senha. Se a senha inserida for correta, a instrução break será executada e a execução sairá do loop while para imprimir Acesso concedido. Caso contrário, a execução continua até o final do loop while , onde retorna ao início do loop."
   ]
  },
  {
   "cell_type": "markdown",
   "metadata": {},
   "source": [
    "![image 10](../Figuras/aula02/img10.jpg)"
   ]
  },
  {
   "cell_type": "markdown",
   "metadata": {},
   "source": [
    "# Loop for e a função range()\n",
    "O loop while continua em loop enquanto sua condição for True (que é a razão de seu nome), mas e se você quiser executar um bloco de código apenas um determinado número de vezes? Você pode fazer isso com uma instrução de loop for e a função range() .\n",
    "\n",
    "No código, uma instrução for se parece com _for i in range(5):_ e inclui o seguinte:\n",
    "* A palavra-chave for\n",
    "* Um nome de variável\n",
    "* A palavra-chave in\n",
    "* Uma chamada ao método range() com até três números inteiros passados ​​para ele\n",
    "* Dois pontos\n",
    "* Começando na próxima linha, um bloco de código recuado (chamado de cláusula for )"
   ]
  },
  {
   "cell_type": "code",
   "execution_count": null,
   "metadata": {},
   "outputs": [],
   "source": [
    "print('My name is')\n",
    "for item in range(5): # de 0 a 4, i.e., limite superior não é considerado\n",
    "    print('Jimmy Five Times (' + str(item) + ')')"
   ]
  },
  {
   "cell_type": "markdown",
   "metadata": {},
   "source": [
    "![image 11](../Figuras/aula02/img11.jpg)"
   ]
  },
  {
   "cell_type": "markdown",
   "metadata": {},
   "source": [
    "https://autbor.com/fivetimesfor/"
   ]
  },
  {
   "cell_type": "markdown",
   "metadata": {},
   "source": [
    ">Você também pode usar instruções break e continue dentro de loops for . A instrução continue continuará até o próximo valor do contador do loop for , como se a execução do programa tivesse atingido o final do loop e retornado ao início. Na verdade, você pode usar instruções continue e break apenas dentro de loops while e for . Se você tentar usar essas instruções em outro lugar, o Python apresentará um erro."
   ]
  },
  {
   "cell_type": "markdown",
   "metadata": {},
   "source": [
    " Quando Gauss era menino, um professor disse-lhes para somar todos os números de 0 a 100. O jovem Gauss inventou um truque inteligente para descobrir a resposta em poucos segundos, mas você pode escrever um programa Python com um loop for para fazer esse cálculo para você ."
   ]
  },
  {
   "cell_type": "code",
   "execution_count": null,
   "metadata": {},
   "outputs": [],
   "source": [
    "total = 0\n",
    "for num in range(101):\n",
    "    total = total + num\n",
    "print(total)  "
   ]
  },
  {
   "cell_type": "markdown",
   "metadata": {},
   "source": [
    "O jovem Gauss descobriu uma maneira de resolver o problema em segundos. Existem 50 pares de números que somam 101: 1 + 100, 2 + 99, 3 + 98 e assim por diante, até 50 + 51. Desde 50 × 101 é 5.050, a soma de todos os números de 0 a 100 é 5.050."
   ]
  },
  {
   "cell_type": "markdown",
   "metadata": {},
   "source": [
    "# Loop ``while`` equivalente"
   ]
  },
  {
   "cell_type": "markdown",
   "metadata": {},
   "source": [
    "você pode usar um loop while para fazer a mesma coisa que um loop for ; \n",
    "\n",
    "loops for são apenas mais concisos"
   ]
  },
  {
   "cell_type": "code",
   "execution_count": null,
   "metadata": {},
   "outputs": [],
   "source": [
    "print('My name is')\n",
    "i = 0\n",
    "while i < 5:\n",
    "    print('Jimmy Five Times (' + str(i) + ')')\n",
    "    i = i + 1"
   ]
  },
  {
   "cell_type": "markdown",
   "metadata": {},
   "source": [
    "# Os argumentos inicial, final e gradual para range()\n",
    "Algumas funções podem ser chamadas com vários argumentos separados por vírgula, e range() é um deles. Isso permite alterar o número inteiro passado para range() para seguir qualquer sequência de números inteiros, inclusive começando em um número diferente de zero."
   ]
  },
  {
   "cell_type": "code",
   "execution_count": null,
   "metadata": {},
   "outputs": [],
   "source": [
    "for i in range(12, 16):\n",
    "    print(i)"
   ]
  },
  {
   "cell_type": "markdown",
   "metadata": {},
   "source": [
    "A função range() também pode ser chamada com três argumentos. Os dois primeiros argumentos serão os valores inicial e final, e o terceiro será o argumento step . O passo é o valor pelo qual a variável é aumentada após cada iteração."
   ]
  },
  {
   "cell_type": "code",
   "execution_count": null,
   "metadata": {},
   "outputs": [],
   "source": [
    "for i in range(0, 10, 2):\n",
    "    print(i)"
   ]
  },
  {
   "cell_type": "code",
   "execution_count": null,
   "metadata": {},
   "outputs": [],
   "source": [
    "for i in range(5, -1, -1):\n",
    "    print(i)"
   ]
  },
  {
   "cell_type": "markdown",
   "metadata": {},
   "source": [
    "> Embora qualquer laço possa ser escrito usando ``while`` ou ``for``, a escolha é baseada principalmente no estilo. Por exemplo, se o laço precisa de uma inicialização e um incremento, então o ``for`` geralmente é usado. No caso em que o número de repetições não é pré-determinado em geral usa-se o ``while``."
   ]
  },
  {
   "cell_type": "markdown",
   "metadata": {},
   "source": [
    "O ``for`` também pode iterar sobre listas ou dicionarios:"
   ]
  },
  {
   "cell_type": "code",
   "execution_count": 15,
   "metadata": {},
   "outputs": [
    {
     "name": "stdout",
     "output_type": "stream",
     "text": [
      "As suas notas na disciplina foram:\n",
      "-- 7.5\n",
      "-- 6\n",
      "-- 8\n",
      "A média foi 7.17\n"
     ]
    }
   ],
   "source": [
    "notas = [7.5, 6, 8]\n",
    "media = 0\n",
    "\n",
    "print(\"As suas notas na disciplina foram:\")\n",
    "\n",
    "for nota in notas:\n",
    "    print(f\"-- {nota}\")\n",
    "    media += nota/len(notas)\n",
    "\n",
    "print(f\"A média foi {media:.2f}\")"
   ]
  },
  {
   "cell_type": "code",
   "execution_count": null,
   "metadata": {},
   "outputs": [],
   "source": [
    "aluno = {\n",
    "    'nome': \"Pedro\",\n",
    "    'idade': \"23\",\n",
    "    'curso': \"Engenharia de Produção Civil\"\n",
    "}\n",
    "\n",
    "print(\"-- Dados do aluno --\")\n",
    "\n",
    "for key, value in aluno.items():\n",
    "    print(f\"* {key}: {value}\")"
   ]
  },
  {
   "cell_type": "markdown",
   "metadata": {},
   "source": [
    "# Exemplo na Engenharia Civil\n",
    "\n",
    "Como exemplo do que discutimos, vamos imaginar que temos um estoque de materiais que será utilizado em uma obra, e precisamos verificar se a quantidade disponível é suficiente. Para isso, devemos iterar sobre o dicionário que contém as quantidades dos materiais e verificar se estão corretas."
   ]
  },
  {
   "cell_type": "code",
   "execution_count": null,
   "metadata": {},
   "outputs": [],
   "source": [
    "materiais = {\n",
    "    \"areia\": 20,   # em kg\n",
    "    \"cimento\": 200,# em kg\n",
    "    \"tijolos\": 500\n",
    "}\n",
    "\n",
    "for material, quantidade in materiais.items():\n",
    "    if material == \"areia\" and quantidade < 50:\n",
    "        print(\"Quantidade insuficiente de areia!\")\n",
    "    elif material == \"cimento\" and quantidade < 100:\n",
    "        print(\"Quantidade insuficiente de cimento!\")\n",
    "    elif material == \"tijolos\" and quantidade < 300:\n",
    "        print(\"Quantidade insuficiente de tijolos!\")\n",
    "    else:\n",
    "        print(f\"Quantidade suficiente de {material}.\")"
   ]
  },
  {
   "cell_type": "markdown",
   "metadata": {},
   "source": [
    "- [Aula Anterior](Aula1_ConceitosBasicos.ipynb) | [Próxima Aula](Aula3_ImportandoModulos.ipynb)"
   ]
  }
 ],
 "metadata": {
  "kernelspec": {
   "display_name": "Python 3",
   "language": "python",
   "name": "python3"
  },
  "language_info": {
   "codemirror_mode": {
    "name": "ipython",
    "version": 3
   },
   "file_extension": ".py",
   "mimetype": "text/x-python",
   "name": "python",
   "nbconvert_exporter": "python",
   "pygments_lexer": "ipython3",
   "version": "3.12.6"
  },
  "orig_nbformat": 4
 },
 "nbformat": 4,
 "nbformat_minor": 2
}
