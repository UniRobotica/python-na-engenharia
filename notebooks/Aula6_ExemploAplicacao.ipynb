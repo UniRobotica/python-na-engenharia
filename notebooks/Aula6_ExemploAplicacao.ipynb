{
 "cells": [
  {
   "cell_type": "markdown",
   "metadata": {},
   "source": [
    "```{thebe-init}\n",
    "---\n",
    "thebe: true\n",
    "---"
   ]
  },
  {
   "cell_type": "markdown",
   "metadata": {},
   "source": [
    "# Exemplo de aplicação 1\n",
    "Calcular as reações de apoio, momento de flexão máxima e forças cortantes em uma viga bi-apoiada com carga distribuída retangular"
   ]
  },
  {
   "cell_type": "markdown",
   "metadata": {},
   "source": [
    "![image.png](Figuras/aula06/img1.png)"
   ]
  },
  {
   "cell_type": "markdown",
   "metadata": {},
   "source": [
    "Na imagem tem-se uma viga bi apoiada com uma carga q distribuída de forma retangular a uma distância l. Considere a carga q em kN/m e a distância l  em metros. O apoio A é de fixo e o apoio B é deslizante.\n",
    "\n",
    "Escreva um programa Python que solicita ao usuário que informe o valor da carga q e a distância l entre os apoios A e B. Em seguida mostre os valores das reações nos apoios A e B, o momento de flexão máxima da viga e o momento de flexão para uma determinada distância (que o usuário informará) a partir do apoio A. Mostre também as forças cortantes nos apoios A e B. "
   ]
  },
  {
   "cell_type": "code",
   "execution_count": 1,
   "metadata": {},
   "outputs": [
    {
     "ename": "ValueError",
     "evalue": "could not convert string to float: ''",
     "output_type": "error",
     "traceback": [
      "\u001b[1;31m---------------------------------------------------------------------------\u001b[0m",
      "\u001b[1;31mValueError\u001b[0m                                Traceback (most recent call last)",
      "Cell \u001b[1;32mIn[1], line 50\u001b[0m\n\u001b[0;32m     47\u001b[0m   \u001b[38;5;28mprint\u001b[39m(\u001b[38;5;124m\"\u001b[39m\u001b[38;5;124mA força cortante no apoio B é: \u001b[39m\u001b[38;5;132;01m{0}\u001b[39;00m\u001b[38;5;124m kN\u001b[39m\u001b[38;5;124m\"\u001b[39m\u001b[38;5;241m.\u001b[39mformat(cortante_b))\n\u001b[0;32m     49\u001b[0m \u001b[38;5;28;01mif\u001b[39;00m \u001b[38;5;18m__name__\u001b[39m\u001b[38;5;241m==\u001b[39m \u001b[38;5;124m\"\u001b[39m\u001b[38;5;124m__main__\u001b[39m\u001b[38;5;124m\"\u001b[39m: \u001b[38;5;66;03m# checagem de escopo de execução\u001b[39;00m\n\u001b[1;32m---> 50\u001b[0m   \u001b[43mmain\u001b[49m\u001b[43m(\u001b[49m\u001b[43m)\u001b[49m\n",
      "Cell \u001b[1;32mIn[1], line 10\u001b[0m, in \u001b[0;36mmain\u001b[1;34m()\u001b[0m\n\u001b[0;32m      8\u001b[0m \u001b[38;5;28;01mdef\u001b[39;00m \u001b[38;5;21mmain\u001b[39m():\n\u001b[0;32m      9\u001b[0m   \u001b[38;5;66;03m# vamos pedir para o usuário informar o valor da carga\u001b[39;00m\n\u001b[1;32m---> 10\u001b[0m   carga \u001b[38;5;241m=\u001b[39m \u001b[38;5;28;43mfloat\u001b[39;49m\u001b[43m(\u001b[49m\u001b[38;5;28;43minput\u001b[39;49m\u001b[43m(\u001b[49m\u001b[38;5;124;43m\"\u001b[39;49m\u001b[38;5;124;43mValor da carga em kN/m: \u001b[39;49m\u001b[38;5;124;43m\"\u001b[39;49m\u001b[43m)\u001b[49m\u001b[43m)\u001b[49m\n\u001b[0;32m     12\u001b[0m   \u001b[38;5;66;03m# vamos pedir para o usuário informar a distância entre os apoios\u001b[39;00m\n\u001b[0;32m     13\u001b[0m   distancia \u001b[38;5;241m=\u001b[39m \u001b[38;5;28mfloat\u001b[39m(\u001b[38;5;28minput\u001b[39m(\u001b[38;5;124m\"\u001b[39m\u001b[38;5;124mDistancia em metros: \u001b[39m\u001b[38;5;124m\"\u001b[39m))\n",
      "\u001b[1;31mValueError\u001b[0m: could not convert string to float: ''"
     ]
    }
   ],
   "source": [
    "# Algoritmo que calcula reação de apoio, momento fletor\n",
    "# e força cortante em uma viga bi-apoiada em Python\n",
    " \n",
    "# vamos importar o módulo Math\n",
    "import math\n",
    " \n",
    "# função principal do programa\n",
    "def main():\n",
    "  # vamos pedir para o usuário informar o valor da carga\n",
    "  carga = float(input(\"Valor da carga em kN/m: \"))\n",
    "   \n",
    "  # vamos pedir para o usuário informar a distância entre os apoios\n",
    "  distancia = float(input(\"Distancia em metros: \"))\n",
    "   \n",
    "  # vamos calcular a reação no apoio A\n",
    "  reacao_a = (1.0 / 2.0) * carga * distancia\n",
    "   \n",
    "  # vamos calcular a reação no apoio B\n",
    "  reacao_b = reacao_a\n",
    "   \n",
    "  # vamos calcular o momento fletor máximo\n",
    "  flexao_maxima = (1.0 / 8.0) * carga * math.pow(distancia, 2.0)\n",
    "   \n",
    "  # e mostramos o resultado\n",
    "  print(\"\\nA reação no apoio A é: {0} kN\".format(reacao_a))\n",
    "  print(\"A reação no apoio B é: {0} kN\".format(reacao_b))\n",
    "  print(\"O momento fletor máximo é: {0} kN\".format(flexao_maxima))\n",
    "   \n",
    "  # vamos pedir para o usuário informar uma distância a\n",
    "  # partir do apoio A\n",
    "  distancia_temp = float(input(\"\\nInforme uma distância a partir do apoio A: \"))\n",
    "  # vamos mostrar o momento fletor na distância informada\n",
    "  if distancia_temp > distancia:\n",
    "    print(\"\\nDistância inválida.\")\n",
    "  else:\n",
    "    flexao_distancia = (1.0 / 2.0) * carga * distancia_temp * \\\n",
    "      (distancia - distancia_temp)\n",
    "    print(\"O momento fletor na distância informada é: {0} kN\".format(\n",
    "      flexao_distancia))  \n",
    "    \n",
    "  # vamos mostrar a força cortante no apoio A\n",
    "  cortante_a = (1.0 / 2.0) * carga * distancia\n",
    "  print(\"\\nA força cortante no apoio A é: {0} kN\".format(cortante_a))\n",
    "   \n",
    "  # vamos mostrar a força cortante no apoio B\n",
    "  cortante_b = cortante_a * -1\n",
    "  print(\"A força cortante no apoio B é: {0} kN\".format(cortante_b))\n",
    "   \n",
    "if __name__== \"__main__\": # checagem de escopo de execução\n",
    "  main()\n",
    "\n"
   ]
  }
 ],
 "metadata": {
  "kernelspec": {
   "display_name": "Python 3",
   "language": "python",
   "name": "python3"
  },
  "language_info": {
   "codemirror_mode": {
    "name": "ipython",
    "version": 3
   },
   "file_extension": ".py",
   "mimetype": "text/x-python",
   "name": "python",
   "nbconvert_exporter": "python",
   "pygments_lexer": "ipython3",
   "version": "3.11.9"
  }
 },
 "nbformat": 4,
 "nbformat_minor": 2
}
