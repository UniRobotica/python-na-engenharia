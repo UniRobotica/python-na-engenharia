{
 "cells": [
  {
   "cell_type": "markdown",
   "metadata": {},
   "source": [
    "```{thebe-init}\n",
    "---\n",
    "thebe: true\n",
    "---"
   ]
  },
  {
   "cell_type": "markdown",
   "metadata": {
    "id": "1hmzDIcx77VR"
   },
   "source": [
    "- <a href=\"https://github.com/UniRobotica/cursos/blob/main/Informatica_Aplicada/Notebooks/Python%20Basico/Aula1_ConceitosBasicos.ipynb\" target=\"_blank\">Link da aula no GitHub</a>\n",
    "\n",
    "- <a href=\"https://colab.research.google.com/github/UniRobotica/cursos/blob/main/Informatica_Aplicada/Notebooks/Python%20Basico/Aula1_ConceitosBasicos.ipynb\" target=\"_blank\">Link da aula no Colab</a>\n",
    "\n",
    "# O que é programar\n",
    "\n",
    "Programar é simplesmente o ato de inserir instruções para o computador executar. Essas instruções podem processar alguns números, modificar texto, procurar informações em arquivos ou comunicar-se com outros computadores pela Internet.\n",
    "\n",
    "Todos os programas usam instruções básicas como blocos de construção. Aqui estão alguns dos mais comuns, em inglês:\n",
    "\n",
    "“Do this; then do that.”\n",
    "“If this condition is true, perform this action; otherwise, do that action.”\n",
    "“Do this action exactly 27 times.”\n",
    "“Keep doing that until this condition is true.”"
   ]
  },
  {
   "cell_type": "markdown",
   "metadata": {},
   "source": [
<<<<<<< HEAD
    "![Image 1!](./Figuras/aula01/img01.png)"
=======
    "![notebooks\\Figuras\\FluxoVF.png](Figuras/FluxoVF.png)"
>>>>>>> main
   ]
  },
  {
   "cell_type": "markdown",
   "metadata": {
    "id": "bvEi92-F77VT"
   },
   "source": [
    "Você também pode combinar esses blocos de construção para implementar decisões mais complexas. Por exemplo, aqui estão as instruções de programação, chamadas de código-fonte , para um programa simples escrito na linguagem de programação Python. Começando no topo, o software Python executa cada linha de código (algumas linhas são executadas apenas se uma determinada condição for verdadeira ou então o Python executa alguma outra linha) até chegar ao final."
   ]
  },
  {
   "cell_type": "code",
   "execution_count": null,
   "metadata": {
    "id": "-Zi39QLf77VU"
   },
   "outputs": [],
   "source": [
    "passwordFile = open('SecretPasswordFile.txt') #atribui conteúdo do arquivo a variável passwordfile\n",
    "secretPassword = passwordFile.read() #cria uma váriável secretPassword atribui o conteúdo de passwordfile\n",
    "print('Enter your password.') #mostra na tela a frase Enter...\n",
    "typedPassword = input() #cria outra vária typedPassword e requer entrada de conteúdo ao usuário\n",
    "if typedPassword == secretPassword:  #estrutura condicional para conferência da senha\n",
    "   print('Access granted')\n",
    "   if typedPassword == '12345':\n",
    "      print('That password is very easy.')\n",
    "   elif typedPassword == 'cpd066':\n",
    "      print('Computação Aplicada.')\n",
    "else:\n",
    "      print('Access denied')"
   ]
  },
  {
   "cell_type": "markdown",
   "metadata": {
    "id": "vXrUBS9H77VV"
   },
   "source": [
    "Na verdade, ser bom em programação não é muito diferente de ser bom em resolver quebra-cabeças"
   ]
  },
  {
   "cell_type": "markdown",
   "metadata": {},
   "source": [
<<<<<<< HEAD
    "![Image 2](./Figuras/aula01/img02.png)"
=======
    "![sudoku](Figuras/sudoku.png)"
   ]
  },
  {
   "cell_type": "markdown",
   "metadata": {},
   "source": [
    "![pythonIDE](Figuras/pythonIDE.png)"
>>>>>>> main
   ]
  },
  {
   "cell_type": "markdown",
   "metadata": {},
   "source": [
    "![Image 3!](./Figuras/aula01/img03.png)"
   ]
  },
  {
   "cell_type": "markdown",
   "metadata": {
    "id": "ge7X9AuL77VW"
   },
   "source": [
    "[colab](https://colab.research.google.com/)"
   ]
  },
  {
   "cell_type": "markdown",
   "metadata": {
    "id": "cxQLjV5G77VW"
   },
   "source": [
    "https://replit.com/"
   ]
  },
  {
   "cell_type": "markdown",
   "metadata": {
    "id": "moHqiR6m77VW"
   },
   "source": [
    "https://codewith.mu/en/about"
   ]
  },
  {
   "cell_type": "markdown",
   "metadata": {
    "id": "5TKKC6In77VW"
   },
   "source": [
    "## Encontrando Ajuda\n",
    "\n",
    "Por exemplo, vamos causar um erro propositalmente"
   ]
  },
  {
   "cell_type": "code",
   "execution_count": null,
   "metadata": {
    "id": "uidw7Wia77VX"
   },
   "outputs": [],
   "source": [
    "\"42\" + \"3"
   ]
  },
  {
   "cell_type": "markdown",
   "metadata": {
    "id": "iWav9Xt977VX"
   },
   "source": [
    "Se você vir a mensagem de erro SyntaxError: EOL while scaning string literal , provavelmente esqueceu o caractere de aspas simples final no final da string, como neste exemplo"
   ]
  },
  {
   "cell_type": "code",
   "execution_count": null,
   "metadata": {
    "id": "K53c-0UV77VX"
   },
   "outputs": [],
   "source": [
    "'Ola Mundo'"
   ]
  },
  {
   "cell_type": "code",
   "execution_count": null,
   "metadata": {
    "id": "5xBP4I6777VX"
   },
   "outputs": [],
   "source": [
    "print('Ola Mundo)"
   ]
  },
  {
   "cell_type": "markdown",
   "metadata": {
    "id": "5H-Z-2G477VX"
   },
   "source": [
    "## Instalando Módulos de Terceiros\n",
    "Alguns códigos Python exigem que seu programa importe módulos. Alguns desses módulos vêm com Python, mas outros são módulos de terceiros criados por desenvolvedores fora da equipe principal de desenvolvimento do Python."
   ]
  },
  {
   "cell_type": "markdown",
<<<<<<< HEAD
   "metadata": {
    "id": "qC8hj6Jl77VX"
   },
   "source": [
    "É importante ter uma “mentalidade construtiva” em relação à programação – em outras palavras, entender que as pessoas desenvolvem habilidades de programação através da prática."
   ]
  },
  {
   "cell_type": "markdown",
   "metadata": {
    "id": "n4HCt6P577VY"
   },
   "source": [
    "## Inserindo Expressões"
   ]
  },
  {
   "cell_type": "markdown",
   "metadata": {
    "id": "NI5PG0c977VY"
   },
   "source": [
    "| Operador | Operação        | Exemplo | Resultado |\n",
    "| -------- | --------        | ------- | --------- |\n",
    "| **       | Exponencial     | 2 ** 3  | 8         |\n",
    "| %        | Modulo / Resto  | 22 % 8  | 6         |\n",
    "| //       | Divisão inteira | 22 // 8 | 2         |\n",
    "| /        | Divisão         | 22 / 8  | 2.75      |\n",
    "| *        | Multiplicação   | 3 * 5   | 15        |\n",
    "| -        | Subtração       | 5 - 2   | 3         |\n",
    "| +        | Adição          | 2 + 2   | 4         |"
=======
   "metadata": {},
   "source": [
    "É importante ter uma “mentalidade construtiva” em relação à programação – em outras palavras, entender que as pessoas desenvolvem habilidades de programação através da prática. "
   ]
  },
  {
   "cell_type": "markdown",
   "metadata": {},
   "source": [
    "# Inserindo Expressões"
   ]
  },
  {
   "cell_type": "markdown",
   "metadata": {},
   "source": [
    "![operArit](Figuras/operArit.png)"
>>>>>>> main
   ]
  },
  {
   "cell_type": "code",
   "execution_count": null,
   "metadata": {
    "id": "HrzMD17Z77VY"
   },
   "outputs": [],
   "source": [
    "2 + 3 * 6"
   ]
  },
  {
   "cell_type": "code",
   "execution_count": null,
   "metadata": {
    "id": "BBE0I6y577VY"
   },
   "outputs": [],
   "source": [
    "2 ** 8"
   ]
  },
  {
   "cell_type": "code",
   "execution_count": null,
   "metadata": {
    "id": "wJa7KP5E77VY"
   },
   "outputs": [],
   "source": [
    "23 / 7"
   ]
  },
  {
   "cell_type": "code",
   "execution_count": null,
   "metadata": {
    "id": "PSAsBToA77VY"
   },
   "outputs": [],
   "source": [
    "22 % 2"
   ]
  },
  {
   "cell_type": "code",
   "execution_count": null,
   "metadata": {
    "id": "Xyn438u-77VZ"
   },
   "outputs": [],
   "source": [
    "23 % 2"
   ]
  },
  {
   "cell_type": "code",
   "execution_count": null,
   "metadata": {
    "id": "ZvxC6BsE77VZ"
   },
   "outputs": [],
   "source": [
    "24 // 8"
   ]
  },
  {
   "cell_type": "code",
   "execution_count": null,
   "metadata": {
    "id": "3IoKFsFU77VZ"
   },
   "outputs": [],
   "source": [
    "import math\n",
    "math.sqrt(4)"
   ]
  },
  {
   "cell_type": "markdown",
   "metadata": {
    "id": "83lbguuJ77VZ"
   },
   "source": [
    "## Precedência\n",
    "A ordem das operações (também chamada de precedência ) dos operadores matemáticos do Python é semelhante à da matemática.\n",
    "\n",
    "O operador ** é avaliado primeiro; os operadores * , / , // e % são avaliados a seguir, da esquerda para a direita; e os operadores + e - são avaliados por último (também da esquerda para a direita).\n",
    "\n",
    "Você pode usar parênteses para substituir a precedência usual, se necessário. O espaço em branco entre os operadores e os valores não importa para o Python (exceto o recuo no início da linha), mas um único espaço é uma convenção."
   ]
  },
  {
   "cell_type": "code",
   "execution_count": null,
   "metadata": {
    "id": "UDUeU1JC77VZ"
   },
   "outputs": [],
   "source": [
    "5 - 1 * ((7 + 1) / (3 - 1))"
   ]
  },
  {
   "cell_type": "code",
   "execution_count": null,
   "metadata": {
    "id": "ofdCog-K77VZ"
   },
   "outputs": [],
   "source": [
    "(5 - 1) * ((7 + 1) / (3 - 1))"
   ]
  },
  {
   "cell_type": "markdown",
   "metadata": {
    "id": "0XJcCX3Z77Va"
   },
   "source": [
    "Python continuará avaliando partes da expressão até que ela se torne um valor único, conforme mostrado aqui"
   ]
  },
  {
   "cell_type": "markdown",
   "metadata": {},
<<<<<<< HEAD
   "source": [
    "![Image 4](./Figuras/aula01/img04.png)"
   ]
  },
  {
   "cell_type": "markdown",
   "metadata": {
    "id": "Bmh1yy5c77Va"
   },
   "source": [
    "## Tipos de dados inteiro, ponto flutuante e string"
=======
   "source": [
    "![execEspressoes](Figuras/execExpressoes.png)"
>>>>>>> main
   ]
  },
  {
   "cell_type": "markdown",
<<<<<<< HEAD
   "metadata": {
    "id": "eBDn7B8977Va"
   },
   "source": [
    "| Tipo de Dado                              | Exemplos                         |\n",
    "| ---                                       | ---                              |\n",
    "| Inteiros ``int``                          | -2, -1, 0, 1, 2                  |\n",
    "| Números com ponto flutuante ``float``     | -1.25, -1.0, -0.5, 1.0           |\n",
    "| Texto ``String``                          | 'a', 'aa', 'Hello', ' Olá, Mundo!|    "
=======
   "metadata": {},
   "source": [
    "# Tipos de dados inteiro, ponto flutuante e string"
   ]
  },
  {
   "cell_type": "markdown",
   "metadata": {},
   "source": [
    "![tipoDados.png](Figuras/tipoDados.png)"
>>>>>>> main
   ]
  },
  {
   "cell_type": "markdown",
   "metadata": {
    "id": "9C7nqMkN77Vb"
   },
   "source": [
    "## Concatenação e replicação de strings"
   ]
  },
  {
   "cell_type": "code",
   "execution_count": null,
   "metadata": {
    "id": "CQP8U_Cf77Vb"
   },
   "outputs": [],
   "source": [
    "'Alice' + 'Bob'"
   ]
  },
  {
   "cell_type": "code",
   "execution_count": null,
   "metadata": {
    "id": "JOyuQkp077Vb"
   },
   "outputs": [],
   "source": [
    "'Alice' + 42"
   ]
  },
  {
   "cell_type": "code",
   "execution_count": null,
   "metadata": {
    "id": "JKcT2dnM77Vb",
    "outputId": "0a4dabbd-9faa-4b50-e133-ccb1ec607d5a"
   },
   "outputs": [
    {
     "data": {
      "text/plain": [
       "'AliceAliceAliceAliceAlice'"
      ]
     },
     "execution_count": 3,
     "metadata": {},
     "output_type": "execute_result"
    }
   ],
   "source": [
    "'Alice' * 5"
   ]
  },
  {
   "cell_type": "code",
   "execution_count": null,
   "metadata": {
    "id": "ZqEQNO9Q77Vc",
    "outputId": "ccc6530d-dbbd-4324-e5be-17e14a2d9b7e"
   },
   "outputs": [
    {
     "ename": "TypeError",
     "evalue": "can't multiply sequence by non-int of type 'float'",
     "output_type": "error",
     "traceback": [
      "\u001b[1;31m---------------------------------------------------------------------------\u001b[0m",
      "\u001b[1;31mTypeError\u001b[0m                                 Traceback (most recent call last)",
      "Cell \u001b[1;32mIn[2], line 1\u001b[0m\n\u001b[1;32m----> 1\u001b[0m \u001b[38;5;124;43m'\u001b[39;49m\u001b[38;5;124;43mAlice\u001b[39;49m\u001b[38;5;124;43m'\u001b[39;49m\u001b[43m \u001b[49m\u001b[38;5;241;43m*\u001b[39;49m\u001b[43m \u001b[49m\u001b[38;5;241;43m5.0\u001b[39;49m\n",
      "\u001b[1;31mTypeError\u001b[0m: can't multiply sequence by non-int of type 'float'"
     ]
    }
   ],
   "source": [
    "'Alice' * 5.0"
   ]
  },
  {
   "cell_type": "markdown",
   "metadata": {
    "id": "3z1pTpFJ77Vc"
   },
   "source": [
    "## Armazenando Valores em Variáveis\n",
    "Uma variável é como uma caixa na memória do computador onde você pode armazenar um único valor. Se quiser usar o resultado de uma expressão avaliada posteriormente em seu programa, você pode salvá-lo dentro de uma variável."
   ]
  },
  {
   "cell_type": "markdown",
   "metadata": {},
   "source": [
<<<<<<< HEAD
    "![Image 5!](./Figuras/aula01/img05.png)"
=======
    "![image.png](Figuras/variavelCaixa.png)"
>>>>>>> main
   ]
  },
  {
   "cell_type": "markdown",
   "metadata": {
    "id": "OaGBOfoX77Vd"
   },
   "source": [
    "## Declarações de Atribuição\n",
    "Você armazenará valores em variáveis ​​com uma instrução de atribuição . Uma instrução de atribuição consiste em um nome de variável, um sinal de igual (chamado operador de atribuição ) e o valor a ser armazenado. Se você inserir a instrução de atribuição spam = 42 , então uma variável chamada spam terá o valor inteiro 42 armazenado nela."
   ]
  },
  {
   "cell_type": "code",
   "execution_count": null,
   "metadata": {
    "id": "EONmDSww77Vd"
   },
   "outputs": [],
   "source": [
    "num1 = 42"
   ]
  },
  {
   "cell_type": "code",
   "execution_count": null,
   "metadata": {
    "id": "kJGipxUk77Vd"
   },
   "outputs": [],
   "source": [
    "num1"
   ]
  },
  {
   "cell_type": "code",
   "execution_count": null,
   "metadata": {
    "id": "d0e3vKut77Vd"
   },
   "outputs": [],
   "source": [
    "num1 = 10"
   ]
  },
  {
   "cell_type": "code",
   "execution_count": null,
   "metadata": {
    "id": "qC-iBm-s77Vd"
   },
   "outputs": [],
   "source": [
    "num2 = 2"
   ]
  },
  {
   "cell_type": "code",
   "execution_count": null,
   "metadata": {
    "id": "r1q-sBEj77Ve"
   },
   "outputs": [],
   "source": [
    "num1 + num2"
   ]
  },
  {
   "cell_type": "markdown",
   "metadata": {
    "id": "uAaU45iB77Ve"
   },
   "source": [
    "Uma variável é inicializada (ou criada) na primeira vez que um valor é armazenado nela. Depois disso, você poderá utilizá-lo em expressões com outras variáveis ​​e valores . Quando um novo valor é atribuído a uma variável , o valor antigo é esquecido. Isso é chamado de sobrescrever a variável."
   ]
  },
  {
   "cell_type": "code",
   "execution_count": null,
<<<<<<< HEAD
   "metadata": {
    "id": "K0CzPnVp77Ve"
   },
   "outputs": [],
   "source": [
    "num1 + num2 + num1"
=======
   "metadata": {},
   "outputs": [],
   "source": [
    "spam + num1 + spam"
>>>>>>> main
   ]
  },
  {
   "cell_type": "code",
   "execution_count": null,
<<<<<<< HEAD
   "metadata": {
    "id": "YBE8v2Bb77Vf"
   },
   "outputs": [],
   "source": [
    "num1 = num1 + 2\n",
    "num1\n"
=======
   "metadata": {},
   "outputs": [],
   "source": [
    "\n",
    "spam = spam + 2\n",
    "spam\n"
>>>>>>> main
   ]
  },
  {
   "cell_type": "code",
   "execution_count": null,
<<<<<<< HEAD
   "metadata": {
    "id": "_Sjm012I77Vf"
   },
   "outputs": [],
   "source": [
    "msg = 'Hello'\n",
    "msg"
=======
   "metadata": {},
   "outputs": [],
   "source": [
    "spam = 'Hello'\n",
    "spam"
>>>>>>> main
   ]
  },
  {
   "cell_type": "markdown",
   "metadata": {},
   "source": [
<<<<<<< HEAD
    "![Image 6!](./Figuras/aula01/img06.png)"
=======
    "![image.png](Figuras/trocarVariavelCaixa.png)"
>>>>>>> main
   ]
  },
  {
   "cell_type": "code",
   "execution_count": null,
   "metadata": {
    "id": "k4htT3TU77Vf"
   },
   "outputs": [],
   "source": [
    "msg = 'Goodbye'\n",
    "msg"
   ]
  },
  {
   "cell_type": "code",
   "execution_count": null,
   "metadata": {
    "id": "UwIBh1Ez77Vf"
   },
   "outputs": [],
   "source": [
    "msg = input()\n",
    "msg"
   ]
  },
  {
   "cell_type": "code",
   "execution_count": null,
   "metadata": {
    "id": "geXjaQ0h77Vg"
   },
   "outputs": [],
   "source": [
    "msg = msg + \" à engenharia\"\n",
    "msg"
   ]
  },
  {
   "cell_type": "code",
   "execution_count": null,
   "metadata": {
    "id": "7hlgGgC277Vg"
   },
   "outputs": [],
   "source": [
    "msg = msg + 1"
   ]
  },
  {
   "cell_type": "code",
   "execution_count": null,
   "metadata": {
    "id": "On7cOzj377Vg"
   },
   "outputs": [],
   "source": [
    "msg = input()"
   ]
  },
  {
   "cell_type": "code",
   "execution_count": null,
   "metadata": {
    "id": "OgVWjHLl77Vg"
   },
   "outputs": [],
   "source": [
    "msg"
   ]
  },
  {
   "cell_type": "code",
   "execution_count": null,
   "metadata": {
    "id": "y1e-BwLX77Vh"
   },
   "outputs": [],
   "source": [
    "num1 = num1 + 1"
   ]
  },
  {
   "cell_type": "code",
   "execution_count": null,
   "metadata": {
    "id": "AxQC-R4Y77Vh"
   },
   "outputs": [],
   "source": [
    "num1 = int(num1)\n",
    "num1"
   ]
  },
  {
   "cell_type": "code",
   "execution_count": null,
   "metadata": {
    "id": "wMF8jhEu77Vh"
   },
   "outputs": [],
   "source": [
    "num1 = num1 + 1\n",
    "num1"
   ]
  },
  {
   "cell_type": "code",
   "execution_count": null,
   "metadata": {
    "id": "vq-OJOHS77Vh"
   },
   "outputs": [],
   "source": [
    "int(.70975858858) + 1"
   ]
  },
  {
   "cell_type": "code",
   "execution_count": null,
   "metadata": {
    "id": "BsiggNrS77Vh"
   },
   "outputs": [],
   "source": [
    "num2 = 20\n",
    "num2 = num2 + 1"
   ]
  },
  {
   "cell_type": "code",
   "execution_count": null,
   "metadata": {
    "id": "j7JVhMTS77Vi"
   },
   "outputs": [],
   "source": [
    "num2"
   ]
  },
  {
   "cell_type": "markdown",
   "metadata": {
    "id": "NFgRKJpe77Vi"
   },
   "source": [
    "## Nomes de variáveis"
   ]
  },
  {
   "cell_type": "markdown",
   "metadata": {
    "id": "WTa7tTZf77Vi"
   },
   "source": [
    "Um bom nome de variável descreve os dados que ela contém. Imagine que você se mudou para uma nova casa e rotulou todas as suas caixas de mudança como \"Coisas\" . Você nunca encontraria nada!\n",
    "Em seus programas, um nome descritivo ajudará a tornar seu código mais legível.\n",
    "\n",
    "Embora você possa nomear suas variáveis ​​de quase qualquer coisa, o Python tem algumas restrições de nomenclatura.\n",
    "\n",
    "Você pode nomear uma variável como quiser, desde que ela obedeça às três regras a seguir:\n",
    "\n",
    "* Pode ser apenas uma palavra sem espaços.\n",
    "* Ele pode usar apenas letras, números e o caractere de sublinhado ( _ ).\n",
    "* Não pode começar com um número."
   ]
  },
  {
   "cell_type": "markdown",
   "metadata": {
    "id": "getZKKYf77Vi"
   },
   "source": [
    "Os nomes das variáveis ​​diferenciam maiúsculas de minúsculas, o que significa que spam , SPAM , Spam e sPaM são quatro variáveis ​​diferentes. Embora Spam seja uma variável válida que você pode usar em um programa, é uma convenção do Python iniciar suas variáveis ​​com uma letra minúscula.\n",
    "\n",
    "Usamos o estilo camelcase para nomes de variáveis ​​em vez de sublinhados; isto é, variáveis ​​lookLikeThis em vez de looks_like_this"
   ]
  },
  {
   "cell_type": "markdown",
   "metadata": {
    "id": "5v2c6AWP77Vi"
   },
   "source": [
<<<<<<< HEAD
    "| Nomes válidos de variáveis | Nomes inválidos de variável                 |\n",
    "| -------------------------- | ---------------------------                 |\n",
    "| current_balance            | current-balance (hifens não são permitidos) |\n",
    "| currentBalance             | current balance (espaços não são permitidos)|\n",
    "| account4                   | 4account (não pode começar com um número)   |\n",
    "| _42                        | 42 (não pode começar com um número)         |\n",
    "| TOTAL_SUM                  | TOTAL_\\$UM (caracteres especiais como \\$ não são permitidos)|\n",
    "| hello                      | 'hello' (caracteres especiais como ' não são permitidos)|"
=======
    "![image.png](Figuras/nomesValidos.png)"
>>>>>>> main
   ]
  },
  {
   "cell_type": "code",
   "execution_count": null,
   "metadata": {
    "id": "ujlCv8GM77Vi"
   },
   "outputs": [],
   "source": [
    "# This program says hello and asks for my name.\n",
    "print('Hello, world!') # alô mundo\n",
    "#print('What is your name?')    # ask for their name\n",
    "myName = input('What is your name?') #requer uma entrada do usuário e associa esta a variável myName\n",
    "print(myName) #mostra na tela o conteúdo da variável\n",
    "print('Hello, world ' + myName + '!') # alô mundo"
   ]
  },
  {
   "cell_type": "markdown",
   "metadata": {
    "id": "dCx0ENAq77Vj"
   },
   "source": [
    "## A função print()\n",
    "A função print() exibe o valor da string entre parênteses na tela."
   ]
  },
  {
   "cell_type": "code",
   "execution_count": null,
   "metadata": {
    "id": "nxZ-s5we77Vj"
   },
   "outputs": [],
   "source": [
    "print('It is good to meet you, ' + myName)"
   ]
  },
  {
   "cell_type": "markdown",
   "metadata": {
    "id": "ZZniYsOW77Vj"
   },
   "source": [
    "Quando Python executa esta linha, você diz que Python está chamando a função print() e o valor da string está sendo passado para a função. Um valor passado para uma chamada de função é um argumento . Notar que as cotas (aspas) não são impressas na tela. Eles apenas marcam onde a string começa e termina; eles não fazem parte do valor da string."
   ]
  },
  {
   "cell_type": "code",
   "execution_count": null,
   "metadata": {
    "id": "HOeOUdYK77Vj"
   },
   "outputs": [],
   "source": [
    "print(f'It is good to meet you, ', myName)"
   ]
  },
  {
   "cell_type": "markdown",
   "metadata": {
    "id": "w5WXEUgu77Vj"
   },
   "source": [
    "## A função len()\n",
    "Você pode passar para a função len() um valor de string (ou uma variável contendo uma string), e a função será avaliada como o valor inteiro do número de caracteres nessa string."
   ]
  },
  {
   "cell_type": "code",
   "execution_count": null,
   "metadata": {
    "id": "77dcWKUW77Vj"
   },
   "outputs": [],
   "source": [
    "print('The length of your name is:')\n",
    "print()\n",
    "print(len(myName))"
   ]
  },
  {
   "cell_type": "markdown",
   "metadata": {
    "id": "yELLRZET77Vk"
   },
   "source": [
    "## A função input()\n",
    "A função input() espera que o usuário digite algum texto no teclado e pressione ENTER"
   ]
  },
  {
   "cell_type": "markdown",
   "metadata": {
    "id": "CZ2xhsKq77Vk"
   },
   "source": [
    "## As funções str(), int() e float()\n",
    "Se você quiser concatenar um número inteiro com uma string para passar para print() , você precisará obter o valor '' , que é a forma de string. A função str() pode receber um valor inteiro e será avaliada como uma versão de valor de string do inteiro, como segue:"
   ]
  },
  {
   "cell_type": "code",
   "execution_count": null,
   "metadata": {
    "id": "to01ISTu77Vk"
   },
   "outputs": [],
   "source": [
    "print('What is your age?')    # ask for their age\n",
    "myAge = input()\n",
    "print('You will be ' + str(int(myAge) + 1) + ' in a year.')"
   ]
  },
  {
   "cell_type": "code",
   "execution_count": null,
   "metadata": {
    "id": "jHN4D6ri77Vk"
   },
   "outputs": [],
   "source": [
    "print('What is your age?')    # ask for their age\n",
    "myAge = input()\n",
    "print('You will be ' + str(int(myAge) + 1) + ' in a year.')"
   ]
  },
  {
   "cell_type": "markdown",
   "metadata": {
    "id": "Rsw-B4V077Vk"
   },
   "source": [
<<<<<<< HEAD
    "![Image 7!](./Figuras/aula01/img07.png)"
=======
    "![image.png](Figuras/printExec.png)"
>>>>>>> main
   ]
  },
  {
   "cell_type": "markdown",
   "metadata": {
    "id": "TofR-hkI77Vk"
   },
   "source": [
    "As funções str() , int() e float() serão avaliadas nas formas string, inteiro e ponto flutuante do valor que você passa, respectivamente."
   ]
  },
  {
   "cell_type": "code",
   "execution_count": null,
   "metadata": {
    "id": "KrSPtaPD77Vl"
   },
   "outputs": [],
   "source": [
    "msg\n"
   ]
  },
  {
   "cell_type": "code",
   "execution_count": null,
   "metadata": {
    "id": "MewAnthX77Vl"
   },
   "outputs": [],
   "source": [
    "'msg'"
   ]
  },
  {
   "cell_type": "code",
   "execution_count": null,
   "metadata": {
    "id": "P-KXZjpc77Vl"
   },
   "outputs": [],
   "source": [
    "str(0)"
   ]
  },
  {
   "cell_type": "code",
   "execution_count": null,
   "metadata": {
    "id": "Z5QFWkwY77Vl"
   },
   "outputs": [],
   "source": [
    "str(-3.14)\n"
   ]
  },
  {
   "cell_type": "code",
   "execution_count": null,
   "metadata": {
    "id": "BLRp2kkr77Vl"
   },
   "outputs": [],
   "source": [
    "int('42')\n"
   ]
  },
  {
   "cell_type": "code",
   "execution_count": null,
   "metadata": {
    "id": "alTtoDwu77Vm"
   },
   "outputs": [],
   "source": [
    "int('-99')\n"
   ]
  },
  {
   "cell_type": "code",
   "execution_count": null,
   "metadata": {
    "id": "xrb2cIC377Vm"
   },
   "outputs": [],
   "source": [
    "#int(1.25)\n",
    "#int(1.99)\n",
    "#float('3.14')\n",
    "float(10)"
   ]
  },
  {
   "cell_type": "markdown",
   "metadata": {
    "id": "wh87yv9A77Vm"
   },
   "source": [
    "A função str() é útil quando você tem um número inteiro ou flutuante que deseja concatenar com uma string. A função int() também é útil se você tiver um número como valor de string que deseja usar em alguma matemática. Por exemplo, a função input() sempre retorna uma string, mesmo que o usuário insira um número."
   ]
  },
  {
   "cell_type": "code",
   "execution_count": null,
   "metadata": {
    "id": "dZ8FOqYr77Vm"
   },
   "outputs": [],
   "source": [
    "msg = input()\n",
    "msg"
   ]
  },
  {
   "cell_type": "code",
   "execution_count": null,
   "metadata": {
    "id": "geOvU2sq77Vm"
   },
   "outputs": [],
   "source": [
    "msg * 10/5"
   ]
  },
  {
   "cell_type": "markdown",
   "metadata": {
    "id": "TP2xgUF077Vm"
   },
   "source": [
    "O valor armazenado no spam não é o número inteiro, mas a string '' . Se você quiser fazer contas usando o valor em spam , use a função int() para obter a forma inteira de spam e armazene-a como o novo valor em spam ."
   ]
  },
  {
   "cell_type": "code",
   "execution_count": null,
   "metadata": {
    "id": "ykaIU9V977Vm"
   },
   "outputs": [],
   "source": [
    "msg = int(msg)\n",
    "msg"
   ]
  },
  {
   "cell_type": "code",
   "execution_count": null,
   "metadata": {
    "id": "CUUM12CW77Vn"
   },
   "outputs": [],
   "source": [
    "msg * 10/5"
   ]
  },
  {
   "cell_type": "markdown",
   "metadata": {
    "id": "xrziTMCK77Vn"
   },
   "source": [
    "A função int() também é útil se você precisar arredondar um número de ponto flutuante para baixo."
   ]
  },
  {
   "cell_type": "code",
   "execution_count": null,
   "metadata": {
    "id": "mfXwFlZj77Vn"
   },
   "outputs": [],
   "source": [
    "int(7.7)"
   ]
  },
  {
   "cell_type": "markdown",
   "metadata": {
    "id": "et1KtMFO77Vn"
   },
   "source": [
    "## Equivalência ente números"
   ]
  },
  {
   "cell_type": "code",
   "execution_count": null,
   "metadata": {
    "id": "6bWBpBjB77Vn"
   },
   "outputs": [],
   "source": [
    "42 == '42'\n"
   ]
  },
  {
   "cell_type": "code",
   "execution_count": null,
   "metadata": {
    "id": "3N18J7eh77Vn"
   },
   "outputs": [],
   "source": [
    "42 == 42.0\n"
   ]
  },
  {
   "cell_type": "code",
   "execution_count": null,
   "metadata": {
    "id": "Mh761dpr77Vn",
    "outputId": "80a0615d-56ff-4824-e45e-0b82b76d5b83"
   },
   "outputs": [
    {
     "data": {
      "text/plain": [
       "True"
      ]
     },
     "execution_count": 7,
     "metadata": {},
     "output_type": "execute_result"
    }
   ],
   "source": [
    "42.0 == 0042.000\n"
   ]
  },
  {
   "cell_type": "markdown",
   "metadata": {
    "id": "wWTC4QK577Vo"
   },
   "source": [
    "## Exemplo na Engenharia Civil\n",
    "Um exemplo simples de aplicação na área de engenharia civil é o calculo da tensão normal em uma coluna. Para isso, nós iremos utilizar da seguinte formula:\n",
    "\n",
    "<math>\n",
    "    <mn>T</mn>\n",
    "    <mo>=</mo>\n",
    "    <mfrac>\n",
    "        <mrow>\n",
    "            <msub>\n",
    "                <mn>F</mn>\n",
    "                <mn>N</mn>\n",
    "            </msub>\n",
    "        </mrow>\n",
    "        <mrow>\n",
    "            <mn>A</mn>\n",
    "        </mrow>\n",
    "    </mfrac>\n",
    "</math>\n",
    "\n",
    "Onde:\n",
    "\n",
    "* T = Tensão;\n",
    "* F<sub>N</sub> = Força Normal;\n",
    "* A = Área da seção transversal da coluna.\n",
    "\n",
    "\n",
<<<<<<< HEAD
    "[Exemplo](http://www.profwillian.com/materiais/prob/01.033.pdf) - Calcule a tensão sobre a seguinte coluna:"
   ]
  },
  {
   "cell_type": "markdown",
   "metadata": {
    "id": "XWNIU-56A1bQ"
   },
   "source": [
    "![Image 8](./Figuras/aula01/img08.png)"
=======
    "[Exemplo](http://www.profwillian.com/materiais/prob/01.033.pdf) - Calcule a tensão sobre a seguinte coluna:\n",
    "\n",
    "<img src=\"Figuras/exemplo_tensao.png\" width=\"250px\"/>"
>>>>>>> main
   ]
  },
  {
   "cell_type": "code",
   "execution_count": null,
   "metadata": {
    "id": "1EfwZhUf77Vo",
    "outputId": "63c17a70-c9b0-4955-bb73-fa6a9cc4461d"
   },
   "outputs": [
    {
     "name": "stdout",
     "output_type": "stream",
     "text": [
      "A tensão foi de 1.8181818181818181 N/mm²\n"
     ]
    }
   ],
   "source": [
    "F = 8000\n",
    "A = 10*(75+75)*2+(70+70)*10\n",
    "T = F/A\n",
    "\n",
    "print(\"A tensão foi de \"+str(T)+\" N/mm²\")"
   ]
  },
  {
   "cell_type": "markdown",
   "metadata": {
    "id": "bzM960ek77Vo"
   },
   "source": [
    "## Referências\n",
    "\n",
    "https://automatetheboringstuff.com/"
   ]
  }
 ],
 "metadata": {
  "colab": {
   "provenance": []
  },
  "kernelspec": {
   "display_name": "Python 3",
   "language": "python",
   "name": "python3"
  },
  "language_info": {
   "codemirror_mode": {
    "name": "ipython",
    "version": 3
   },
   "file_extension": ".py",
   "mimetype": "text/x-python",
   "name": "python",
   "nbconvert_exporter": "python",
   "pygments_lexer": "ipython3",
   "version": "3.12.6"
  },
  "orig_nbformat": 4
 },
 "nbformat": 4,
 "nbformat_minor": 0
}
